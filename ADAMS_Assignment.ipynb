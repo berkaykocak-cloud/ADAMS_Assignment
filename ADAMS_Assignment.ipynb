{
 "cells": [
  {
   "cell_type": "markdown",
   "metadata": {},
   "source": [
    "##### *Name: Berkay Koçak*"
   ]
  },
  {
   "cell_type": "markdown",
   "metadata": {},
   "source": [
    "##### *Student ID: 614468*"
   ]
  },
  {
   "cell_type": "markdown",
   "metadata": {},
   "source": [
    "##### *E-mail: kocakberkayy@gmail.com*"
   ]
  },
  {
   "cell_type": "markdown",
   "metadata": {},
   "source": [
    "# ADVANCED DATA ANALYTICS FOR MANAGEMENT SUPPORT - ASSIGNMENT"
   ]
  },
  {
   "cell_type": "markdown",
   "metadata": {},
   "source": [
    "## Table of Contents"
   ]
  },
  {
   "cell_type": "markdown",
   "metadata": {},
   "source": [
    "    1. Introduction\n",
    "    2. Data Preperation & Exploratory Data Analysis\n",
    "        2.1. Text Features\n",
    "        2.2. Host Features\n",
    "        2.3. Property Features\n",
    "        2.4. Location Features\n",
    "        2.5. Review Features\n",
    "    3. Model Structure\n",
    "        3.1. Data Preperation\n",
    "            3.1.1. Non-text Columns\n",
    "            3.1.2. Text Columns\n",
    "        3.2. Benchmark Models\n",
    "            3.2.1. Random Forest Regressor\n",
    "            3.2.2. Extreme Gradient Regressor\n",
    "            3.2.3. Support Vector Regressor\n",
    "            3.2.4. GRU\n",
    "        3.3. RNN Structure\n",
    "            3.3.1. LSTM\n",
    "            3.3.2. Bidirectional LSTM\n",
    "            3.3.3. Stacked LSTM   \n",
    "        3.4. Complete Model\n",
    "    4. Application to Test Data\n",
    "    5. Conclusions"
   ]
  },
  {
   "cell_type": "markdown",
   "metadata": {},
   "source": [
    "## 1. Introduction"
   ]
  },
  {
   "cell_type": "markdown",
   "metadata": {},
   "source": [
    "Airbnb is a platform which meets the hosts and guests to expand on housing possibilities. While the hosts are using the application to rent their own properties to number of guests of their choice, the platform offers a variety of housing options for guests looking for a place to stay. The company which has experienced an unprecedented growth in the past decades also has a massive interest in the analysis of the generated data. The dataset that is used in this project comes from AirBnb listings."
   ]
  },
  {
   "cell_type": "markdown",
   "metadata": {},
   "source": [
    "The aim of this assignment is to predict the rental price per night of AirBnb listings while making use of a wide range of NLP techniques. The data includes both textual and tabular formats. Therefore, one of the main parts of this assignment is to build a NN based model structure that can incorporate both data types. \n",
    "\n",
    "In the following sections, first the data preparation and the exploratory data analysis for the features are handled. Then, a model structure is defined. For this reason, several benchmark models and RNN structures are tried and a composite model is developed. Finally, the model is applied to the test data to come up with predictions."
   ]
  },
  {
   "cell_type": "code",
   "execution_count": 1,
   "metadata": {},
   "outputs": [],
   "source": [
    "#Standard Libraries\n",
    "import numpy  as np \n",
    "import pandas as pd\n",
    "import time\n",
    "from IPython import display\n",
    "\n",
    "# Libraries for data visualization\n",
    "import seaborn as sns\n",
    "import matplotlib.pyplot as plt\n",
    "%matplotlib inline\n",
    "\n",
    "# Library re provides regular expressions functionality\n",
    "import re\n",
    "\n",
    "# Saving and loaded objects\n",
    "import pickle\n",
    "\n",
    "# Library beatifulsoup4 handles html\n",
    "from bs4 import BeautifulSoup\n",
    "\n",
    "# Standard NLP workflow\n",
    "import nltk\n",
    "from nltk.tokenize import word_tokenize\n",
    "from nltk.corpus import wordnet\n",
    "from nltk.corpus import stopwords\n",
    "from nltk.stem import WordNetLemmatizer\n",
    "from nltk.tokenize.treebank import TreebankWordDetokenizer\n",
    "import textstat\n",
    "from collections import Counter\n",
    "from nltk.tokenize import sent_tokenize\n",
    "\n",
    "# For data preperation before modeling\n",
    "from sklearn.model_selection import train_test_split\n",
    "from sklearn.preprocessing import StandardScaler\n",
    "import datetime\n",
    "from sklearn.preprocessing import MinMaxScaler\n",
    "\n",
    "# For target encoding\n",
    "#pip install category_encoders\n",
    "import category_encoders as ce\n",
    "\n",
    "# Benchmark Models\n",
    "from sklearn.ensemble import RandomForestRegressor\n",
    "import xgboost as xgb\n",
    "from sklearn import svm\n",
    "from sklearn.model_selection import GridSearchCV\n",
    "\n",
    "# Evaluation metrics\n",
    "from sklearn.metrics import mean_squared_error, mean_absolute_error\n",
    "import math # for sqrt\n",
    "from sklearn.model_selection import cross_val_score\n",
    "from statistics import mean\n",
    "\n",
    "# GENSIM and LSTM models\n",
    "from keras.preprocessing.text import Tokenizer\n",
    "from keras.preprocessing.sequence import pad_sequences\n",
    "from keras.models import Sequential, Model\n",
    "from keras.layers import Input, concatenate, Dense, Embedding, LSTM, GRU, Bidirectional, BatchNormalization, Dropout\n",
    "from keras.layers.embeddings import Embedding\n",
    "from keras.initializers import Constant\n",
    "from keras.callbacks import EarlyStopping\n",
    "from gensim.models import KeyedVectors\n",
    "from gensim.models.keyedvectors import Word2VecKeyedVectors\n",
    "from tensorflow.keras import activations, losses"
   ]
  },
  {
   "cell_type": "code",
   "execution_count": 2,
   "metadata": {},
   "outputs": [],
   "source": [
    "# In order to show every column when analysing the data\n",
    "pd.set_option('display.max_columns', None)"
   ]
  },
  {
   "cell_type": "code",
   "execution_count": 3,
   "metadata": {},
   "outputs": [
    {
     "name": "stdout",
     "output_type": "stream",
     "text": [
      "(55284, 42) (29769, 41)\n"
     ]
    }
   ],
   "source": [
    "# Reading the train and the test data\n",
    "train = pd.read_csv(\"C:/Users/Berkay Kocak/Desktop/ADAMS/ASSIGNMENT_DATA/train.csv\")\n",
    "test  = pd.read_csv('C:/Users/Berkay Kocak/Desktop/ADAMS/ASSIGNMENT_DATA/test.csv')\n",
    "reviews = pd.read_csv(\"C:/Users/Berkay Kocak/Desktop/ADAMS/ASSIGNMENT_DATA/reviews.csv\")\n",
    "print(train.shape, test.shape)"
   ]
  },
  {
   "cell_type": "markdown",
   "metadata": {},
   "source": [
    "## 2. Data Preparation & Exploratory Data Analysis"
   ]
  },
  {
   "cell_type": "markdown",
   "metadata": {},
   "source": [
    "In this section, data preparation and exploratory data analysis for the features are carried out simultaneously. Moreover, when it seemed to be necessary and helpful for the models, new features are also engineered in this part."
   ]
  },
  {
   "cell_type": "markdown",
   "metadata": {},
   "source": [
    "The \"summary\" feature is excluded from the dataset since the content is already included in the \"description\" column for the majority of instances one of which is shown below. \"Space\" is also outside the scope of this project since it also gives repetitive information that other columns such as \"bedrooms\", \"beds\" and \"amenities\" contain. In addition, \"house_rules\" attribute is also disregarded since the rules of the house are not a strong determinant of the price of a house. The \"neighbourhood_cleansed\" column is used while the \"neighbourhood\" column is disregarded. Finally, the \"picture_url\" feature is also eliminated since the related data will not be used for this project."
   ]
  },
  {
   "cell_type": "code",
   "execution_count": 4,
   "metadata": {},
   "outputs": [
    {
     "name": "stdout",
     "output_type": "stream",
     "text": [
      "\u001b[1mThe summary column provides:\u001b[0m\n",
      "\n",
      "Nice private room available for up to 3 people in a 4 Bedroom apartment. Great location, only 3 Mins walk from Shadwell Station. We provide fresh bed linen and towels Please note you will be sharing the kitchen and bathroom with other guests. Feel free to book.\n",
      "\n",
      "\n",
      "\u001b[1mThe description column provides:\u001b[0m\n",
      "\n",
      "Nice private room available for up to 3 people in a 4 Bedroom apartment. Great location, only 3 Mins walk from Shadwell Station. We provide fresh bed linen and towels Please note you will be sharing the kitchen and bathroom with other guests. Feel free to book. Room comes with comfortable bunk bed ( double bottom/single top) , bedside table with lamp, wardrobe, big windows with lots of light, carpet. Kitchen is fully fitted with everything you need (fridge-freezer, cooker with 4 burners, oven, microwave, kettle, toaster, cutlery, plates, glasses, mugs, pots, pans etc.…) We provide tea, coffee and sugar There is a bathroom with toilet. There is key box set up next to the apartment entrance. Once the booking is confirmed, we will provide you with the full check in information. Access to kitchen including fridge / freezer, washing machine, hob and oven. All plates, cutlery and cooking essentials provided. Clean towels are included along with bedding. Please note our office is open every d\n"
     ]
    }
   ],
   "source": [
    "print('\\033[1m'+\"The summary column provides:\"+'\\033[0m'+\"\\n\")\n",
    "print(train.summary.iloc[21])\n",
    "print(\"\\n\")\n",
    "print('\\033[1m'+\"The description column provides:\"+'\\033[0m' \"\\n\")\n",
    "print(train.description.iloc[21])"
   ]
  },
  {
   "cell_type": "code",
   "execution_count": 5,
   "metadata": {},
   "outputs": [
    {
     "name": "stdout",
     "output_type": "stream",
     "text": [
      "\u001b[1mThe space column provides:\u001b[0m\n",
      "\n",
      "Room comes with comfortable bunk bed ( double bottom/single top) , bedside table with lamp, wardrobe, big windows with lots of light, carpet. Kitchen is fully fitted with everything you need (fridge-freezer, cooker with 4 burners, oven, microwave, kettle, toaster, cutlery, plates, glasses, mugs, pots, pans etc.…) We provide tea, coffee and sugar There is a bathroom with toilet.\n",
      "\n",
      "\n",
      "\u001b[1mThe amenities column provides:\u001b[0m\n",
      "\n",
      "{Wifi,Kitchen,Heating,Washer,Essentials,Shampoo,\"Lock on bedroom door\",Hangers,\"Hot water\",\"Bed linens\",Microwave,Refrigerator,\"Dishes and silverware\",\"Cooking basics\",Oven,Stove}\n"
     ]
    }
   ],
   "source": [
    "print('\\033[1m'+\"The space column provides:\"+'\\033[0m'+\"\\n\")\n",
    "print(train.space.iloc[21])\n",
    "print(\"\\n\")\n",
    "print('\\033[1m'+\"The amenities column provides:\"+'\\033[0m' \"\\n\")\n",
    "print(train.amenities.iloc[21])"
   ]
  },
  {
   "cell_type": "code",
   "execution_count": 6,
   "metadata": {},
   "outputs": [],
   "source": [
    "# Dropping unnecessary columns\n",
    "train.drop([\"summary\",\"picture_url\",\"space\",\"house_rules\",\"neighbourhood\"], inplace=True, axis=1)"
   ]
  },
  {
   "cell_type": "code",
   "execution_count": 7,
   "metadata": {},
   "outputs": [],
   "source": [
    "# Dropping unnecessary columns\n",
    "test.drop([\"summary\",\"picture_url\",\"space\",\"house_rules\",\"neighbourhood\"], inplace=True, axis=1)"
   ]
  },
  {
   "cell_type": "code",
   "execution_count": 8,
   "metadata": {},
   "outputs": [],
   "source": [
    "# Partitioning the data into subgroups for analysis. They will be analysed in detail in the next section.\n",
    "text_features=[\"name\",\"description\",\"neighborhood_overview\",\"transit\",\"amenities\"]\n",
    "\n",
    "host_features = [\"host_id\", \"host_since\", \"host_response_time\", \"host_response_rate\",\"host_is_superhost\", \n",
    "                  \"host_total_listings_count\",\"host_has_profile_pic\", \"host_identity_verified\"]\n",
    "\n",
    "property_features = [\"experiences_offered\",\"property_type\",\"room_type\", \"accommodates\", \"bathrooms\", \"bedrooms\",\n",
    "       \"beds\", \"bed_type\",\"guests_included\",\"cancellation_policy\"]\n",
    "\n",
    "review_features = [\"review_scores_rating\", \"review_scores_accuracy\",\"review_scores_cleanliness\", \"review_scores_checkin\",\n",
    "       \"review_scores_communication\", \"review_scores_location\",\"review_scores_value\", \"reviews_per_month\"]\n",
    "\n",
    "location_features = [\"neighbourhood_cleansed\", \"outward_code\",\"latitude\",\"longitude\"]"
   ]
  },
  {
   "cell_type": "markdown",
   "metadata": {},
   "source": [
    "##### Note:"
   ]
  },
  {
   "cell_type": "markdown",
   "metadata": {},
   "source": [
    "From this point on every change that is made on the train dataset is also applied to test dataset in each sub-section for ease of following and interpretation. Applications on test set will not be elaborated additionally unless it is necassary."
   ]
  },
  {
   "cell_type": "markdown",
   "metadata": {},
   "source": [
    "### 2.1. Text Features"
   ]
  },
  {
   "cell_type": "markdown",
   "metadata": {},
   "source": [
    "Missing values in the text features are replaced with an empty string. This way the embeddings of the related observations will be vectors consisting of 0s which will have the most desired effect on the deep learning algorithms that will be employed in this assignment. "
   ]
  },
  {
   "cell_type": "code",
   "execution_count": 9,
   "metadata": {},
   "outputs": [
    {
     "data": {
      "text/plain": [
       "name                        14\n",
       "description               1726\n",
       "neighborhood_overview    19506\n",
       "transit                  19807\n",
       "amenities                    0\n",
       "dtype: int64"
      ]
     },
     "execution_count": 9,
     "metadata": {},
     "output_type": "execute_result"
    }
   ],
   "source": [
    "train[text_features].isna().sum()"
   ]
  },
  {
   "cell_type": "code",
   "execution_count": 10,
   "metadata": {},
   "outputs": [],
   "source": [
    "# \"NA\" values are changed with an empty text.\n",
    "train.name.fillna(\"\",inplace=True)\n",
    "train.description.fillna(\"\",inplace=True)\n",
    "train.neighborhood_overview.fillna(\"\",inplace=True)\n",
    "train.transit.fillna(\"\",inplace=True)"
   ]
  },
  {
   "cell_type": "code",
   "execution_count": 11,
   "metadata": {},
   "outputs": [
    {
     "data": {
      "text/plain": [
       "name                     0\n",
       "description              0\n",
       "neighborhood_overview    0\n",
       "transit                  0\n",
       "amenities                0\n",
       "dtype: int64"
      ]
     },
     "execution_count": 11,
     "metadata": {},
     "output_type": "execute_result"
    }
   ],
   "source": [
    "train[text_features].isna().sum()"
   ]
  },
  {
   "cell_type": "code",
   "execution_count": 12,
   "metadata": {},
   "outputs": [],
   "source": [
    "# \"NA\" values are changed with an empty text.\n",
    "test.name.fillna(\"\",inplace=True)\n",
    "test.description.fillna(\"\",inplace=True)\n",
    "test.neighborhood_overview.fillna(\"\",inplace=True)\n",
    "test.transit.fillna(\"\",inplace=True)"
   ]
  },
  {
   "cell_type": "code",
   "execution_count": 13,
   "metadata": {},
   "outputs": [
    {
     "data": {
      "text/plain": [
       "0    {Wifi,\"Paid parking off premises\",Heating,Wash...\n",
       "1    {TV,Wifi,\"Free parking on premises\",Breakfast,...\n",
       "2    {Wifi,Kitchen,\"Paid parking off premises\",Heat...\n",
       "3    {TV,Wifi,Kitchen,Heating,Washer,\"Smoke detecto...\n",
       "4    {TV,Wifi,Kitchen,\"Paid parking off premises\",H...\n",
       "Name: amenities, dtype: object"
      ]
     },
     "execution_count": 13,
     "metadata": {},
     "output_type": "execute_result"
    }
   ],
   "source": [
    "train.amenities.head(n=5)"
   ]
  },
  {
   "cell_type": "markdown",
   "metadata": {},
   "source": [
    "As can be seen above, \"amenities\" column has several unwanted non alpha-numeric characters that needs to be handled. To this purpose, a new function clean_alt_list is defined. The purpose of the function is to replace the characters with empty strings."
   ]
  },
  {
   "cell_type": "code",
   "execution_count": 14,
   "metadata": {},
   "outputs": [],
   "source": [
    "# Function for cleaning the columns amenities and response rate.\n",
    "def clean_alt_list(list_):\n",
    "    list_ = list_.replace('\"', '')\n",
    "    list_ = list_.replace('{', '')\n",
    "    list_ = list_.replace('}', '}')\n",
    "    list_ = list_.replace(\"%\",\"\")\n",
    "    list_ = list_.replace(',', ' ')\n",
    "    return list_"
   ]
  },
  {
   "cell_type": "markdown",
   "metadata": {},
   "source": [
    "The new version of the amenities can be seen below. The unwanted characters are handled and the column is ready to be tokenized after some further cleaning that is introduced below."
   ]
  },
  {
   "cell_type": "code",
   "execution_count": 15,
   "metadata": {},
   "outputs": [
    {
     "data": {
      "text/plain": [
       "0        Wifi Paid parking off premises Heating Washer ...\n",
       "1        TV Wifi Free parking on premises Breakfast Fre...\n",
       "2        Wifi Kitchen Paid parking off premises Heating...\n",
       "3        TV Wifi Kitchen Heating Washer Smoke detector ...\n",
       "4        TV Wifi Kitchen Paid parking off premises Heat...\n",
       "                               ...                        \n",
       "55279    TV Cable TV Wifi Wheelchair accessible Kitchen...\n",
       "55280    TV Wifi Kitchen Heating Smoke detector Fire ex...\n",
       "55281    TV Cable TV Wifi Kitchen Free parking on premi...\n",
       "55282    Wifi Kitchen Paid parking off premises Elevato...\n",
       "55283    TV Wifi Paid parking off premises Pets allowed...\n",
       "Name: amenities, Length: 55284, dtype: object"
      ]
     },
     "execution_count": 15,
     "metadata": {},
     "output_type": "execute_result"
    }
   ],
   "source": [
    "# Non alpha-numeric characters are removed from the amenities column\n",
    "amenities_edited = train.amenities.apply(clean_alt_list)\n",
    "amenities_edited"
   ]
  },
  {
   "cell_type": "code",
   "execution_count": 16,
   "metadata": {},
   "outputs": [],
   "source": [
    "# Non alpha-numeric characters are removed from the amenities column\n",
    "amenities_edited_test = test.amenities.apply(clean_alt_list)"
   ]
  },
  {
   "cell_type": "code",
   "execution_count": 17,
   "metadata": {},
   "outputs": [],
   "source": [
    "# Lemmatize with POS Tag\n",
    "def get_wordnet_pos(word):\n",
    "    \"\"\"Map POS tag to first character for lemmatization\"\"\"\n",
    "    tag = nltk.pos_tag([word])[0][1][0].upper()\n",
    "    tag_dict = {\"J\": wordnet.ADJ,\n",
    "                \"N\": wordnet.NOUN,\n",
    "                \"V\": wordnet.VERB,\n",
    "                \"R\": wordnet.ADV}\n",
    "\n",
    "    return tag_dict.get(tag, wordnet.NOUN)"
   ]
  },
  {
   "cell_type": "code",
   "execution_count": 18,
   "metadata": {},
   "outputs": [],
   "source": [
    "def clean_reviews(df):\n",
    "    \"\"\" Standard NLP pre-processing chain including removal of html tags, non-alphanumeric characters, and stopwords.\n",
    "        Words are subject to lemmatization using their POS tags, which are determind using WordNet. \n",
    "    \"\"\"\n",
    "    reviews = []\n",
    "\n",
    "    lemmatizer = WordNetLemmatizer()\n",
    "    \n",
    "    print('*' * 40)\n",
    "    print('Cleaning {} rows.'.format(df.shape[0]))\n",
    "    counter = 0\n",
    "    for name in df:\n",
    "        \n",
    "        # remove html content\n",
    "        review_text = BeautifulSoup(name).get_text()\n",
    "        \n",
    "        # remove newlines\n",
    "        review_text = review_text.replace(\"\\n\", \" \")\n",
    "        review_text = review_text.replace(\"\\xa0\", \" \")\n",
    "        \n",
    "        # remove URLs\n",
    "        review_text = re.sub(r'http\\S+', '', review_text)\n",
    "        review_text = re.sub(r'www\\.\\S+', '', review_text)\n",
    "        \n",
    "        # remove non-alphabetic characters\n",
    "        review_text = re.sub(\"[^a-zA-Z]\",\" \", review_text)\n",
    "        \n",
    "        # fix contractions\n",
    "        review_text = re.sub(r\"['’]ll\", \" will\", review_text)\n",
    "        review_text = re.sub(r\"['’]ve\", \" have\", review_text)\n",
    "        review_text = re.sub(r\"['’]re\", \" are\", review_text)\n",
    "        review_text = re.sub(r\"['’]d\", \" would\", review_text)\n",
    "        review_text = re.sub(r\"['’]m\", \" am\", review_text)\n",
    "        review_text = re.sub(r\"(?i)there['’]s\", \"there is\", review_text)\n",
    "        review_text = re.sub(r\"(?i)that['’]s\", \"that is\", review_text)\n",
    "        review_text = re.sub(r\"(?i)it['’]s\", \"it is\", review_text)\n",
    "        review_text = re.sub(r\"(?i)he['’]s\", \"he is\", review_text)\n",
    "        review_text = re.sub(r\"can['’]t\", \"cannot\", review_text)\n",
    "        review_text = re.sub(r\"won['’]t\", \"will not\", review_text)\n",
    "        review_text = re.sub(r\"n['’]t\", \" not\", review_text)\n",
    "        review_text = review_text.replace(\"gonna\", \"going to\")\n",
    "        review_text = review_text.replace(\"wanna\", \"want to\")\n",
    "        review_text = review_text.replace(\"gotta\", \"got to\")\n",
    "    \n",
    "        # tokenize the sentences\n",
    "        words = word_tokenize(review_text.lower())\n",
    "  \n",
    "        # filter stopwords\n",
    "        words = [w for w in words if w not in stopwords.words(\"english\")]\n",
    "        \n",
    "        # lemmatize each word to its lemma\n",
    "        lemma_words =[lemmatizer.lemmatize(i, get_wordnet_pos(i)) for i in words]\n",
    "    \n",
    "        reviews.append(lemma_words)\n",
    "              \n",
    "        if (counter > 0 and counter % 10000 == 0):\n",
    "            print('Processed {} columns'.format(counter))\n",
    "            \n",
    "        counter += 1\n",
    "        \n",
    "    print('DONE')\n",
    "    print('*' * 40)\n",
    "\n",
    "    return(reviews)"
   ]
  },
  {
   "cell_type": "markdown",
   "metadata": {},
   "source": [
    "Now, the data is ready for text cleaning. The functions that are defined above are deployed for cleaning the texts. The steps for cleaning the text data include removing any possible html content, removing non-alphabetic characters, fixing contractions, tokenizing the sentences filtering the stopwords and lemmatizing. "
   ]
  },
  {
   "cell_type": "code",
   "execution_count": 115,
   "metadata": {
    "scrolled": true
   },
   "outputs": [
    {
     "name": "stdout",
     "output_type": "stream",
     "text": [
      "****************************************\n",
      "Cleaning 55284 movie reviews.\n",
      "Processed 10000 reviews\n",
      "Processed 20000 reviews\n",
      "Processed 30000 reviews\n",
      "Processed 40000 reviews\n",
      "Processed 50000 reviews\n",
      "DONE\n",
      "****************************************\n",
      "Cleaned names column in 641.2753252983093 seconds.\n"
     ]
    }
   ],
   "source": [
    "start = time.time()\n",
    "train_name_clean=clean_reviews(train.name)\n",
    "end = time.time()\n",
    "print(f\"Cleaned names column in {end - start} seconds.\")"
   ]
  },
  {
   "cell_type": "code",
   "execution_count": 341,
   "metadata": {},
   "outputs": [
    {
     "name": "stdout",
     "output_type": "stream",
     "text": [
      "****************************************\n",
      "Cleaning 55284 rows.\n",
      "Processed 10000 columns\n",
      "Processed 20000 columns\n",
      "Processed 30000 columns\n",
      "Processed 40000 columns\n",
      "Processed 50000 columns\n",
      "DONE\n",
      "****************************************\n",
      "Cleaned names column in 3932.4807801246643 seconds.\n"
     ]
    }
   ],
   "source": [
    "start = time.time()\n",
    "train_amenities_clean=clean_reviews(amenities_edited)\n",
    "end = time.time()\n",
    "print(f\"Cleaned amenities column in {end - start} seconds.\")"
   ]
  },
  {
   "cell_type": "code",
   "execution_count": 120,
   "metadata": {},
   "outputs": [
    {
     "name": "stdout",
     "output_type": "stream",
     "text": [
      "****************************************\n",
      "Cleaning 55284 movie reviews.\n",
      "Processed 10000 reviews\n",
      "Processed 20000 reviews\n",
      "Processed 30000 reviews\n",
      "Processed 40000 reviews\n",
      "Processed 50000 reviews\n"
     ]
    },
    {
     "name": "stderr",
     "output_type": "stream",
     "text": [
      "C:\\Users\\Berkay Kocak\\Anaconda3\\lib\\site-packages\\bs4\\__init__.py:294: UserWarning: \"b'...'\" looks like a filename, not markup. You should probably open this file and pass the filehandle into Beautiful Soup.\n",
      "  ' Beautiful Soup.' % markup)\n"
     ]
    },
    {
     "name": "stdout",
     "output_type": "stream",
     "text": [
      "DONE\n",
      "****************************************\n",
      "Cleaned names column in 10643.700334787369 seconds.\n"
     ]
    }
   ],
   "source": [
    "start = time.time()\n",
    "train_description_clean=clean_reviews(train.description)\n",
    "end = time.time()\n",
    "print(f\"Cleaned description column in {end - start} seconds.\")"
   ]
  },
  {
   "cell_type": "code",
   "execution_count": 121,
   "metadata": {},
   "outputs": [
    {
     "name": "stdout",
     "output_type": "stream",
     "text": [
      "****************************************\n",
      "Cleaning 55284 movie reviews.\n",
      "Processed 10000 reviews\n",
      "Processed 20000 reviews\n",
      "Processed 30000 reviews\n"
     ]
    },
    {
     "name": "stderr",
     "output_type": "stream",
     "text": [
      "C:\\Users\\Berkay Kocak\\Anaconda3\\lib\\site-packages\\bs4\\__init__.py:357: UserWarning: \"https://ru.airbnb.com/things-to-do/london\" looks like a URL. Beautiful Soup is not an HTTP client. You should probably use an HTTP client like requests to get the document behind the URL, and feed that document to Beautiful Soup.\n",
      "  ' that document to Beautiful Soup.' % decoded_markup\n"
     ]
    },
    {
     "name": "stdout",
     "output_type": "stream",
     "text": [
      "Processed 40000 reviews\n",
      "Processed 50000 reviews\n",
      "DONE\n",
      "****************************************\n",
      "Cleaned neighbourhood column in 3458.544822692871 seconds.\n"
     ]
    }
   ],
   "source": [
    "start = time.time()\n",
    "train_neighborhood_overview_clean=clean_reviews(train.neighborhood_overview)\n",
    "end = time.time()\n",
    "print(f\"Cleaned neighbourhood column in {end - start} seconds.\")"
   ]
  },
  {
   "cell_type": "code",
   "execution_count": 122,
   "metadata": {},
   "outputs": [
    {
     "name": "stdout",
     "output_type": "stream",
     "text": [
      "****************************************\n",
      "Cleaning 55284 movie reviews.\n"
     ]
    },
    {
     "name": "stderr",
     "output_type": "stream",
     "text": [
      "C:\\Users\\Berkay Kocak\\Anaconda3\\lib\\site-packages\\bs4\\__init__.py:294: UserWarning: \"b'......'\" looks like a filename, not markup. You should probably open this file and pass the filehandle into Beautiful Soup.\n",
      "  ' Beautiful Soup.' % markup)\n"
     ]
    },
    {
     "name": "stdout",
     "output_type": "stream",
     "text": [
      "Processed 10000 reviews\n",
      "Processed 20000 reviews\n",
      "Processed 30000 reviews\n",
      "Processed 40000 reviews\n"
     ]
    },
    {
     "name": "stderr",
     "output_type": "stream",
     "text": [
      "C:\\Users\\Berkay Kocak\\Anaconda3\\lib\\site-packages\\bs4\\__init__.py:357: UserWarning: \"https://www.airbnb.co.uk/things-to-do/london\" looks like a URL. Beautiful Soup is not an HTTP client. You should probably use an HTTP client like requests to get the document behind the URL, and feed that document to Beautiful Soup.\n",
      "  ' that document to Beautiful Soup.' % decoded_markup\n"
     ]
    },
    {
     "name": "stdout",
     "output_type": "stream",
     "text": [
      "Processed 50000 reviews\n",
      "DONE\n",
      "****************************************\n",
      "Cleaned transit column in 2632.4617989063263 seconds.\n"
     ]
    }
   ],
   "source": [
    "start = time.time()\n",
    "train_transit_clean=clean_reviews(train.transit)\n",
    "end = time.time()\n",
    "print(f\"Cleaned transit column in {end - start} seconds.\")"
   ]
  },
  {
   "cell_type": "code",
   "execution_count": 342,
   "metadata": {
    "scrolled": true
   },
   "outputs": [
    {
     "name": "stdout",
     "output_type": "stream",
     "text": [
      "****************************************\n",
      "Cleaning 29769 rows.\n",
      "Processed 10000 columns\n"
     ]
    },
    {
     "name": "stderr",
     "output_type": "stream",
     "text": [
      "C:\\Users\\Berkay Kocak\\Anaconda3\\lib\\site-packages\\bs4\\__init__.py:336: MarkupResemblesLocatorWarning: \".\" looks like a filename, not markup. You should probably open this file and pass the filehandle into Beautiful Soup.\n",
      "  MarkupResemblesLocatorWarning\n"
     ]
    },
    {
     "name": "stdout",
     "output_type": "stream",
     "text": [
      "Processed 20000 columns\n",
      "DONE\n",
      "****************************************\n",
      "Cleaned names column in 349.4753751754761 seconds.\n"
     ]
    }
   ],
   "source": [
    "start = time.time()\n",
    "test_name_clean=clean_reviews(test.name)\n",
    "end = time.time()\n",
    "print(f\"Cleaned names column in {end - start} seconds.\")"
   ]
  },
  {
   "cell_type": "code",
   "execution_count": 343,
   "metadata": {},
   "outputs": [
    {
     "name": "stdout",
     "output_type": "stream",
     "text": [
      "****************************************\n",
      "Cleaning 29769 rows.\n",
      "Processed 10000 columns\n",
      "Processed 20000 columns\n",
      "DONE\n",
      "****************************************\n",
      "Cleaned names column in 2097.2218840122223 seconds.\n"
     ]
    }
   ],
   "source": [
    "start = time.time()\n",
    "test_amenities_clean=clean_reviews(amenities_edited_test)\n",
    "end = time.time()\n",
    "print(f\"Cleaned amenities column in {end - start} seconds.\")"
   ]
  },
  {
   "cell_type": "code",
   "execution_count": 344,
   "metadata": {},
   "outputs": [
    {
     "name": "stdout",
     "output_type": "stream",
     "text": [
      "****************************************\n",
      "Cleaning 29769 rows.\n"
     ]
    },
    {
     "name": "stderr",
     "output_type": "stream",
     "text": [
      "C:\\Users\\Berkay Kocak\\Anaconda3\\lib\\site-packages\\bs4\\__init__.py:336: MarkupResemblesLocatorWarning: \"..\" looks like a filename, not markup. You should probably open this file and pass the filehandle into Beautiful Soup.\n",
      "  MarkupResemblesLocatorWarning\n"
     ]
    },
    {
     "name": "stdout",
     "output_type": "stream",
     "text": [
      "Processed 10000 columns\n"
     ]
    },
    {
     "name": "stderr",
     "output_type": "stream",
     "text": [
      "C:\\Users\\Berkay Kocak\\Anaconda3\\lib\\site-packages\\bs4\\__init__.py:336: MarkupResemblesLocatorWarning: \". . .\" looks like a filename, not markup. You should probably open this file and pass the filehandle into Beautiful Soup.\n",
      "  MarkupResemblesLocatorWarning\n"
     ]
    },
    {
     "name": "stdout",
     "output_type": "stream",
     "text": [
      "Processed 20000 columns\n",
      "DONE\n",
      "****************************************\n",
      "Cleaned description column in 5353.478093147278 seconds.\n"
     ]
    }
   ],
   "source": [
    "start = time.time()\n",
    "test_description_clean=clean_reviews(test.description)\n",
    "end = time.time()\n",
    "print(f\"Cleaned description column in {end - start} seconds.\")"
   ]
  },
  {
   "cell_type": "code",
   "execution_count": 345,
   "metadata": {},
   "outputs": [
    {
     "name": "stdout",
     "output_type": "stream",
     "text": [
      "****************************************\n",
      "Cleaning 29769 rows.\n"
     ]
    },
    {
     "name": "stderr",
     "output_type": "stream",
     "text": [
      "C:\\Users\\Berkay Kocak\\Anaconda3\\lib\\site-packages\\bs4\\__init__.py:424: MarkupResemblesLocatorWarning: \"https://www.airbnb.com/locations/london/shoreditch\" looks like a URL. Beautiful Soup is not an HTTP client. You should probably use an HTTP client like requests to get the document behind the URL, and feed that document to Beautiful Soup.\n",
      "  MarkupResemblesLocatorWarning\n",
      "C:\\Users\\Berkay Kocak\\Anaconda3\\lib\\site-packages\\bs4\\__init__.py:336: MarkupResemblesLocatorWarning: \"..........\" looks like a filename, not markup. You should probably open this file and pass the filehandle into Beautiful Soup.\n",
      "  MarkupResemblesLocatorWarning\n"
     ]
    },
    {
     "name": "stdout",
     "output_type": "stream",
     "text": [
      "Processed 10000 columns\n",
      "Processed 20000 columns\n",
      "DONE\n",
      "****************************************\n",
      "Cleaned neighbourhood column in 1790.5071024894714 seconds.\n"
     ]
    }
   ],
   "source": [
    "start = time.time()\n",
    "test_neighborhood_overview_clean=clean_reviews(test.neighborhood_overview)\n",
    "end = time.time()\n",
    "print(f\"Cleaned neighbourhood column in {end - start} seconds.\")"
   ]
  },
  {
   "cell_type": "code",
   "execution_count": 346,
   "metadata": {},
   "outputs": [
    {
     "name": "stdout",
     "output_type": "stream",
     "text": [
      "****************************************\n",
      "Cleaning 29769 rows.\n"
     ]
    },
    {
     "name": "stderr",
     "output_type": "stream",
     "text": [
      "C:\\Users\\Berkay Kocak\\Anaconda3\\lib\\site-packages\\bs4\\__init__.py:336: MarkupResemblesLocatorWarning: \"...\" looks like a filename, not markup. You should probably open this file and pass the filehandle into Beautiful Soup.\n",
      "  MarkupResemblesLocatorWarning\n"
     ]
    },
    {
     "name": "stdout",
     "output_type": "stream",
     "text": [
      "Processed 10000 columns\n",
      "Processed 20000 columns\n",
      "DONE\n",
      "****************************************\n",
      "Cleaned transit column in 1430.7341828346252 seconds.\n"
     ]
    }
   ],
   "source": [
    "start = time.time()\n",
    "test_transit_clean=clean_reviews(test.transit)\n",
    "end = time.time()\n",
    "print(f\"Cleaned transit column in {end - start} seconds.\")"
   ]
  },
  {
   "cell_type": "markdown",
   "metadata": {},
   "source": [
    "Since the procedure takes a fairly high amount of time the outputs of the text cleaning operation are saved to the disc in order to be used in the following steps without repetition. "
   ]
  },
  {
   "cell_type": "code",
   "execution_count": 123,
   "metadata": {},
   "outputs": [],
   "source": [
    "# Writing the clean text columns of train data to disc.\n",
    "with open('train_name_clean.pkl', 'wb') as file_name:\n",
    "    pickle.dump(train_name_clean, file_name)\n",
    "with open('train_description_clean.pkl', 'wb') as file_name:\n",
    "    pickle.dump(train_description_clean, file_name)\n",
    "with open('train_neighborhood_overview_clean.pkl', 'wb') as file_name:\n",
    "    pickle.dump(train_neighborhood_overview_clean, file_name)\n",
    "with open('train_transit_clean.pkl', 'wb') as file_name:\n",
    "    pickle.dump(train_transit_clean, file_name)\n",
    "with open('train_amenities_clean.pkl', 'wb') as file_name:\n",
    "    pickle.dump(train_amenities_clean, file_name)"
   ]
  },
  {
   "cell_type": "code",
   "execution_count": 348,
   "metadata": {},
   "outputs": [],
   "source": [
    "# Writing the clean text columns of test data to disc.\n",
    "with open('test_name_clean.pkl', 'wb') as file_name:\n",
    "    pickle.dump(test_name_clean, file_name)\n",
    "with open('test_description_clean.pkl', 'wb') as file_name:\n",
    "    pickle.dump(test_description_clean, file_name)\n",
    "with open('test_neighborhood_overview_clean.pkl', 'wb') as file_name:\n",
    "    pickle.dump(test_neighborhood_overview_clean, file_name)\n",
    "with open('test_transit_clean.pkl', 'wb') as file_name:\n",
    "    pickle.dump(test_transit_clean, file_name)\n",
    "with open('test_amenities_clean.pkl', 'wb') as file_name:\n",
    "    pickle.dump(test_amenities_clean, file_name)"
   ]
  },
  {
   "cell_type": "code",
   "execution_count": 19,
   "metadata": {},
   "outputs": [],
   "source": [
    "# Reading the clean text columns of train data from disc.\n",
    "with open('train_name_clean.pkl', 'rb') as file_name:\n",
    "    train[\"name_clean\"] = pickle.load(file_name)\n",
    "\n",
    "with open('train_description_clean.pkl', 'rb') as file_name:\n",
    "    train[\"description_clean\"] = pickle.load(file_name)\n",
    "\n",
    "with open('train_neighborhood_overview_clean.pkl', 'rb') as file_name:\n",
    "    train[\"neighborhood_overview_clean\"] = pickle.load(file_name)\n",
    "    \n",
    "with open('train_transit_clean.pkl', 'rb') as file_name:\n",
    "    train[\"transit_clean\"] = pickle.load(file_name)\n",
    "    \n",
    "with open('train_amenities_clean.pkl', 'rb') as file_name:\n",
    "    train[\"amenities_clean\"] = pickle.load(file_name)"
   ]
  },
  {
   "cell_type": "code",
   "execution_count": 20,
   "metadata": {},
   "outputs": [],
   "source": [
    "# Reading the clean text columns of test data from disc.\n",
    "with open('test_name_clean.pkl', 'rb') as file_name:\n",
    "    test[\"name_clean\"] = pickle.load(file_name)\n",
    "\n",
    "with open('test_description_clean.pkl', 'rb') as file_name:\n",
    "    test[\"description_clean\"] = pickle.load(file_name)\n",
    "\n",
    "with open('test_neighborhood_overview_clean.pkl', 'rb') as file_name:\n",
    "    test[\"neighborhood_overview_clean\"] = pickle.load(file_name)\n",
    "    \n",
    "with open('test_transit_clean.pkl', 'rb') as file_name:\n",
    "    test[\"transit_clean\"] = pickle.load(file_name)\n",
    "    \n",
    "with open('test_amenities_clean.pkl', 'rb') as file_name:\n",
    "    test[\"amenities_clean\"] = pickle.load(file_name)"
   ]
  },
  {
   "cell_type": "markdown",
   "metadata": {},
   "source": [
    "The raw text columns before the cleaning operation are no longer needed. Therefore, the related columns are dropped."
   ]
  },
  {
   "cell_type": "code",
   "execution_count": 21,
   "metadata": {},
   "outputs": [],
   "source": [
    "# Dropping the unclean text columns\n",
    "train.drop([\"name\",\"description\",\"neighborhood_overview\",\"transit\",\"amenities\"], inplace=True, axis=1)"
   ]
  },
  {
   "cell_type": "code",
   "execution_count": 22,
   "metadata": {},
   "outputs": [],
   "source": [
    "# Dropping the unclean text columns\n",
    "test.drop([\"name\",\"description\",\"neighborhood_overview\",\"transit\",\"amenities\"], inplace=True, axis=1)"
   ]
  },
  {
   "cell_type": "markdown",
   "metadata": {},
   "source": [
    "### 2.2. Host Features"
   ]
  },
  {
   "cell_type": "markdown",
   "metadata": {},
   "source": [
    "#### Host Response Rate"
   ]
  },
  {
   "cell_type": "markdown",
   "metadata": {},
   "source": [
    "The host response rates are in a format that is yet not usable by the algorithms. In order to properly format them, first they are turned into strings and the percentage at the end is cleaned. Afterwards, they are set as basic float values. The distribution plot of the values show that they are highly skewed. Moreover, nearly 30% of the data has missing values. Therefore, it makes sense to discretize the data and fill the \"NA\" values with a new category level \"Missing\"."
   ]
  },
  {
   "cell_type": "code",
   "execution_count": 23,
   "metadata": {},
   "outputs": [
    {
     "data": {
      "text/plain": [
       "0    100%\n",
       "1    100%\n",
       "2    100%\n",
       "3    100%\n",
       "4    100%\n",
       "Name: host_response_rate, dtype: object"
      ]
     },
     "execution_count": 23,
     "metadata": {},
     "output_type": "execute_result"
    }
   ],
   "source": [
    "train.host_response_rate.head()"
   ]
  },
  {
   "cell_type": "code",
   "execution_count": 24,
   "metadata": {},
   "outputs": [],
   "source": [
    "# Removing the % from end and setting the data type as float.\n",
    "train[\"host_response_rate\"] = train[\"host_response_rate\"].astype(str)\n",
    "train.host_response_rate = train.host_response_rate.apply(clean_alt_list)\n",
    "train[\"host_response_rate\"] = train[\"host_response_rate\"].astype(float)"
   ]
  },
  {
   "cell_type": "code",
   "execution_count": 25,
   "metadata": {},
   "outputs": [],
   "source": [
    "# Removing the % from end and setting the data type as float.\n",
    "test[\"host_response_rate\"] = test[\"host_response_rate\"].astype(str)\n",
    "test.host_response_rate = test.host_response_rate.apply(clean_alt_list)\n",
    "test[\"host_response_rate\"] = test[\"host_response_rate\"].astype(float)"
   ]
  },
  {
   "cell_type": "code",
   "execution_count": 26,
   "metadata": {},
   "outputs": [
    {
     "name": "stderr",
     "output_type": "stream",
     "text": [
      "C:\\Users\\Berkay Kocak\\Anaconda3\\lib\\site-packages\\seaborn\\distributions.py:2619: FutureWarning: `distplot` is a deprecated function and will be removed in a future version. Please adapt your code to use either `displot` (a figure-level function with similar flexibility) or `histplot` (an axes-level function for histograms).\n",
      "  warnings.warn(msg, FutureWarning)\n"
     ]
    },
    {
     "data": {
      "text/plain": [
       "<matplotlib.axes._subplots.AxesSubplot at 0x16e5c71ba48>"
      ]
     },
     "execution_count": 26,
     "metadata": {},
     "output_type": "execute_result"
    },
    {
     "data": {
      "image/png": "[encoded data removed]",
      "text/plain": [
       "<Figure size 432x288 with 1 Axes>"
      ]
     },
     "metadata": {
      "needs_background": "light"
     },
     "output_type": "display_data"
    }
   ],
   "source": [
    "# Checking the distribution of host response rate column.\n",
    "sns.distplot(train['host_response_rate'])"
   ]
  },
  {
   "cell_type": "code",
   "execution_count": 27,
   "metadata": {},
   "outputs": [
    {
     "data": {
      "text/plain": [
       "17802"
      ]
     },
     "execution_count": 27,
     "metadata": {},
     "output_type": "execute_result"
    }
   ],
   "source": [
    "# Checking the number of \"NA\" observations.\n",
    "train['host_response_rate'].isna().sum()"
   ]
  },
  {
   "cell_type": "code",
   "execution_count": 28,
   "metadata": {},
   "outputs": [],
   "source": [
    "# Discretization of the column host response rate\n",
    "train[\"host_response_rate_cat\"]=train.host_response_rate.fillna(\"Missing\")\n",
    "train.loc[(train[\"host_response_rate\"]>=0),\"host_response_rate_cat\"]=\"0-50\"\n",
    "train.loc[(train[\"host_response_rate\"]>=50),\"host_response_rate_cat\"]=\"50-70\"\n",
    "train.loc[(train[\"host_response_rate\"]>=70),\"host_response_rate_cat\"]=\"70-90\"\n",
    "train.loc[(train[\"host_response_rate\"]>=90),\"host_response_rate_cat\"]=\"90-100\""
   ]
  },
  {
   "cell_type": "code",
   "execution_count": 29,
   "metadata": {},
   "outputs": [],
   "source": [
    "# Discretization of the column host response rate\n",
    "test[\"host_response_rate_cat\"]=test.host_response_rate.fillna(\"Missing\")\n",
    "test.loc[(test[\"host_response_rate\"]>=0),\"host_response_rate_cat\"]=\"0-50\"\n",
    "test.loc[(test[\"host_response_rate\"]>=50),\"host_response_rate_cat\"]=\"50-70\"\n",
    "test.loc[(test[\"host_response_rate\"]>=70),\"host_response_rate_cat\"]=\"70-90\"\n",
    "test.loc[(test[\"host_response_rate\"]>=90),\"host_response_rate_cat\"]=\"90-100\""
   ]
  },
  {
   "cell_type": "code",
   "execution_count": 30,
   "metadata": {},
   "outputs": [],
   "source": [
    "# The host respones rate column is eliminated\n",
    "train.drop([\"host_response_rate\"], inplace=True, axis=1)\n",
    "\n",
    "# Setting the datatype as category\n",
    "train[\"host_response_rate_cat\"] = train['host_response_rate_cat'].astype('category')"
   ]
  },
  {
   "cell_type": "code",
   "execution_count": 31,
   "metadata": {},
   "outputs": [],
   "source": [
    "# The host respones rate column is eliminated\n",
    "test.drop([\"host_response_rate\"], inplace=True, axis=1)\n",
    "\n",
    "# Setting the datatype as category\n",
    "test[\"host_response_rate_cat\"] = test['host_response_rate_cat'].astype('category')"
   ]
  },
  {
   "cell_type": "markdown",
   "metadata": {},
   "source": [
    "#### Host Total Listings Count"
   ]
  },
  {
   "cell_type": "markdown",
   "metadata": {},
   "source": [
    "Similar steps are followed for also \"host_total_listings_count\" feature. "
   ]
  },
  {
   "cell_type": "code",
   "execution_count": 32,
   "metadata": {},
   "outputs": [
    {
     "name": "stderr",
     "output_type": "stream",
     "text": [
      "C:\\Users\\Berkay Kocak\\Anaconda3\\lib\\site-packages\\seaborn\\distributions.py:2619: FutureWarning: `distplot` is a deprecated function and will be removed in a future version. Please adapt your code to use either `displot` (a figure-level function with similar flexibility) or `histplot` (an axes-level function for histograms).\n",
      "  warnings.warn(msg, FutureWarning)\n"
     ]
    },
    {
     "data": {
      "text/plain": [
       "<matplotlib.axes._subplots.AxesSubplot at 0x16e6ec0e1c8>"
      ]
     },
     "execution_count": 32,
     "metadata": {},
     "output_type": "execute_result"
    },
    {
     "data": {
      "image/png": "[encoded data removed]",
      "text/plain": [
       "<Figure size 432x288 with 1 Axes>"
      ]
     },
     "metadata": {
      "needs_background": "light"
     },
     "output_type": "display_data"
    }
   ],
   "source": [
    "# Checking the distribution of host total listings count column.\n",
    "sns.distplot(train['host_total_listings_count'])"
   ]
  },
  {
   "cell_type": "code",
   "execution_count": 33,
   "metadata": {},
   "outputs": [
    {
     "data": {
      "text/plain": [
       "111"
      ]
     },
     "execution_count": 33,
     "metadata": {},
     "output_type": "execute_result"
    }
   ],
   "source": [
    "# Checking the number of \"NA\" observations.\n",
    "train['host_total_listings_count'].isna().sum()"
   ]
  },
  {
   "cell_type": "code",
   "execution_count": 34,
   "metadata": {},
   "outputs": [],
   "source": [
    "# Discretizing the continuous variable host total listing count\n",
    "train[\"host_total_listings_count_cat\"]=train.host_total_listings_count.fillna(\"Missing\")\n",
    "train.loc[(train[\"host_total_listings_count\"]==0),\"host_total_listings_count_cat\"]=\"0\"\n",
    "train.loc[(train[\"host_total_listings_count\"]==1),\"host_total_listings_count_cat\"]=\"1\"\n",
    "train.loc[(train[\"host_total_listings_count\"]>=2),\"host_total_listings_count_cat\"]=\"2-5\"\n",
    "train.loc[(train[\"host_total_listings_count\"]>=6),\"host_total_listings_count_cat\"]=\"6-10\"\n",
    "train.loc[(train[\"host_total_listings_count\"]>=11),\"host_total_listings_count_cat\"]=\"10+\""
   ]
  },
  {
   "cell_type": "code",
   "execution_count": 35,
   "metadata": {},
   "outputs": [],
   "source": [
    "# Discretizing the continuous variable host total listing count\n",
    "test[\"host_total_listings_count_cat\"]=test.host_total_listings_count.fillna(\"Missing\")\n",
    "test.loc[(test[\"host_total_listings_count\"]==0),\"host_total_listings_count_cat\"]=\"0\"\n",
    "test.loc[(test[\"host_total_listings_count\"]==1),\"host_total_listings_count_cat\"]=\"1\"\n",
    "test.loc[(test[\"host_total_listings_count\"]>=2),\"host_total_listings_count_cat\"]=\"2-5\"\n",
    "test.loc[(test[\"host_total_listings_count\"]>=6),\"host_total_listings_count_cat\"]=\"6-10\"\n",
    "test.loc[(test[\"host_total_listings_count\"]>=11),\"host_total_listings_count_cat\"]=\"10+\""
   ]
  },
  {
   "cell_type": "code",
   "execution_count": 36,
   "metadata": {},
   "outputs": [],
   "source": [
    "# Host total listings count column is eliminated\n",
    "train.drop([\"host_total_listings_count\"], inplace=True, axis=1)\n",
    "\n",
    "# Setting the data type as category\n",
    "train[\"host_total_listings_count_cat\"] = train['host_total_listings_count_cat'].astype('category')"
   ]
  },
  {
   "cell_type": "code",
   "execution_count": 37,
   "metadata": {},
   "outputs": [],
   "source": [
    "# Host total listings count column is eliminated\n",
    "test.drop([\"host_total_listings_count\"], inplace=True, axis=1)\n",
    "\n",
    "# Setting the data type as category\n",
    "test[\"host_total_listings_count_cat\"] = test['host_total_listings_count_cat'].astype('category')"
   ]
  },
  {
   "cell_type": "markdown",
   "metadata": {},
   "source": [
    "#### Host Response Time"
   ]
  },
  {
   "cell_type": "markdown",
   "metadata": {},
   "source": [
    "For the host response time feature, the \"NA\" values are filled with a new category level \"Missing\". The data type is set as category since it only has 4 different levels for response time."
   ]
  },
  {
   "cell_type": "code",
   "execution_count": 38,
   "metadata": {},
   "outputs": [
    {
     "data": {
      "text/plain": [
       "array(['within an hour', 'within a few hours', nan, 'within a day',\n",
       "       'a few days or more'], dtype=object)"
      ]
     },
     "execution_count": 38,
     "metadata": {},
     "output_type": "execute_result"
    }
   ],
   "source": [
    "# Checking the unique values of host response time.\n",
    "train[\"host_response_time\"].unique()"
   ]
  },
  {
   "cell_type": "code",
   "execution_count": 39,
   "metadata": {},
   "outputs": [
    {
     "data": {
      "text/plain": [
       "17802"
      ]
     },
     "execution_count": 39,
     "metadata": {},
     "output_type": "execute_result"
    }
   ],
   "source": [
    "# Checking the number of \"NA\" observations.\n",
    "train['host_response_time'].isna().sum()"
   ]
  },
  {
   "cell_type": "code",
   "execution_count": 40,
   "metadata": {},
   "outputs": [],
   "source": [
    "# Filling the \"NA\" values with new category level \"missing\"\n",
    "train.host_response_time.fillna(\"Missing\",inplace=True)\n",
    "\n",
    "# Setting the data type as category\n",
    "train[\"host_response_time\"] = train['host_response_time'].astype('category')"
   ]
  },
  {
   "cell_type": "code",
   "execution_count": 41,
   "metadata": {},
   "outputs": [],
   "source": [
    "# Filling the \"NA\" values with new category level \"missing\"\n",
    "test.host_response_time.fillna(\"Missing\",inplace=True)\n",
    "\n",
    "# Setting the data type as category\n",
    "test[\"host_response_time\"] = test['host_response_time'].astype('category')"
   ]
  },
  {
   "cell_type": "markdown",
   "metadata": {},
   "source": [
    "#### Host Since"
   ]
  },
  {
   "cell_type": "markdown",
   "metadata": {},
   "source": [
    "The current format of the feature \"host_since\" is not usable by the algorithms. Therefore, instead of a date, a new feature is engineered which is the duration of hosting since the registration. The new feature is calculated via substracting the subscription date from the most current date in the dataset. Lastly, \"NA\" values are replaced with the median of the column. In order to decrease repetition in the following sections, the last operation is handled by a function which will be used also for other numerical columns."
   ]
  },
  {
   "cell_type": "code",
   "execution_count": 42,
   "metadata": {},
   "outputs": [
    {
     "data": {
      "text/plain": [
       "0    2012-04-18\n",
       "1    2014-05-29\n",
       "2    2019-06-28\n",
       "3    2012-08-24\n",
       "4    2016-09-09\n",
       "Name: host_since, dtype: object"
      ]
     },
     "execution_count": 42,
     "metadata": {},
     "output_type": "execute_result"
    }
   ],
   "source": [
    "train.host_since.head()"
   ]
  },
  {
   "cell_type": "code",
   "execution_count": 43,
   "metadata": {},
   "outputs": [
    {
     "data": {
      "text/plain": [
       "111"
      ]
     },
     "execution_count": 43,
     "metadata": {},
     "output_type": "execute_result"
    }
   ],
   "source": [
    "train.host_since.isna().sum()"
   ]
  },
  {
   "cell_type": "code",
   "execution_count": 44,
   "metadata": {},
   "outputs": [],
   "source": [
    "# Function for replacing \"NA\" values with median for numerical columns.\n",
    "def replace_na_median(column):\n",
    "    median=column.median(skipna=True)\n",
    "    column.fillna(median,inplace=True)"
   ]
  },
  {
   "cell_type": "code",
   "execution_count": 45,
   "metadata": {},
   "outputs": [],
   "source": [
    "# Setting the datatype as date time\n",
    "train['host_since'] = pd.to_datetime(train['host_since'])\n",
    "\n",
    "# Calculation of the duration of hosting since registration\n",
    "train[\"host_for_days\"]=(max(train[\"host_since\"])-train[\"host_since\"]).dt.days\n",
    "\n",
    "# Replacing \"NA\" values with the median\n",
    "replace_na_median(train.host_for_days)\n",
    "\n",
    "# Dropping the host_since column\n",
    "train.drop([\"host_since\"], inplace=True, axis=1)"
   ]
  },
  {
   "cell_type": "code",
   "execution_count": 46,
   "metadata": {},
   "outputs": [],
   "source": [
    "# Setting the data type as date time\n",
    "test['host_since'] = pd.to_datetime(test['host_since'])\n",
    "\n",
    "# Calculation of the duration of hosting since registration\n",
    "test[\"host_for_days\"]=(max(test[\"host_since\"])-test[\"host_since\"]).dt.days\n",
    "\n",
    "# Replacing \"NA\" values with the median\n",
    "replace_na_median(test.host_for_days)\n",
    "\n",
    "# Dropping the host_since column\n",
    "test.drop([\"host_since\"], inplace=True, axis=1)"
   ]
  },
  {
   "cell_type": "code",
   "execution_count": 47,
   "metadata": {},
   "outputs": [
    {
     "data": {
      "text/plain": [
       "0    2821.0\n",
       "1    2050.0\n",
       "2     194.0\n",
       "3    2693.0\n",
       "4    1216.0\n",
       "Name: host_for_days, dtype: float64"
      ]
     },
     "execution_count": 47,
     "metadata": {},
     "output_type": "execute_result"
    }
   ],
   "source": [
    "train.host_for_days.head()"
   ]
  },
  {
   "cell_type": "code",
   "execution_count": 48,
   "metadata": {},
   "outputs": [
    {
     "data": {
      "text/plain": [
       "0"
      ]
     },
     "execution_count": 48,
     "metadata": {},
     "output_type": "execute_result"
    }
   ],
   "source": [
    "train.host_for_days.isna().sum()"
   ]
  },
  {
   "cell_type": "markdown",
   "metadata": {},
   "source": [
    "For the boolean variables that can be seen in the following parts, the \"t\" and \"f\" values are mapped into 1 and 0's and the missing values are filled with the majority class. Finally, datatypes are set as boolean."
   ]
  },
  {
   "cell_type": "markdown",
   "metadata": {},
   "source": [
    "#### Host is Superhost"
   ]
  },
  {
   "cell_type": "code",
   "execution_count": 49,
   "metadata": {},
   "outputs": [
    {
     "data": {
      "text/plain": [
       "f    46982\n",
       "t     8191\n",
       "Name: host_is_superhost, dtype: int64"
      ]
     },
     "execution_count": 49,
     "metadata": {},
     "output_type": "execute_result"
    }
   ],
   "source": [
    "train.host_is_superhost.value_counts()"
   ]
  },
  {
   "cell_type": "code",
   "execution_count": 50,
   "metadata": {},
   "outputs": [
    {
     "data": {
      "text/plain": [
       "111"
      ]
     },
     "execution_count": 50,
     "metadata": {},
     "output_type": "execute_result"
    }
   ],
   "source": [
    "train.host_is_superhost.isna().sum()"
   ]
  },
  {
   "cell_type": "code",
   "execution_count": 51,
   "metadata": {},
   "outputs": [],
   "source": [
    "# t and f mapped into 1 and 0\n",
    "train.host_is_superhost=train.host_is_superhost.map(dict(t=1, f=0))\n",
    "\n",
    "# Since the majority of instances are false fill \"NA\" values with 0.\n",
    "train.host_is_superhost.fillna(0,inplace=True)\n",
    "\n",
    "# Data type is set as boolean\n",
    "train[\"host_is_superhost\"] = train['host_is_superhost'].astype('bool')"
   ]
  },
  {
   "cell_type": "code",
   "execution_count": 52,
   "metadata": {},
   "outputs": [],
   "source": [
    "# t and f mapped into 1 and 0\n",
    "test.host_is_superhost=test.host_is_superhost.map(dict(t=1, f=0))\n",
    "\n",
    "# Since the majority of instances in train set are false fill \"NA\" values with 0.\n",
    "test.host_is_superhost.fillna(0,inplace=True)\n",
    "\n",
    "# Data type is set as boolean\n",
    "test[\"host_is_superhost\"] = test['host_is_superhost'].astype('bool')"
   ]
  },
  {
   "cell_type": "code",
   "execution_count": 53,
   "metadata": {},
   "outputs": [
    {
     "data": {
      "text/plain": [
       "False    47093\n",
       "True      8191\n",
       "Name: host_is_superhost, dtype: int64"
      ]
     },
     "execution_count": 53,
     "metadata": {},
     "output_type": "execute_result"
    }
   ],
   "source": [
    "train.host_is_superhost.value_counts()"
   ]
  },
  {
   "cell_type": "code",
   "execution_count": 54,
   "metadata": {},
   "outputs": [
    {
     "data": {
      "text/plain": [
       "0"
      ]
     },
     "execution_count": 54,
     "metadata": {},
     "output_type": "execute_result"
    }
   ],
   "source": [
    "train.host_is_superhost.isna().sum()"
   ]
  },
  {
   "cell_type": "markdown",
   "metadata": {},
   "source": [
    "#### Host has Profile Picture"
   ]
  },
  {
   "cell_type": "code",
   "execution_count": 55,
   "metadata": {},
   "outputs": [
    {
     "data": {
      "text/plain": [
       "t    55013\n",
       "f      160\n",
       "Name: host_has_profile_pic, dtype: int64"
      ]
     },
     "execution_count": 55,
     "metadata": {},
     "output_type": "execute_result"
    }
   ],
   "source": [
    "train.host_has_profile_pic.value_counts()"
   ]
  },
  {
   "cell_type": "code",
   "execution_count": 56,
   "metadata": {},
   "outputs": [
    {
     "data": {
      "text/plain": [
       "111"
      ]
     },
     "execution_count": 56,
     "metadata": {},
     "output_type": "execute_result"
    }
   ],
   "source": [
    "train.host_has_profile_pic.isna().sum()"
   ]
  },
  {
   "cell_type": "code",
   "execution_count": 57,
   "metadata": {},
   "outputs": [],
   "source": [
    "# t and f mapped into 1 and 0\n",
    "train.host_has_profile_pic=train.host_has_profile_pic.map(dict(t=1, f=0))\n",
    "\n",
    "# Since the majority of instances are true fill \"NA\" values with 1.\n",
    "train.host_has_profile_pic.fillna(1,inplace=True)\n",
    "\n",
    "# Data type is set as boolean\n",
    "train[\"host_has_profile_pic\"] = train['host_has_profile_pic'].astype('bool')"
   ]
  },
  {
   "cell_type": "code",
   "execution_count": 58,
   "metadata": {},
   "outputs": [],
   "source": [
    "# t and f mapped into 1 and 0\n",
    "test.host_has_profile_pic=test.host_has_profile_pic.map(dict(t=1, f=0))\n",
    "\n",
    "# Since the majority of instances in train set are true fill \"NA\" values with 1.\n",
    "test.host_has_profile_pic.fillna(1,inplace=True)\n",
    "\n",
    "# Data type is set as boolean\n",
    "test[\"host_has_profile_pic\"] = test['host_has_profile_pic'].astype('bool')"
   ]
  },
  {
   "cell_type": "code",
   "execution_count": 59,
   "metadata": {},
   "outputs": [
    {
     "data": {
      "text/plain": [
       "True     55124\n",
       "False      160\n",
       "Name: host_has_profile_pic, dtype: int64"
      ]
     },
     "execution_count": 59,
     "metadata": {},
     "output_type": "execute_result"
    }
   ],
   "source": [
    "train.host_has_profile_pic.value_counts()"
   ]
  },
  {
   "cell_type": "code",
   "execution_count": 60,
   "metadata": {},
   "outputs": [
    {
     "data": {
      "text/plain": [
       "0"
      ]
     },
     "execution_count": 60,
     "metadata": {},
     "output_type": "execute_result"
    }
   ],
   "source": [
    "train.host_has_profile_pic.isna().sum()"
   ]
  },
  {
   "cell_type": "markdown",
   "metadata": {},
   "source": [
    "#### Host Identity Verified"
   ]
  },
  {
   "cell_type": "code",
   "execution_count": 61,
   "metadata": {},
   "outputs": [
    {
     "data": {
      "text/plain": [
       "f    35346\n",
       "t    19827\n",
       "Name: host_identity_verified, dtype: int64"
      ]
     },
     "execution_count": 61,
     "metadata": {},
     "output_type": "execute_result"
    }
   ],
   "source": [
    "train.host_identity_verified.value_counts()"
   ]
  },
  {
   "cell_type": "code",
   "execution_count": 62,
   "metadata": {},
   "outputs": [
    {
     "data": {
      "text/plain": [
       "111"
      ]
     },
     "execution_count": 62,
     "metadata": {},
     "output_type": "execute_result"
    }
   ],
   "source": [
    "train.host_identity_verified.isna().sum()"
   ]
  },
  {
   "cell_type": "code",
   "execution_count": 63,
   "metadata": {},
   "outputs": [],
   "source": [
    "# t and f mapped into 1 and 0\n",
    "train.host_identity_verified=train.host_identity_verified.map(dict(t=1, f=0))\n",
    "\n",
    "# Since the majority of instances are false fill \"NA\" values with 0.\n",
    "train.host_identity_verified.fillna(0,inplace=True)\n",
    "\n",
    "# Data type is set as boolean\n",
    "train[\"host_identity_verified\"] = train['host_identity_verified'].astype('bool')"
   ]
  },
  {
   "cell_type": "code",
   "execution_count": 64,
   "metadata": {},
   "outputs": [],
   "source": [
    "# t and f mapped into 1 and 0\n",
    "test.host_identity_verified=test.host_identity_verified.map(dict(t=1, f=0))\n",
    "\n",
    "# Since the majority of instances in train set are false fill \"NA\" values with 0.\n",
    "test.host_identity_verified.fillna(0,inplace=True)\n",
    "\n",
    "# Data type is set as boolean\n",
    "test[\"host_identity_verified\"] = test['host_identity_verified'].astype('bool')"
   ]
  },
  {
   "cell_type": "code",
   "execution_count": 65,
   "metadata": {},
   "outputs": [
    {
     "data": {
      "text/plain": [
       "False    35457\n",
       "True     19827\n",
       "Name: host_identity_verified, dtype: int64"
      ]
     },
     "execution_count": 65,
     "metadata": {},
     "output_type": "execute_result"
    }
   ],
   "source": [
    "train.host_identity_verified.value_counts()"
   ]
  },
  {
   "cell_type": "code",
   "execution_count": 66,
   "metadata": {},
   "outputs": [
    {
     "data": {
      "text/plain": [
       "0"
      ]
     },
     "execution_count": 66,
     "metadata": {},
     "output_type": "execute_result"
    }
   ],
   "source": [
    "train.host_identity_verified.isna().sum()"
   ]
  },
  {
   "cell_type": "markdown",
   "metadata": {},
   "source": [
    "### 2.3. Property Features"
   ]
  },
  {
   "cell_type": "markdown",
   "metadata": {},
   "source": [
    "The missing values in the property features are replaced with the median value of the related column. Since the amount of missing data is small proportional to whole dataset this choice is not very significant. The datatypes of the columns are set properly afterwards."
   ]
  },
  {
   "cell_type": "code",
   "execution_count": 67,
   "metadata": {},
   "outputs": [
    {
     "data": {
      "text/plain": [
       "experiences_offered      0\n",
       "property_type            0\n",
       "room_type                0\n",
       "accommodates             0\n",
       "bathrooms               70\n",
       "bedrooms                62\n",
       "beds                   262\n",
       "bed_type                 0\n",
       "guests_included          0\n",
       "cancellation_policy      0\n",
       "dtype: int64"
      ]
     },
     "execution_count": 67,
     "metadata": {},
     "output_type": "execute_result"
    }
   ],
   "source": [
    "train[property_features].isna().sum()"
   ]
  },
  {
   "cell_type": "code",
   "execution_count": 68,
   "metadata": {},
   "outputs": [],
   "source": [
    "# \"NA\" values in the property features are replaced with median.\n",
    "replace_na_median(train.bathrooms)\n",
    "replace_na_median(train.bedrooms)\n",
    "replace_na_median(train.beds)"
   ]
  },
  {
   "cell_type": "code",
   "execution_count": 69,
   "metadata": {},
   "outputs": [],
   "source": [
    "# \"NA\" values in the property features are replaced with median.\n",
    "replace_na_median(test.bathrooms)\n",
    "replace_na_median(test.bedrooms)\n",
    "replace_na_median(test.beds)"
   ]
  },
  {
   "cell_type": "code",
   "execution_count": 70,
   "metadata": {},
   "outputs": [
    {
     "data": {
      "text/plain": [
       "experiences_offered     object\n",
       "property_type           object\n",
       "room_type               object\n",
       "accommodates             int64\n",
       "bathrooms              float64\n",
       "bedrooms               float64\n",
       "beds                   float64\n",
       "bed_type                object\n",
       "guests_included          int64\n",
       "cancellation_policy     object\n",
       "dtype: object"
      ]
     },
     "execution_count": 70,
     "metadata": {},
     "output_type": "execute_result"
    }
   ],
   "source": [
    "train[property_features].dtypes"
   ]
  },
  {
   "cell_type": "code",
   "execution_count": 71,
   "metadata": {},
   "outputs": [],
   "source": [
    "#The data types are set accordingly\n",
    "train[\"experiences_offered\"] = train['experiences_offered'].astype('category')\n",
    "train[\"property_type\"] = train['property_type'].astype('category')\n",
    "train[\"room_type\"] = train['room_type'].astype('category')\n",
    "train[\"bed_type\"] = train['bed_type'].astype('category')\n",
    "train[\"cancellation_policy\"] = train['cancellation_policy'].astype('category')"
   ]
  },
  {
   "cell_type": "code",
   "execution_count": 72,
   "metadata": {},
   "outputs": [],
   "source": [
    "#The data types are set accordingly\n",
    "test[\"experiences_offered\"] = test['experiences_offered'].astype('category')\n",
    "test[\"property_type\"] = test['property_type'].astype('category')\n",
    "test[\"room_type\"] = test['room_type'].astype('category')\n",
    "test[\"bed_type\"] = test['bed_type'].astype('category')\n",
    "test[\"cancellation_policy\"] = test['cancellation_policy'].astype('category')"
   ]
  },
  {
   "cell_type": "code",
   "execution_count": 73,
   "metadata": {},
   "outputs": [
    {
     "data": {
      "text/plain": [
       "experiences_offered    0\n",
       "property_type          0\n",
       "room_type              0\n",
       "accommodates           0\n",
       "bathrooms              0\n",
       "bedrooms               0\n",
       "beds                   0\n",
       "bed_type               0\n",
       "guests_included        0\n",
       "cancellation_policy    0\n",
       "dtype: int64"
      ]
     },
     "execution_count": 73,
     "metadata": {},
     "output_type": "execute_result"
    }
   ],
   "source": [
    "train[property_features].isna().sum()"
   ]
  },
  {
   "cell_type": "code",
   "execution_count": 74,
   "metadata": {},
   "outputs": [
    {
     "data": {
      "text/plain": [
       "experiences_offered    category\n",
       "property_type          category\n",
       "room_type              category\n",
       "accommodates              int64\n",
       "bathrooms               float64\n",
       "bedrooms                float64\n",
       "beds                    float64\n",
       "bed_type               category\n",
       "guests_included           int64\n",
       "cancellation_policy    category\n",
       "dtype: object"
      ]
     },
     "execution_count": 74,
     "metadata": {},
     "output_type": "execute_result"
    }
   ],
   "source": [
    "train[property_features].dtypes"
   ]
  },
  {
   "cell_type": "markdown",
   "metadata": {},
   "source": [
    "### 2.4. Location Features"
   ]
  },
  {
   "cell_type": "markdown",
   "metadata": {},
   "source": [
    "#### Zip Code"
   ]
  },
  {
   "cell_type": "markdown",
   "metadata": {},
   "source": [
    "The UK zip code format is explained in detail in the picture below.(https://ideal-postcodes.co.uk/guides/uk-postcode-format) Since current zip codes are not very efficient to use for this project due to high number of category levels, outward codes of the zip codes are taken into account and the inward codes are dropped. The outward code shows which area, district and subdistrict the address belongs."
   ]
  },
  {
   "cell_type": "code",
   "execution_count": 75,
   "metadata": {},
   "outputs": [
    {
     "data": {
      "image/png": "[encoded data removed]",
      "text/plain": [
       "<IPython.core.display.Image object>"
      ]
     },
     "execution_count": 75,
     "metadata": {},
     "output_type": "execute_result"
    }
   ],
   "source": [
    "display.Image(\"C:/Users/Berkay Kocak/Desktop/uk_postcode.png\")"
   ]
  },
  {
   "cell_type": "code",
   "execution_count": 76,
   "metadata": {},
   "outputs": [
    {
     "data": {
      "text/plain": [
       "26557"
      ]
     },
     "execution_count": 76,
     "metadata": {},
     "output_type": "execute_result"
    }
   ],
   "source": [
    "len(train.zipcode.unique())"
   ]
  },
  {
   "cell_type": "markdown",
   "metadata": {},
   "source": [
    "26557 unique values for zipcodes is an enormous number for a categorical variable."
   ]
  },
  {
   "cell_type": "code",
   "execution_count": 77,
   "metadata": {},
   "outputs": [],
   "source": [
    "# Zipcode is split into two columns that are named as outward_code and inward_code\n",
    "train[['outward_code', 'inward_code']] = train['zipcode'].str.split(' ', 1, expand=True)"
   ]
  },
  {
   "cell_type": "code",
   "execution_count": 78,
   "metadata": {},
   "outputs": [],
   "source": [
    "# Zipcode is split into two columns that are named as outward_code and inward_code\n",
    "test[['outward_code', 'inward_code']] = test['zipcode'].str.split(' ', 1, expand=True)"
   ]
  },
  {
   "cell_type": "markdown",
   "metadata": {},
   "source": [
    "If the outward codes are analysed now, one can see that there are still imporper rows that have code length greater than 4. Since it can not be determined exactly from where these codes can be seperated due to the structure of zipcodes, it is a better choice to give these rows a new category name which is \"Improper\"."
   ]
  },
  {
   "cell_type": "code",
   "execution_count": 79,
   "metadata": {},
   "outputs": [
    {
     "data": {
      "text/html": [
       "<div>\n",
       "<style scoped>\n",
       "    .dataframe tbody tr th:only-of-type {\n",
       "        vertical-align: middle;\n",
       "    }\n",
       "\n",
       "    .dataframe tbody tr th {\n",
       "        vertical-align: top;\n",
       "    }\n",
       "\n",
       "    .dataframe thead th {\n",
       "        text-align: right;\n",
       "    }\n",
       "</style>\n",
       "<table border=\"1\" class=\"dataframe\">\n",
       "  <thead>\n",
       "    <tr style=\"text-align: right;\">\n",
       "      <th></th>\n",
       "      <th>experiences_offered</th>\n",
       "      <th>host_id</th>\n",
       "      <th>host_response_time</th>\n",
       "      <th>host_is_superhost</th>\n",
       "      <th>host_has_profile_pic</th>\n",
       "      <th>host_identity_verified</th>\n",
       "      <th>neighbourhood_cleansed</th>\n",
       "      <th>zipcode</th>\n",
       "      <th>latitude</th>\n",
       "      <th>longitude</th>\n",
       "      <th>property_type</th>\n",
       "      <th>room_type</th>\n",
       "      <th>accommodates</th>\n",
       "      <th>bathrooms</th>\n",
       "      <th>bedrooms</th>\n",
       "      <th>beds</th>\n",
       "      <th>bed_type</th>\n",
       "      <th>price</th>\n",
       "      <th>guests_included</th>\n",
       "      <th>review_scores_rating</th>\n",
       "      <th>review_scores_accuracy</th>\n",
       "      <th>review_scores_cleanliness</th>\n",
       "      <th>review_scores_checkin</th>\n",
       "      <th>review_scores_communication</th>\n",
       "      <th>review_scores_location</th>\n",
       "      <th>review_scores_value</th>\n",
       "      <th>cancellation_policy</th>\n",
       "      <th>reviews_per_month</th>\n",
       "      <th>listing_id</th>\n",
       "      <th>name_clean</th>\n",
       "      <th>description_clean</th>\n",
       "      <th>neighborhood_overview_clean</th>\n",
       "      <th>transit_clean</th>\n",
       "      <th>amenities_clean</th>\n",
       "      <th>host_response_rate_cat</th>\n",
       "      <th>host_total_listings_count_cat</th>\n",
       "      <th>host_for_days</th>\n",
       "      <th>outward_code</th>\n",
       "      <th>inward_code</th>\n",
       "    </tr>\n",
       "  </thead>\n",
       "  <tbody>\n",
       "    <tr>\n",
       "      <td>79</td>\n",
       "      <td>none</td>\n",
       "      <td>224866971</td>\n",
       "      <td>within an hour</td>\n",
       "      <td>False</td>\n",
       "      <td>True</td>\n",
       "      <td>False</td>\n",
       "      <td>Westminster</td>\n",
       "      <td>SW1Y4UF</td>\n",
       "      <td>51.50827</td>\n",
       "      <td>-0.13249</td>\n",
       "      <td>Apartment</td>\n",
       "      <td>Entire home/apt</td>\n",
       "      <td>2</td>\n",
       "      <td>1.0</td>\n",
       "      <td>1.0</td>\n",
       "      <td>1.0</td>\n",
       "      <td>Real Bed</td>\n",
       "      <td>170.0</td>\n",
       "      <td>2</td>\n",
       "      <td>98.0</td>\n",
       "      <td>10.0</td>\n",
       "      <td>10.0</td>\n",
       "      <td>10.0</td>\n",
       "      <td>9.0</td>\n",
       "      <td>10.0</td>\n",
       "      <td>9.0</td>\n",
       "      <td>strict_14_with_grace_period</td>\n",
       "      <td>0.99</td>\n",
       "      <td>DF23XM87VC</td>\n",
       "      <td>[sonder, jermyn, street, playful, br]</td>\n",
       "      <td>[feature, new, york, time, wall, street, journ...</td>\n",
       "      <td>[indulge, graceful, georgian, style, house, ga...</td>\n",
       "      <td>[]</td>\n",
       "      <td>[tv, cable, tv, wifi, kitchen, elevator, heati...</td>\n",
       "      <td>90-100</td>\n",
       "      <td>10+</td>\n",
       "      <td>426.0</td>\n",
       "      <td>SW1Y4UF</td>\n",
       "      <td>None</td>\n",
       "    </tr>\n",
       "    <tr>\n",
       "      <td>114</td>\n",
       "      <td>none</td>\n",
       "      <td>36033142</td>\n",
       "      <td>Missing</td>\n",
       "      <td>False</td>\n",
       "      <td>True</td>\n",
       "      <td>False</td>\n",
       "      <td>Lambeth</td>\n",
       "      <td>SW90FA</td>\n",
       "      <td>51.47123</td>\n",
       "      <td>-0.11505</td>\n",
       "      <td>Apartment</td>\n",
       "      <td>Entire home/apt</td>\n",
       "      <td>2</td>\n",
       "      <td>1.0</td>\n",
       "      <td>1.0</td>\n",
       "      <td>1.0</td>\n",
       "      <td>Real Bed</td>\n",
       "      <td>150.0</td>\n",
       "      <td>1</td>\n",
       "      <td>NaN</td>\n",
       "      <td>NaN</td>\n",
       "      <td>NaN</td>\n",
       "      <td>NaN</td>\n",
       "      <td>NaN</td>\n",
       "      <td>NaN</td>\n",
       "      <td>NaN</td>\n",
       "      <td>flexible</td>\n",
       "      <td>NaN</td>\n",
       "      <td>04G6FSRYZ7</td>\n",
       "      <td>[perfect, london, apartment, holiday]</td>\n",
       "      <td>[new, one, bedroom, apartment, th, floor, stun...</td>\n",
       "      <td>[]</td>\n",
       "      <td>[]</td>\n",
       "      <td>[wifi, wheelchair, accessible, kitchen, doorma...</td>\n",
       "      <td>Missing</td>\n",
       "      <td>1</td>\n",
       "      <td>1666.0</td>\n",
       "      <td>SW90FA</td>\n",
       "      <td>None</td>\n",
       "    </tr>\n",
       "    <tr>\n",
       "      <td>195</td>\n",
       "      <td>none</td>\n",
       "      <td>5057442</td>\n",
       "      <td>Missing</td>\n",
       "      <td>False</td>\n",
       "      <td>True</td>\n",
       "      <td>True</td>\n",
       "      <td>Hackney</td>\n",
       "      <td>N160JD</td>\n",
       "      <td>51.56200</td>\n",
       "      <td>-0.08045</td>\n",
       "      <td>Apartment</td>\n",
       "      <td>Entire home/apt</td>\n",
       "      <td>2</td>\n",
       "      <td>1.0</td>\n",
       "      <td>1.0</td>\n",
       "      <td>1.0</td>\n",
       "      <td>Real Bed</td>\n",
       "      <td>90.0</td>\n",
       "      <td>1</td>\n",
       "      <td>100.0</td>\n",
       "      <td>10.0</td>\n",
       "      <td>10.0</td>\n",
       "      <td>10.0</td>\n",
       "      <td>10.0</td>\n",
       "      <td>10.0</td>\n",
       "      <td>10.0</td>\n",
       "      <td>strict_14_with_grace_period</td>\n",
       "      <td>0.12</td>\n",
       "      <td>J0SOWM6LEH</td>\n",
       "      <td>[sunny, stoke, newington, flat, balcony]</td>\n",
       "      <td>[enjoy, well, decorate, sunny, peaceful, one, ...</td>\n",
       "      <td>[stoke, newington, everything, could, ask, fla...</td>\n",
       "      <td>[transport, link, good, plenty, bus, main, str...</td>\n",
       "      <td>[tv, cable, tv, wifi, kitchen, free, street, p...</td>\n",
       "      <td>Missing</td>\n",
       "      <td>1</td>\n",
       "      <td>2521.0</td>\n",
       "      <td>N160JD</td>\n",
       "      <td>None</td>\n",
       "    </tr>\n",
       "    <tr>\n",
       "      <td>242</td>\n",
       "      <td>none</td>\n",
       "      <td>224866971</td>\n",
       "      <td>within an hour</td>\n",
       "      <td>False</td>\n",
       "      <td>True</td>\n",
       "      <td>False</td>\n",
       "      <td>Westminster</td>\n",
       "      <td>SW1P3NQ</td>\n",
       "      <td>51.49773</td>\n",
       "      <td>-0.12753</td>\n",
       "      <td>Apartment</td>\n",
       "      <td>Entire home/apt</td>\n",
       "      <td>6</td>\n",
       "      <td>3.5</td>\n",
       "      <td>3.0</td>\n",
       "      <td>3.0</td>\n",
       "      <td>Real Bed</td>\n",
       "      <td>367.0</td>\n",
       "      <td>6</td>\n",
       "      <td>94.0</td>\n",
       "      <td>9.0</td>\n",
       "      <td>9.0</td>\n",
       "      <td>10.0</td>\n",
       "      <td>10.0</td>\n",
       "      <td>10.0</td>\n",
       "      <td>9.0</td>\n",
       "      <td>strict_14_with_grace_period</td>\n",
       "      <td>1.31</td>\n",
       "      <td>MPM3T86FP9</td>\n",
       "      <td>[sonder, art, council, sleek, br, terrace]</td>\n",
       "      <td>[feature, new, york, time, wall, street, journ...</td>\n",
       "      <td>[home, london, remarkable, historic, attractio...</td>\n",
       "      <td>[]</td>\n",
       "      <td>[tv, cable, tv, wifi, kitchen, elevator, heati...</td>\n",
       "      <td>90-100</td>\n",
       "      <td>10+</td>\n",
       "      <td>426.0</td>\n",
       "      <td>SW1P3NQ</td>\n",
       "      <td>None</td>\n",
       "    </tr>\n",
       "    <tr>\n",
       "      <td>247</td>\n",
       "      <td>none</td>\n",
       "      <td>1941593</td>\n",
       "      <td>within an hour</td>\n",
       "      <td>False</td>\n",
       "      <td>True</td>\n",
       "      <td>True</td>\n",
       "      <td>Hammersmith and Fulham</td>\n",
       "      <td>W129SW</td>\n",
       "      <td>51.50273</td>\n",
       "      <td>-0.24019</td>\n",
       "      <td>House</td>\n",
       "      <td>Private room</td>\n",
       "      <td>1</td>\n",
       "      <td>1.0</td>\n",
       "      <td>1.0</td>\n",
       "      <td>1.0</td>\n",
       "      <td>Real Bed</td>\n",
       "      <td>35.0</td>\n",
       "      <td>1</td>\n",
       "      <td>93.0</td>\n",
       "      <td>10.0</td>\n",
       "      <td>10.0</td>\n",
       "      <td>10.0</td>\n",
       "      <td>10.0</td>\n",
       "      <td>9.0</td>\n",
       "      <td>9.0</td>\n",
       "      <td>moderate</td>\n",
       "      <td>1.51</td>\n",
       "      <td>T25TAESKF2</td>\n",
       "      <td>[single, room]</td>\n",
       "      <td>[beautiful, single, bed, double, room, family,...</td>\n",
       "      <td>[]</td>\n",
       "      <td>[]</td>\n",
       "      <td>[internet, wifi, pet, live, property, cat, hea...</td>\n",
       "      <td>90-100</td>\n",
       "      <td>2-5</td>\n",
       "      <td>2853.0</td>\n",
       "      <td>W129SW</td>\n",
       "      <td>None</td>\n",
       "    </tr>\n",
       "    <tr>\n",
       "      <td>...</td>\n",
       "      <td>...</td>\n",
       "      <td>...</td>\n",
       "      <td>...</td>\n",
       "      <td>...</td>\n",
       "      <td>...</td>\n",
       "      <td>...</td>\n",
       "      <td>...</td>\n",
       "      <td>...</td>\n",
       "      <td>...</td>\n",
       "      <td>...</td>\n",
       "      <td>...</td>\n",
       "      <td>...</td>\n",
       "      <td>...</td>\n",
       "      <td>...</td>\n",
       "      <td>...</td>\n",
       "      <td>...</td>\n",
       "      <td>...</td>\n",
       "      <td>...</td>\n",
       "      <td>...</td>\n",
       "      <td>...</td>\n",
       "      <td>...</td>\n",
       "      <td>...</td>\n",
       "      <td>...</td>\n",
       "      <td>...</td>\n",
       "      <td>...</td>\n",
       "      <td>...</td>\n",
       "      <td>...</td>\n",
       "      <td>...</td>\n",
       "      <td>...</td>\n",
       "      <td>...</td>\n",
       "      <td>...</td>\n",
       "      <td>...</td>\n",
       "      <td>...</td>\n",
       "      <td>...</td>\n",
       "      <td>...</td>\n",
       "      <td>...</td>\n",
       "      <td>...</td>\n",
       "      <td>...</td>\n",
       "      <td>...</td>\n",
       "    </tr>\n",
       "    <tr>\n",
       "      <td>54844</td>\n",
       "      <td>none</td>\n",
       "      <td>180951330</td>\n",
       "      <td>within an hour</td>\n",
       "      <td>True</td>\n",
       "      <td>True</td>\n",
       "      <td>False</td>\n",
       "      <td>Islington</td>\n",
       "      <td>N11PX</td>\n",
       "      <td>51.54334</td>\n",
       "      <td>-0.10434</td>\n",
       "      <td>Apartment</td>\n",
       "      <td>Entire home/apt</td>\n",
       "      <td>6</td>\n",
       "      <td>1.0</td>\n",
       "      <td>2.0</td>\n",
       "      <td>3.0</td>\n",
       "      <td>Real Bed</td>\n",
       "      <td>140.0</td>\n",
       "      <td>1</td>\n",
       "      <td>97.0</td>\n",
       "      <td>10.0</td>\n",
       "      <td>9.0</td>\n",
       "      <td>10.0</td>\n",
       "      <td>10.0</td>\n",
       "      <td>10.0</td>\n",
       "      <td>10.0</td>\n",
       "      <td>flexible</td>\n",
       "      <td>1.18</td>\n",
       "      <td>SK4BTIX82C</td>\n",
       "      <td>[amaze, flat, amaze, location]</td>\n",
       "      <td>[high, spec, designer, apartment, central, isl...</td>\n",
       "      <td>[]</td>\n",
       "      <td>[]</td>\n",
       "      <td>[tv, cable, tv, wifi, kitchen, buzzer, wireles...</td>\n",
       "      <td>50-70</td>\n",
       "      <td>1</td>\n",
       "      <td>652.0</td>\n",
       "      <td>N11PX</td>\n",
       "      <td>None</td>\n",
       "    </tr>\n",
       "    <tr>\n",
       "      <td>55156</td>\n",
       "      <td>none</td>\n",
       "      <td>97739713</td>\n",
       "      <td>within an hour</td>\n",
       "      <td>True</td>\n",
       "      <td>True</td>\n",
       "      <td>False</td>\n",
       "      <td>Brent</td>\n",
       "      <td>HA98EH</td>\n",
       "      <td>51.55971</td>\n",
       "      <td>-0.28804</td>\n",
       "      <td>House</td>\n",
       "      <td>Private room</td>\n",
       "      <td>2</td>\n",
       "      <td>1.0</td>\n",
       "      <td>1.0</td>\n",
       "      <td>1.0</td>\n",
       "      <td>Real Bed</td>\n",
       "      <td>50.0</td>\n",
       "      <td>2</td>\n",
       "      <td>99.0</td>\n",
       "      <td>10.0</td>\n",
       "      <td>10.0</td>\n",
       "      <td>10.0</td>\n",
       "      <td>10.0</td>\n",
       "      <td>10.0</td>\n",
       "      <td>10.0</td>\n",
       "      <td>moderate</td>\n",
       "      <td>1.59</td>\n",
       "      <td>6N1YS0CK1N</td>\n",
       "      <td>[double, room, wembley, park, hse, nr, wembley...</td>\n",
       "      <td>[house, close, wembley, stadium, wembley, aren...</td>\n",
       "      <td>[house, five, minute, walk, wembley, stadium, ...</td>\n",
       "      <td>[wembley, park, station, metropolitan, jubilee...</td>\n",
       "      <td>[internet, wifi, heating, family, kid, friendl...</td>\n",
       "      <td>90-100</td>\n",
       "      <td>1</td>\n",
       "      <td>1192.0</td>\n",
       "      <td>HA98EH</td>\n",
       "      <td>None</td>\n",
       "    </tr>\n",
       "    <tr>\n",
       "      <td>55186</td>\n",
       "      <td>none</td>\n",
       "      <td>46715363</td>\n",
       "      <td>within an hour</td>\n",
       "      <td>True</td>\n",
       "      <td>True</td>\n",
       "      <td>True</td>\n",
       "      <td>Barnet</td>\n",
       "      <td>N32PL</td>\n",
       "      <td>51.60509</td>\n",
       "      <td>-0.18628</td>\n",
       "      <td>House</td>\n",
       "      <td>Private room</td>\n",
       "      <td>1</td>\n",
       "      <td>1.0</td>\n",
       "      <td>1.0</td>\n",
       "      <td>1.0</td>\n",
       "      <td>Real Bed</td>\n",
       "      <td>25.0</td>\n",
       "      <td>1</td>\n",
       "      <td>97.0</td>\n",
       "      <td>10.0</td>\n",
       "      <td>10.0</td>\n",
       "      <td>10.0</td>\n",
       "      <td>10.0</td>\n",
       "      <td>10.0</td>\n",
       "      <td>10.0</td>\n",
       "      <td>flexible</td>\n",
       "      <td>2.89</td>\n",
       "      <td>A1OZLQFOG1</td>\n",
       "      <td>[comfortable, double, bedroom]</td>\n",
       "      <td>[locate, north, london, quite, residential, st...</td>\n",
       "      <td>[minute, victoria, park, many, different, rest...</td>\n",
       "      <td>[minute, walk, fincley, central, underground, ...</td>\n",
       "      <td>[tv, cable, tv, wifi, free, parking, premise, ...</td>\n",
       "      <td>90-100</td>\n",
       "      <td>2-5</td>\n",
       "      <td>1545.0</td>\n",
       "      <td>N32PL</td>\n",
       "      <td>None</td>\n",
       "    </tr>\n",
       "    <tr>\n",
       "      <td>55220</td>\n",
       "      <td>none</td>\n",
       "      <td>78107173</td>\n",
       "      <td>within a few hours</td>\n",
       "      <td>True</td>\n",
       "      <td>True</td>\n",
       "      <td>True</td>\n",
       "      <td>Wandsworth</td>\n",
       "      <td>Sw83qa</td>\n",
       "      <td>51.47009</td>\n",
       "      <td>-0.14952</td>\n",
       "      <td>Apartment</td>\n",
       "      <td>Entire home/apt</td>\n",
       "      <td>6</td>\n",
       "      <td>1.0</td>\n",
       "      <td>2.0</td>\n",
       "      <td>2.0</td>\n",
       "      <td>Real Bed</td>\n",
       "      <td>150.0</td>\n",
       "      <td>4</td>\n",
       "      <td>90.0</td>\n",
       "      <td>10.0</td>\n",
       "      <td>9.0</td>\n",
       "      <td>10.0</td>\n",
       "      <td>10.0</td>\n",
       "      <td>9.0</td>\n",
       "      <td>9.0</td>\n",
       "      <td>moderate</td>\n",
       "      <td>1.60</td>\n",
       "      <td>VKUTBECDM0</td>\n",
       "      <td>[bright, bed, flat, battersea, close, chelsea]</td>\n",
       "      <td>[bright, spacious, top, floor, apartment, mode...</td>\n",
       "      <td>[close, battersea, park, walk, picnic, also, c...</td>\n",
       "      <td>[closest, station, queenstown, road, overgroun...</td>\n",
       "      <td>[tv, cable, tv, wifi, kitchen, heating, washer...</td>\n",
       "      <td>90-100</td>\n",
       "      <td>6-10</td>\n",
       "      <td>1301.0</td>\n",
       "      <td>Sw83qa</td>\n",
       "      <td>None</td>\n",
       "    </tr>\n",
       "    <tr>\n",
       "      <td>55275</td>\n",
       "      <td>none</td>\n",
       "      <td>33223260</td>\n",
       "      <td>within an hour</td>\n",
       "      <td>True</td>\n",
       "      <td>True</td>\n",
       "      <td>True</td>\n",
       "      <td>Southwark</td>\n",
       "      <td>Se166bx</td>\n",
       "      <td>51.50311</td>\n",
       "      <td>-0.04416</td>\n",
       "      <td>Apartment</td>\n",
       "      <td>Entire home/apt</td>\n",
       "      <td>2</td>\n",
       "      <td>1.5</td>\n",
       "      <td>0.0</td>\n",
       "      <td>2.0</td>\n",
       "      <td>Real Bed</td>\n",
       "      <td>49.0</td>\n",
       "      <td>1</td>\n",
       "      <td>95.0</td>\n",
       "      <td>10.0</td>\n",
       "      <td>9.0</td>\n",
       "      <td>10.0</td>\n",
       "      <td>10.0</td>\n",
       "      <td>9.0</td>\n",
       "      <td>9.0</td>\n",
       "      <td>strict_14_with_grace_period</td>\n",
       "      <td>0.97</td>\n",
       "      <td>XMFL68O3MQ</td>\n",
       "      <td>[sunny, studio]</td>\n",
       "      <td>[bright, sunny, studio, apartment, min, walk, ...</td>\n",
       "      <td>[]</td>\n",
       "      <td>[]</td>\n",
       "      <td>[wifi, kitchen, free, street, parking, heating...</td>\n",
       "      <td>90-100</td>\n",
       "      <td>1</td>\n",
       "      <td>1702.0</td>\n",
       "      <td>Se166bx</td>\n",
       "      <td>None</td>\n",
       "    </tr>\n",
       "  </tbody>\n",
       "</table>\n",
       "<p>798 rows × 39 columns</p>\n",
       "</div>"
      ],
      "text/plain": [
       "      experiences_offered    host_id  host_response_time  host_is_superhost  \\\n",
       "79                   none  224866971      within an hour              False   \n",
       "114                  none   36033142             Missing              False   \n",
       "195                  none    5057442             Missing              False   \n",
       "242                  none  224866971      within an hour              False   \n",
       "247                  none    1941593      within an hour              False   \n",
       "...                   ...        ...                 ...                ...   \n",
       "54844                none  180951330      within an hour               True   \n",
       "55156                none   97739713      within an hour               True   \n",
       "55186                none   46715363      within an hour               True   \n",
       "55220                none   78107173  within a few hours               True   \n",
       "55275                none   33223260      within an hour               True   \n",
       "\n",
       "       host_has_profile_pic  host_identity_verified  neighbourhood_cleansed  \\\n",
       "79                     True                   False             Westminster   \n",
       "114                    True                   False                 Lambeth   \n",
       "195                    True                    True                 Hackney   \n",
       "242                    True                   False             Westminster   \n",
       "247                    True                    True  Hammersmith and Fulham   \n",
       "...                     ...                     ...                     ...   \n",
       "54844                  True                   False               Islington   \n",
       "55156                  True                   False                   Brent   \n",
       "55186                  True                    True                  Barnet   \n",
       "55220                  True                    True              Wandsworth   \n",
       "55275                  True                    True               Southwark   \n",
       "\n",
       "       zipcode  latitude  longitude property_type        room_type  \\\n",
       "79     SW1Y4UF  51.50827   -0.13249     Apartment  Entire home/apt   \n",
       "114     SW90FA  51.47123   -0.11505     Apartment  Entire home/apt   \n",
       "195     N160JD  51.56200   -0.08045     Apartment  Entire home/apt   \n",
       "242    SW1P3NQ  51.49773   -0.12753     Apartment  Entire home/apt   \n",
       "247     W129SW  51.50273   -0.24019         House     Private room   \n",
       "...        ...       ...        ...           ...              ...   \n",
       "54844    N11PX  51.54334   -0.10434     Apartment  Entire home/apt   \n",
       "55156   HA98EH  51.55971   -0.28804         House     Private room   \n",
       "55186    N32PL  51.60509   -0.18628         House     Private room   \n",
       "55220   Sw83qa  51.47009   -0.14952     Apartment  Entire home/apt   \n",
       "55275  Se166bx  51.50311   -0.04416     Apartment  Entire home/apt   \n",
       "\n",
       "       accommodates  bathrooms  bedrooms  beds  bed_type  price  \\\n",
       "79                2        1.0       1.0   1.0  Real Bed  170.0   \n",
       "114               2        1.0       1.0   1.0  Real Bed  150.0   \n",
       "195               2        1.0       1.0   1.0  Real Bed   90.0   \n",
       "242               6        3.5       3.0   3.0  Real Bed  367.0   \n",
       "247               1        1.0       1.0   1.0  Real Bed   35.0   \n",
       "...             ...        ...       ...   ...       ...    ...   \n",
       "54844             6        1.0       2.0   3.0  Real Bed  140.0   \n",
       "55156             2        1.0       1.0   1.0  Real Bed   50.0   \n",
       "55186             1        1.0       1.0   1.0  Real Bed   25.0   \n",
       "55220             6        1.0       2.0   2.0  Real Bed  150.0   \n",
       "55275             2        1.5       0.0   2.0  Real Bed   49.0   \n",
       "\n",
       "       guests_included  review_scores_rating  review_scores_accuracy  \\\n",
       "79                   2                  98.0                    10.0   \n",
       "114                  1                   NaN                     NaN   \n",
       "195                  1                 100.0                    10.0   \n",
       "242                  6                  94.0                     9.0   \n",
       "247                  1                  93.0                    10.0   \n",
       "...                ...                   ...                     ...   \n",
       "54844                1                  97.0                    10.0   \n",
       "55156                2                  99.0                    10.0   \n",
       "55186                1                  97.0                    10.0   \n",
       "55220                4                  90.0                    10.0   \n",
       "55275                1                  95.0                    10.0   \n",
       "\n",
       "       review_scores_cleanliness  review_scores_checkin  \\\n",
       "79                          10.0                   10.0   \n",
       "114                          NaN                    NaN   \n",
       "195                         10.0                   10.0   \n",
       "242                          9.0                   10.0   \n",
       "247                         10.0                   10.0   \n",
       "...                          ...                    ...   \n",
       "54844                        9.0                   10.0   \n",
       "55156                       10.0                   10.0   \n",
       "55186                       10.0                   10.0   \n",
       "55220                        9.0                   10.0   \n",
       "55275                        9.0                   10.0   \n",
       "\n",
       "       review_scores_communication  review_scores_location  \\\n",
       "79                             9.0                    10.0   \n",
       "114                            NaN                     NaN   \n",
       "195                           10.0                    10.0   \n",
       "242                           10.0                    10.0   \n",
       "247                           10.0                     9.0   \n",
       "...                            ...                     ...   \n",
       "54844                         10.0                    10.0   \n",
       "55156                         10.0                    10.0   \n",
       "55186                         10.0                    10.0   \n",
       "55220                         10.0                     9.0   \n",
       "55275                         10.0                     9.0   \n",
       "\n",
       "       review_scores_value          cancellation_policy  reviews_per_month  \\\n",
       "79                     9.0  strict_14_with_grace_period               0.99   \n",
       "114                    NaN                     flexible                NaN   \n",
       "195                   10.0  strict_14_with_grace_period               0.12   \n",
       "242                    9.0  strict_14_with_grace_period               1.31   \n",
       "247                    9.0                     moderate               1.51   \n",
       "...                    ...                          ...                ...   \n",
       "54844                 10.0                     flexible               1.18   \n",
       "55156                 10.0                     moderate               1.59   \n",
       "55186                 10.0                     flexible               2.89   \n",
       "55220                  9.0                     moderate               1.60   \n",
       "55275                  9.0  strict_14_with_grace_period               0.97   \n",
       "\n",
       "       listing_id                                         name_clean  \\\n",
       "79     DF23XM87VC              [sonder, jermyn, street, playful, br]   \n",
       "114    04G6FSRYZ7              [perfect, london, apartment, holiday]   \n",
       "195    J0SOWM6LEH           [sunny, stoke, newington, flat, balcony]   \n",
       "242    MPM3T86FP9         [sonder, art, council, sleek, br, terrace]   \n",
       "247    T25TAESKF2                                     [single, room]   \n",
       "...           ...                                                ...   \n",
       "54844  SK4BTIX82C                     [amaze, flat, amaze, location]   \n",
       "55156  6N1YS0CK1N  [double, room, wembley, park, hse, nr, wembley...   \n",
       "55186  A1OZLQFOG1                     [comfortable, double, bedroom]   \n",
       "55220  VKUTBECDM0     [bright, bed, flat, battersea, close, chelsea]   \n",
       "55275  XMFL68O3MQ                                    [sunny, studio]   \n",
       "\n",
       "                                       description_clean  \\\n",
       "79     [feature, new, york, time, wall, street, journ...   \n",
       "114    [new, one, bedroom, apartment, th, floor, stun...   \n",
       "195    [enjoy, well, decorate, sunny, peaceful, one, ...   \n",
       "242    [feature, new, york, time, wall, street, journ...   \n",
       "247    [beautiful, single, bed, double, room, family,...   \n",
       "...                                                  ...   \n",
       "54844  [high, spec, designer, apartment, central, isl...   \n",
       "55156  [house, close, wembley, stadium, wembley, aren...   \n",
       "55186  [locate, north, london, quite, residential, st...   \n",
       "55220  [bright, spacious, top, floor, apartment, mode...   \n",
       "55275  [bright, sunny, studio, apartment, min, walk, ...   \n",
       "\n",
       "                             neighborhood_overview_clean  \\\n",
       "79     [indulge, graceful, georgian, style, house, ga...   \n",
       "114                                                   []   \n",
       "195    [stoke, newington, everything, could, ask, fla...   \n",
       "242    [home, london, remarkable, historic, attractio...   \n",
       "247                                                   []   \n",
       "...                                                  ...   \n",
       "54844                                                 []   \n",
       "55156  [house, five, minute, walk, wembley, stadium, ...   \n",
       "55186  [minute, victoria, park, many, different, rest...   \n",
       "55220  [close, battersea, park, walk, picnic, also, c...   \n",
       "55275                                                 []   \n",
       "\n",
       "                                           transit_clean  \\\n",
       "79                                                    []   \n",
       "114                                                   []   \n",
       "195    [transport, link, good, plenty, bus, main, str...   \n",
       "242                                                   []   \n",
       "247                                                   []   \n",
       "...                                                  ...   \n",
       "54844                                                 []   \n",
       "55156  [wembley, park, station, metropolitan, jubilee...   \n",
       "55186  [minute, walk, fincley, central, underground, ...   \n",
       "55220  [closest, station, queenstown, road, overgroun...   \n",
       "55275                                                 []   \n",
       "\n",
       "                                         amenities_clean  \\\n",
       "79     [tv, cable, tv, wifi, kitchen, elevator, heati...   \n",
       "114    [wifi, wheelchair, accessible, kitchen, doorma...   \n",
       "195    [tv, cable, tv, wifi, kitchen, free, street, p...   \n",
       "242    [tv, cable, tv, wifi, kitchen, elevator, heati...   \n",
       "247    [internet, wifi, pet, live, property, cat, hea...   \n",
       "...                                                  ...   \n",
       "54844  [tv, cable, tv, wifi, kitchen, buzzer, wireles...   \n",
       "55156  [internet, wifi, heating, family, kid, friendl...   \n",
       "55186  [tv, cable, tv, wifi, free, parking, premise, ...   \n",
       "55220  [tv, cable, tv, wifi, kitchen, heating, washer...   \n",
       "55275  [wifi, kitchen, free, street, parking, heating...   \n",
       "\n",
       "      host_response_rate_cat host_total_listings_count_cat  host_for_days  \\\n",
       "79                    90-100                           10+          426.0   \n",
       "114                  Missing                             1         1666.0   \n",
       "195                  Missing                             1         2521.0   \n",
       "242                   90-100                           10+          426.0   \n",
       "247                   90-100                           2-5         2853.0   \n",
       "...                      ...                           ...            ...   \n",
       "54844                  50-70                             1          652.0   \n",
       "55156                 90-100                             1         1192.0   \n",
       "55186                 90-100                           2-5         1545.0   \n",
       "55220                 90-100                          6-10         1301.0   \n",
       "55275                 90-100                             1         1702.0   \n",
       "\n",
       "      outward_code inward_code  \n",
       "79         SW1Y4UF        None  \n",
       "114         SW90FA        None  \n",
       "195         N160JD        None  \n",
       "242        SW1P3NQ        None  \n",
       "247         W129SW        None  \n",
       "...            ...         ...  \n",
       "54844        N11PX        None  \n",
       "55156       HA98EH        None  \n",
       "55186        N32PL        None  \n",
       "55220       Sw83qa        None  \n",
       "55275      Se166bx        None  \n",
       "\n",
       "[798 rows x 39 columns]"
      ]
     },
     "execution_count": 79,
     "metadata": {},
     "output_type": "execute_result"
    }
   ],
   "source": [
    "# Checking columns where outward code length is greater then 4\n",
    "train[train.outward_code.apply(lambda x: len(str(x))>4)]"
   ]
  },
  {
   "cell_type": "code",
   "execution_count": 80,
   "metadata": {},
   "outputs": [],
   "source": [
    "# If outward code length is greater then 4 assign it to a category level \"improper\"\n",
    "train.loc[(train.outward_code.apply(lambda x: len(str(x))>4)),\"outward_code\"]=\"Improper\"\n",
    "\n",
    "# Inward code and the zipcode columns are dropped\n",
    "train.drop([\"inward_code\",\"zipcode\"], inplace=True, axis=1)\n",
    "\n",
    "# Fill \"NA\" values of outward code with the category level \"missing\"\n",
    "train[\"outward_code\"]=train.outward_code.fillna(\"Missing\")"
   ]
  },
  {
   "cell_type": "code",
   "execution_count": 81,
   "metadata": {},
   "outputs": [],
   "source": [
    "# If outward code length is greater then 4 assign it to a category level \"improper\"\n",
    "test.loc[(test.outward_code.apply(lambda x: len(str(x))>4)),\"outward_code\"]=\"Improper\"\n",
    "\n",
    "# Inward code and the zipcode columns are dropped\n",
    "test.drop([\"inward_code\",\"zipcode\"], inplace=True, axis=1)\n",
    "\n",
    "# Fill \"NA\" values of outward code with the category level \"missing\"\n",
    "test[\"outward_code\"]=test.outward_code.fillna(\"Missing\")"
   ]
  },
  {
   "cell_type": "code",
   "execution_count": 82,
   "metadata": {},
   "outputs": [
    {
     "data": {
      "text/plain": [
       "array(['SE10', 'N8', 'SW19', 'SW4', 'SE11', 'SE8', 'W5', 'E1', 'UB3',\n",
       "       'SW8', 'N7', 'SE22', 'SE24', 'SW3', 'NW6', 'N4', 'SW2', 'SE15',\n",
       "       'SW1V', 'WC1N', 'SE1', 'N5', 'SE26', 'SE13', 'SE5', 'E2', 'E17',\n",
       "       'W1W', 'E15', 'E8', 'WC1H', 'Missing', 'N1', 'SW5', 'W6', 'TW7',\n",
       "       'W10', 'NW1', 'RM7', 'W1T', 'E16', 'N16', 'KT2', 'NW11', 'SE17',\n",
       "       'NW4', 'W12', 'E14', 'E5', 'TW14', 'SE7', 'W2', 'W7', 'HA0', 'W4',\n",
       "       'Improper', 'N11', 'E7', 'NW8', 'WC1X', 'W9', 'NW2', 'SE25', 'SW9',\n",
       "       'SW20', 'SW15', 'SW11', 'TW3', 'SW1X', 'SW1P', 'SE3', 'EC1Y',\n",
       "       'W1D', 'SE14', 'SW17', 'EN3', 'NW9', 'E4', 'KT9', 'N6', 'WC2N',\n",
       "       'E1W', 'W14', 'SW18', 'TW9', 'SM6', 'EC1V', 'UB8', 'N15', 'W11',\n",
       "       'HA2', 'N3', 'E20', 'IG11', 'SE16', 'E3', 'SW6', 'UB5', 'W8',\n",
       "       'EN2', 'HA4', 'BR1', 'HA1', 'NW3', 'W37', 'CR0', 'SE18', 'SE6',\n",
       "       'W1G', 'SE27', 'W1H', 'N19', 'NW5', 'WC1V', 'SW10', 'NW10', 'UB7',\n",
       "       'N2', 'W3', 'SW7', 'E11', 'Wc1x', 'SE12', 'E10', 'WC2H', 'SM5',\n",
       "       'IG1', 'HA6', 'WC1E', 'SE28', 'N10', 'SE19', 'EC1R', 'HA9', 'se16',\n",
       "       'KT6', 'KT5', 'SW1W', 'TW10', 'N22', 'EC2M', 'SW13', 'E12', 'WC2R',\n",
       "       'W1U', 'SW16', 'SE20', 'SE4', 'UB10', 'SE9', 'EC4V', 'TW2', 'TW8',\n",
       "       'E9', 'W13', 'TW12', 'CR4', 'IG6', 'DA5', 'e14', 'RM1', 'WC1A',\n",
       "       'WC1B', 'W1J', 'TW1', 'W1S', 'SE23', 'KT1', 'BR3', 'N13', 'TW4',\n",
       "       'SW1A', 'N17', 'IG2', 'N21', 'HA3', 'sw2', 'E6', 'EC2A', 'RM2',\n",
       "       'SW12', 'RM8', 'E13', 'DA14', 'HA7', 'HA8', 'Nw3', 'CR9', 'W1K',\n",
       "       'TN16', 'WC2E', 'N18', 'DA6', 'Sw1p', 'SM4', 'NW7', 'SW1H', 'E1w',\n",
       "       'EC4A', 'N12', 'EN4', 'N9', 'UB6', 'N14', 'w14', 'SM1', 'Sw4',\n",
       "       'DA8', 'SW1E', 'RM6', 'WC2B', 'UB2', 'W1F', 'EC3N', 'CR7', 'Ha9',\n",
       "       'w2', 'IG3', 'KT3', 'CR8', 'EC2Y', 'EC4N', 'IG8', 'DA17', 'TW13',\n",
       "       'KT8', 'N1C', 'EC1N', 'BR5', 'e9', 'HA5', 'CR2', 'EC1M', 'RM9',\n",
       "       'SM2', 'EN1', 'IG4', 'SW14', 'RM10', 'EC1A', 'EC4Y', 'SW1Y', 'UB9',\n",
       "       'SE2', 'SM3', 'BR2', 'DA15', 'RM13', 'EC3R', 'Ub3', 'KT7', 'UB1',\n",
       "       'CR5', 'BR7', 'Se20', 'Kt6', 'SE21', 'NW4,', 'IG7', 'EN5', 'DA7',\n",
       "       'KT4', 'E18', 'SW1O', 'RM3', 'Se13', 'TW11', 'Sw1x', 'Sw11',\n",
       "       'WC1R', 'Da14', 'RM12', 'nw1', 'nw10', 'Se2', '', 'Sw18', 'IG5',\n",
       "       'UB4', 'N20', 'TW5', 'DA1', 'EC4M', 'RM11', 'w10', 'e15', 'Tw2',\n",
       "       'EC4R', 'Sw5', 'WC15', 'Nw6', 'Sw6', 'Se1', 'WC2', 'Sw7', 'Br2',\n",
       "       'ec1a', 'Nw10', 'DA16', 'sw8', 'Nw8', 'Sw3', 'Se17', 'BR6', 'sw18',\n",
       "       'sw19', 'Br1', 'Ec1r', 'Sw1v', 'W1C', 'W1T1', 'EC2N', 'RM5', 'W1B',\n",
       "       'En4', 'WC2A', 'Sw19', 'Se18', 'SW1', 'Se28', 'Da7', 'ha4', 'Nw1',\n",
       "       'Ig11', 'EN8', 'Cr7', 'n17', 'EC3', 'Sw17', '1', 'se13', 'Ig3',\n",
       "       '2010', 'BT15', 'e1', 'Se23', 'Tw8', 'Nw5', 'Sw20', 'EC3A', 'IG9',\n",
       "       'Ub2', 'WC1', 'Sw1X', 'W1', 'w3', 'E27', 'Ha3', 'e8', 'Se11',\n",
       "       'E27F', 'E', 'sw6', 'W', 'se24', 'se6', 'Sw9', 'e16', '[no', 'nw2',\n",
       "       'w5', 'Sw15', 'n11', 'Sw16', 'sw4', 'NW15', 'sw11', 'sw5', 'RM8,',\n",
       "       'Rm3', 'RM14', 'SE', 'U', 'Cr4', 'PO31', 'DA18', 'wc1n', 'n15',\n",
       "       'w1j', 'Sw', 'Ec4a', 'SW', 'Cr0', 'Se8', 'Sw10', 'Sw2', 'W1t',\n",
       "       'Sw1a', 'w4', 'Sw1V', 'Se5', 'EC2V', 'BR4', 'Da1', 'nw6', 'Wc1b',\n",
       "       'se1', 'ub6', 'w13', 'se15', 'Ub10', 'W1w', 'Da16', 'Se16', 'EC2R',\n",
       "       'rm1', 'w1h', 'Ha4', 'sw3', 'Nw2', 'n16', 'Br5', 'tw11', 'Tw9',\n",
       "       'e2', 'n1', 'TW6', 'TW19', 'EC3M', 'W86', 'sw14', 'ig3', 'N/a',\n",
       "       'Da17', 'Se27', 'W1g', 'W1d', 'EC3V', 'Ec2a', 'wc1h', 'EC1',\n",
       "       'sw15', 'Se6', 'se2', 'se10', 'Tw10', 'SL3', 'ec4v', 'se8', 'Ub6',\n",
       "       'Nw9', 'sw1y', 'Sw33', 'Ig1', 'SW$', 'CRO', 'NN1', 'TF10', 'Sw8',\n",
       "       'WD19', 'ub4', 'ig9', 'Kt5', 'Ub4', 'wc1r', 'EW1', 'n7', 'KT19',\n",
       "       'N', 'Ha8', 'Ha2'], dtype=object)"
      ]
     },
     "execution_count": 82,
     "metadata": {},
     "output_type": "execute_result"
    }
   ],
   "source": [
    "train.outward_code.unique()"
   ]
  },
  {
   "cell_type": "markdown",
   "metadata": {},
   "source": [
    "There is one more issue to handle before the outward_code is usable by the algorithms. The letters should be turned to upper case so that there would not be distinct categories for the same values. "
   ]
  },
  {
   "cell_type": "code",
   "execution_count": 83,
   "metadata": {},
   "outputs": [],
   "source": [
    "# Turn all letters into uppercase.\n",
    "train['outward_code'] = train['outward_code'].str.upper()"
   ]
  },
  {
   "cell_type": "code",
   "execution_count": 84,
   "metadata": {},
   "outputs": [
    {
     "data": {
      "text/plain": [
       "315"
      ]
     },
     "execution_count": 84,
     "metadata": {},
     "output_type": "execute_result"
    }
   ],
   "source": [
    "# Far better!\n",
    "len(train.outward_code.unique())"
   ]
  },
  {
   "cell_type": "code",
   "execution_count": 85,
   "metadata": {},
   "outputs": [],
   "source": [
    "# The datatype of the outward code is set as category\n",
    "train[\"outward_code\"] = train['outward_code'].astype('category')"
   ]
  },
  {
   "cell_type": "code",
   "execution_count": 86,
   "metadata": {},
   "outputs": [],
   "source": [
    "# Turn all letters into uppercase.\n",
    "test['outward_code'] = test['outward_code'].str.upper()\n",
    "\n",
    "# The datatype of the outward code is set as category\n",
    "test[\"outward_code\"] = test['outward_code'].astype('category')"
   ]
  },
  {
   "cell_type": "markdown",
   "metadata": {},
   "source": [
    "#### Neighbourhood Cleansed"
   ]
  },
  {
   "cell_type": "code",
   "execution_count": 87,
   "metadata": {},
   "outputs": [],
   "source": [
    "# The datatype of the neighbourhood cleansed is set as category\n",
    "train[\"neighbourhood_cleansed\"] = train['neighbourhood_cleansed'].astype('category')"
   ]
  },
  {
   "cell_type": "code",
   "execution_count": 88,
   "metadata": {},
   "outputs": [],
   "source": [
    "# The datatype of the neighbourhood cleansed is set as category\n",
    "test[\"neighbourhood_cleansed\"] = test['neighbourhood_cleansed'].astype('category')"
   ]
  },
  {
   "cell_type": "markdown",
   "metadata": {},
   "source": [
    "### 2.5. Review Features"
   ]
  },
  {
   "cell_type": "markdown",
   "metadata": {},
   "source": [
    "As can be noticed from the graphs and the table below, there are two main problems regarding the data. First, the data is highly skewed. Secondly, nearly 20% of the data has \"Na\" values. Both of the problems can be solved by discretizing the data and filling the missing values by a new category level \"Missing\". When discretizing the variables, the number of observations in the related bins and logical assumptions about the threshold values are taken into account."
   ]
  },
  {
   "cell_type": "code",
   "execution_count": 89,
   "metadata": {},
   "outputs": [
    {
     "data": {
      "image/png": "[encoded data removed]",
      "text/plain": [
       "<Figure size 1080x720 with 9 Axes>"
      ]
     },
     "metadata": {
      "needs_background": "light"
     },
     "output_type": "display_data"
    }
   ],
   "source": [
    "train[review_features].hist(bins=20,figsize=(15, 10));"
   ]
  },
  {
   "cell_type": "code",
   "execution_count": 90,
   "metadata": {},
   "outputs": [
    {
     "data": {
      "text/plain": [
       "review_scores_rating           13415\n",
       "review_scores_accuracy         13448\n",
       "review_scores_cleanliness      13442\n",
       "review_scores_checkin          13483\n",
       "review_scores_communication    13446\n",
       "review_scores_location         13480\n",
       "review_scores_value            13480\n",
       "reviews_per_month              12380\n",
       "dtype: int64"
      ]
     },
     "execution_count": 90,
     "metadata": {},
     "output_type": "execute_result"
    }
   ],
   "source": [
    "train[review_features].isna().sum()"
   ]
  },
  {
   "cell_type": "code",
   "execution_count": 91,
   "metadata": {},
   "outputs": [],
   "source": [
    "#Discretizing the continuous variable review scores communication\n",
    "train[\"review_scores_communication_cat\"]=train.review_scores_communication.fillna(\"Missing\")\n",
    "train.loc[(train[\"review_scores_communication\"]==10),\"review_scores_communication_cat\"]=\"10\"\n",
    "train.loc[(train[\"review_scores_communication\"]==9),\"review_scores_communication_cat\"]=\"9\"\n",
    "train.loc[(train[\"review_scores_communication\"]==8),\"review_scores_communication_cat\"]=\"8\"\n",
    "train.loc[(train[\"review_scores_communication\"]<8),\"review_scores_communication_cat\"]=\"8-\""
   ]
  },
  {
   "cell_type": "code",
   "execution_count": 92,
   "metadata": {},
   "outputs": [],
   "source": [
    "#Discretizing the continuous variable review scores communication\n",
    "test[\"review_scores_communication_cat\"]=test.review_scores_communication.fillna(\"Missing\")\n",
    "test.loc[(test[\"review_scores_communication\"]==10),\"review_scores_communication_cat\"]=\"10\"\n",
    "test.loc[(test[\"review_scores_communication\"]==9),\"review_scores_communication_cat\"]=\"9\"\n",
    "test.loc[(test[\"review_scores_communication\"]==8),\"review_scores_communication_cat\"]=\"8\"\n",
    "test.loc[(test[\"review_scores_communication\"]<8),\"review_scores_communication_cat\"]=\"8-\""
   ]
  },
  {
   "cell_type": "code",
   "execution_count": 93,
   "metadata": {},
   "outputs": [],
   "source": [
    "#Discretizing the continuous variable review scores accuracy\n",
    "train[\"review_scores_accuracy_cat\"]=train.review_scores_accuracy.fillna(\"Missing\")\n",
    "train.loc[(train[\"review_scores_accuracy\"]==10),\"review_scores_accuracy_cat\"]=\"10\"\n",
    "train.loc[(train[\"review_scores_accuracy\"]==9),\"review_scores_accuracy_cat\"]=\"9\"\n",
    "train.loc[(train[\"review_scores_accuracy\"]==8),\"review_scores_accuracy_cat\"]=\"8\"\n",
    "train.loc[(train[\"review_scores_accuracy\"]<8),\"review_scores_accuracy_cat\"]=\"8-\""
   ]
  },
  {
   "cell_type": "code",
   "execution_count": 94,
   "metadata": {},
   "outputs": [],
   "source": [
    "#Discretizing the continuous variable review scores accuracy\n",
    "test[\"review_scores_accuracy_cat\"]=test.review_scores_accuracy.fillna(\"Missing\")\n",
    "test.loc[(test[\"review_scores_accuracy\"]==10),\"review_scores_accuracy_cat\"]=\"10\"\n",
    "test.loc[(test[\"review_scores_accuracy\"]==9),\"review_scores_accuracy_cat\"]=\"9\"\n",
    "test.loc[(test[\"review_scores_accuracy\"]==8),\"review_scores_accuracy_cat\"]=\"8\"\n",
    "test.loc[(test[\"review_scores_accuracy\"]<8),\"review_scores_accuracy_cat\"]=\"8-\""
   ]
  },
  {
   "cell_type": "code",
   "execution_count": 95,
   "metadata": {},
   "outputs": [],
   "source": [
    "#Discretizing the continuous variable review scores cleanliness\n",
    "train[\"review_scores_cleanliness_cat\"]=train.review_scores_cleanliness.fillna(\"Missing\")\n",
    "train.loc[(train[\"review_scores_cleanliness\"]==10),\"review_scores_cleanliness_cat\"]=\"10\"\n",
    "train.loc[(train[\"review_scores_cleanliness\"]==9),\"review_scores_cleanliness_cat\"]=\"9\"\n",
    "train.loc[(train[\"review_scores_cleanliness\"]==8),\"review_scores_cleanliness_cat\"]=\"8\"\n",
    "train.loc[(train[\"review_scores_cleanliness\"]<8),\"review_scores_cleanliness_cat\"]=\"8-\""
   ]
  },
  {
   "cell_type": "code",
   "execution_count": 96,
   "metadata": {},
   "outputs": [],
   "source": [
    "#Discretizing the continuous variable review scores cleanliness\n",
    "test[\"review_scores_cleanliness_cat\"]=test.review_scores_cleanliness.fillna(\"Missing\")\n",
    "test.loc[(test[\"review_scores_cleanliness\"]==10),\"review_scores_cleanliness_cat\"]=\"10\"\n",
    "test.loc[(test[\"review_scores_cleanliness\"]==9),\"review_scores_cleanliness_cat\"]=\"9\"\n",
    "test.loc[(test[\"review_scores_cleanliness\"]==8),\"review_scores_cleanliness_cat\"]=\"8\"\n",
    "test.loc[(test[\"review_scores_cleanliness\"]<8),\"review_scores_cleanliness_cat\"]=\"8-\""
   ]
  },
  {
   "cell_type": "code",
   "execution_count": 97,
   "metadata": {},
   "outputs": [],
   "source": [
    "#Discretizing the continuous variable review scores checkin\n",
    "train[\"review_scores_checkin_cat\"]=train.review_scores_checkin.fillna(\"Missing\")\n",
    "train.loc[(train[\"review_scores_checkin\"]==10),\"review_scores_checkin_cat\"]=\"10\"\n",
    "train.loc[(train[\"review_scores_checkin\"]==9),\"review_scores_checkin_cat\"]=\"9\"\n",
    "train.loc[(train[\"review_scores_checkin\"]==8),\"review_scores_checkin_cat\"]=\"8\"\n",
    "train.loc[(train[\"review_scores_checkin\"]<8),\"review_scores_checkin_cat\"]=\"8-\""
   ]
  },
  {
   "cell_type": "code",
   "execution_count": 98,
   "metadata": {},
   "outputs": [],
   "source": [
    "#Discretizing the continuous variable review scores checkin\n",
    "test[\"review_scores_checkin_cat\"]=test.review_scores_checkin.fillna(\"Missing\")\n",
    "test.loc[(test[\"review_scores_checkin\"]==10),\"review_scores_checkin_cat\"]=\"10\"\n",
    "test.loc[(test[\"review_scores_checkin\"]==9),\"review_scores_checkin_cat\"]=\"9\"\n",
    "test.loc[(test[\"review_scores_checkin\"]==8),\"review_scores_checkin_cat\"]=\"8\"\n",
    "test.loc[(test[\"review_scores_checkin\"]<8),\"review_scores_checkin_cat\"]=\"8-\""
   ]
  },
  {
   "cell_type": "code",
   "execution_count": 99,
   "metadata": {},
   "outputs": [],
   "source": [
    "#Discretizing the continuous variable review scores location\n",
    "train[\"review_scores_location_cat\"]=train.review_scores_location.fillna(\"Missing\")\n",
    "train.loc[(train[\"review_scores_location\"]==10),\"review_scores_location_cat\"]=\"10\"\n",
    "train.loc[(train[\"review_scores_location\"]==9),\"review_scores_location_cat\"]=\"9\"\n",
    "train.loc[(train[\"review_scores_location\"]==8),\"review_scores_location_cat\"]=\"8\"\n",
    "train.loc[(train[\"review_scores_location\"]<8),\"review_scores_location_cat\"]=\"8-\""
   ]
  },
  {
   "cell_type": "code",
   "execution_count": 100,
   "metadata": {},
   "outputs": [],
   "source": [
    "#Discretizing the continuous variable review scores location\n",
    "test[\"review_scores_location_cat\"]=test.review_scores_location.fillna(\"Missing\")\n",
    "test.loc[(test[\"review_scores_location\"]==10),\"review_scores_location_cat\"]=\"10\"\n",
    "test.loc[(test[\"review_scores_location\"]==9),\"review_scores_location_cat\"]=\"9\"\n",
    "test.loc[(test[\"review_scores_location\"]==8),\"review_scores_location_cat\"]=\"8\"\n",
    "test.loc[(test[\"review_scores_location\"]<8),\"review_scores_location_cat\"]=\"8-\""
   ]
  },
  {
   "cell_type": "code",
   "execution_count": 101,
   "metadata": {},
   "outputs": [],
   "source": [
    "#Discretizing the continuous variable review scores value\n",
    "train[\"review_scores_value_cat\"]=train.review_scores_value.fillna(\"Missing\")\n",
    "train.loc[(train[\"review_scores_value\"]==10),\"review_scores_value_cat\"]=\"10\"\n",
    "train.loc[(train[\"review_scores_value\"]==9),\"review_scores_value_cat\"]=\"9\"\n",
    "train.loc[(train[\"review_scores_value\"]==8),\"review_scores_value_cat\"]=\"8\"\n",
    "train.loc[(train[\"review_scores_value\"]<8),\"review_scores_value_cat\"]=\"8-\""
   ]
  },
  {
   "cell_type": "code",
   "execution_count": 102,
   "metadata": {},
   "outputs": [],
   "source": [
    "#Discretizing the continuous variable review scores value\n",
    "test[\"review_scores_value_cat\"]=test.review_scores_value.fillna(\"Missing\")\n",
    "test.loc[(test[\"review_scores_value\"]==10),\"review_scores_value_cat\"]=\"10\"\n",
    "test.loc[(test[\"review_scores_value\"]==9),\"review_scores_value_cat\"]=\"9\"\n",
    "test.loc[(test[\"review_scores_value\"]==8),\"review_scores_value_cat\"]=\"8\"\n",
    "test.loc[(test[\"review_scores_value\"]<8),\"review_scores_value_cat\"]=\"8-\""
   ]
  },
  {
   "cell_type": "code",
   "execution_count": 103,
   "metadata": {},
   "outputs": [],
   "source": [
    "#Discretizing the continuous variable review scores rating\n",
    "train[\"review_scores_rating_cat\"]=train.review_scores_rating.fillna(\"Missing\")\n",
    "train.loc[(train[\"review_scores_rating\"]<80),\"review_scores_rating_cat\"]=\"80-\"\n",
    "train.loc[(train[\"review_scores_rating\"]>=80),\"review_scores_rating_cat\"]=\"80-90\"\n",
    "train.loc[(train[\"review_scores_rating\"]>=90),\"review_scores_rating_cat\"]=\"90-95\"\n",
    "train.loc[(train[\"review_scores_rating\"]>=95),\"review_scores_rating_cat\"]=\"95-100\"\n",
    "train.loc[(train[\"review_scores_rating\"]==100),\"review_scores_rating_cat\"]=\"100\""
   ]
  },
  {
   "cell_type": "code",
   "execution_count": 104,
   "metadata": {},
   "outputs": [],
   "source": [
    "#Discretizing the continuous variable review scores rating\n",
    "test[\"review_scores_rating_cat\"]=test.review_scores_rating.fillna(\"Missing\")\n",
    "test.loc[(test[\"review_scores_rating\"]<80),\"review_scores_rating_cat\"]=\"80-\"\n",
    "test.loc[(test[\"review_scores_rating\"]>=80),\"review_scores_rating_cat\"]=\"80-90\"\n",
    "test.loc[(test[\"review_scores_rating\"]>=90),\"review_scores_rating_cat\"]=\"90-95\"\n",
    "test.loc[(test[\"review_scores_rating\"]>=95),\"review_scores_rating_cat\"]=\"95-100\"\n",
    "test.loc[(test[\"review_scores_rating\"]==100),\"review_scores_rating_cat\"]=\"100\""
   ]
  },
  {
   "cell_type": "code",
   "execution_count": 105,
   "metadata": {},
   "outputs": [],
   "source": [
    "#Discretizing the continuous variable reviews per month\n",
    "train[\"reviews_per_month_cat\"]=train.reviews_per_month.fillna(\"Missing\")\n",
    "train.loc[(train[\"reviews_per_month\"]<1),\"reviews_per_month_cat\"]=\"0-1\"\n",
    "train.loc[(train[\"reviews_per_month\"]>=1),\"reviews_per_month_cat\"]=\"1-3\"\n",
    "train.loc[(train[\"reviews_per_month\"]>=3),\"reviews_per_month_cat\"]=\"3-5\"\n",
    "train.loc[(train[\"reviews_per_month\"]>5),\"reviews_per_month_cat\"]=\"5+\""
   ]
  },
  {
   "cell_type": "code",
   "execution_count": 106,
   "metadata": {},
   "outputs": [],
   "source": [
    "#Discretizing the continuous variable reviews per month\n",
    "test[\"reviews_per_month_cat\"]=test.reviews_per_month.fillna(\"Missing\")\n",
    "test.loc[(test[\"reviews_per_month\"]<1),\"reviews_per_month_cat\"]=\"0-1\"\n",
    "test.loc[(test[\"reviews_per_month\"]>=1),\"reviews_per_month_cat\"]=\"1-3\"\n",
    "test.loc[(test[\"reviews_per_month\"]>=3),\"reviews_per_month_cat\"]=\"3-5\"\n",
    "test.loc[(test[\"reviews_per_month\"]>5),\"reviews_per_month_cat\"]=\"5+\""
   ]
  },
  {
   "cell_type": "code",
   "execution_count": 107,
   "metadata": {},
   "outputs": [],
   "source": [
    "#Dropping the raw columns since they are no longer needed\n",
    "train.drop([\"review_scores_accuracy\",\"review_scores_cleanliness\",\"review_scores_checkin\",\"review_scores_communication\"\n",
    "           ,\"review_scores_location\",\"review_scores_value\",\"review_scores_rating\",\"reviews_per_month\"], inplace=True, axis=1)"
   ]
  },
  {
   "cell_type": "code",
   "execution_count": 108,
   "metadata": {},
   "outputs": [],
   "source": [
    "#Dropping the raw columns since they are no longer needed\n",
    "test.drop([\"review_scores_accuracy\",\"review_scores_cleanliness\",\"review_scores_checkin\",\"review_scores_communication\"\n",
    "           ,\"review_scores_location\",\"review_scores_value\",\"review_scores_rating\",\"reviews_per_month\"], inplace=True, axis=1)"
   ]
  },
  {
   "cell_type": "code",
   "execution_count": 109,
   "metadata": {},
   "outputs": [],
   "source": [
    "#Setting the data types as category\n",
    "train[\"review_scores_communication_cat\"] = train['review_scores_communication_cat'].astype('category')\n",
    "train[\"review_scores_accuracy_cat\"] = train['review_scores_accuracy_cat'].astype('category')\n",
    "train[\"review_scores_cleanliness_cat\"] = train['review_scores_cleanliness_cat'].astype('category')\n",
    "train[\"review_scores_checkin_cat\"] = train['review_scores_checkin_cat'].astype('category')\n",
    "train[\"review_scores_location_cat\"] = train['review_scores_location_cat'].astype('category')\n",
    "train[\"review_scores_value_cat\"] = train['review_scores_value_cat'].astype('category')\n",
    "train[\"review_scores_rating_cat\"] = train['review_scores_rating_cat'].astype('category')\n",
    "train[\"reviews_per_month_cat\"] = train['reviews_per_month_cat'].astype('category')"
   ]
  },
  {
   "cell_type": "code",
   "execution_count": 110,
   "metadata": {},
   "outputs": [],
   "source": [
    "#Setting the data types as category\n",
    "test[\"review_scores_communication_cat\"] = test['review_scores_communication_cat'].astype('category')\n",
    "test[\"review_scores_accuracy_cat\"] = test['review_scores_accuracy_cat'].astype('category')\n",
    "test[\"review_scores_cleanliness_cat\"] = test['review_scores_cleanliness_cat'].astype('category')\n",
    "test[\"review_scores_checkin_cat\"] = test['review_scores_checkin_cat'].astype('category')\n",
    "test[\"review_scores_location_cat\"] = test['review_scores_location_cat'].astype('category')\n",
    "test[\"review_scores_value_cat\"] = test['review_scores_value_cat'].astype('category')\n",
    "test[\"review_scores_rating_cat\"] = test['review_scores_rating_cat'].astype('category')\n",
    "test[\"reviews_per_month_cat\"] = test['reviews_per_month_cat'].astype('category')"
   ]
  },
  {
   "cell_type": "code",
   "execution_count": 111,
   "metadata": {},
   "outputs": [],
   "source": [
    "review_features_cat=[\"review_scores_communication_cat\",\"review_scores_accuracy_cat\",\"review_scores_cleanliness_cat\",\n",
    "                     \"review_scores_checkin_cat\",\"review_scores_location_cat\",\"review_scores_value_cat\",\n",
    "                     \"review_scores_rating_cat\",\"reviews_per_month_cat\"]"
   ]
  },
  {
   "cell_type": "markdown",
   "metadata": {},
   "source": [
    "The final distributions of the categorical variables can be seen in the countplots below. Both of the issues that is encountered are solved according to the outputs below. "
   ]
  },
  {
   "cell_type": "code",
   "execution_count": 112,
   "metadata": {},
   "outputs": [
    {
     "data": {
      "image/png": "[encoded data removed]",
      "text/plain": [
       "<Figure size 432x288 with 1 Axes>"
      ]
     },
     "metadata": {
      "needs_background": "light"
     },
     "output_type": "display_data"
    },
    {
     "data": {
      "image/png": "[encoded data removed]",
      "text/plain": [
       "<Figure size 432x288 with 1 Axes>"
      ]
     },
     "metadata": {
      "needs_background": "light"
     },
     "output_type": "display_data"
    },
    {
     "data": {
      "image/png": "[encoded data removed]",
      "text/plain": [
       "<Figure size 432x288 with 1 Axes>"
      ]
     },
     "metadata": {
      "needs_background": "light"
     },
     "output_type": "display_data"
    },
    {
     "data": {
      "image/png": "[encoded data removed]",
      "text/plain": [
       "<Figure size 432x288 with 1 Axes>"
      ]
     },
     "metadata": {
      "needs_background": "light"
     },
     "output_type": "display_data"
    },
    {
     "data": {
      "image/png": "[encoded data removed]",
      "text/plain": [
       "<Figure size 432x288 with 1 Axes>"
      ]
     },
     "metadata": {
      "needs_background": "light"
     },
     "output_type": "display_data"
    },
    {
     "data": {
      "image/png": "[encoded data removed]",
      "text/plain": [
       "<Figure size 432x288 with 1 Axes>"
      ]
     },
     "metadata": {
      "needs_background": "light"
     },
     "output_type": "display_data"
    },
    {
     "data": {
      "image/png": "[encoded data removed]",
      "text/plain": [
       "<Figure size 432x288 with 1 Axes>"
      ]
     },
     "metadata": {
      "needs_background": "light"
     },
     "output_type": "display_data"
    },
    {
     "data": {
      "image/png": "[encoded data removed]",
      "text/plain": [
       "<Figure size 432x288 with 1 Axes>"
      ]
     },
     "metadata": {
      "needs_background": "light"
     },
     "output_type": "display_data"
    }
   ],
   "source": [
    "for i, col in enumerate(review_features_cat):\n",
    "    plt.figure(i)\n",
    "    sns.countplot(x=col, data=train)"
   ]
  },
  {
   "cell_type": "code",
   "execution_count": 113,
   "metadata": {},
   "outputs": [
    {
     "data": {
      "text/plain": [
       "review_scores_communication_cat    0\n",
       "review_scores_accuracy_cat         0\n",
       "review_scores_cleanliness_cat      0\n",
       "review_scores_checkin_cat          0\n",
       "review_scores_location_cat         0\n",
       "review_scores_value_cat            0\n",
       "review_scores_rating_cat           0\n",
       "reviews_per_month_cat              0\n",
       "dtype: int64"
      ]
     },
     "execution_count": 113,
     "metadata": {},
     "output_type": "execute_result"
    }
   ],
   "source": [
    "train[review_features_cat].isna().sum()"
   ]
  },
  {
   "cell_type": "markdown",
   "metadata": {},
   "source": [
    "Now let's take a final look at the whole data to see whether we missed any missing values or wrong datatypes."
   ]
  },
  {
   "cell_type": "code",
   "execution_count": 114,
   "metadata": {},
   "outputs": [
    {
     "name": "stdout",
     "output_type": "stream",
     "text": [
      "<class 'pandas.core.frame.DataFrame'>\n",
      "RangeIndex: 55284 entries, 0 to 55283\n",
      "Data columns (total 37 columns):\n",
      "experiences_offered                55284 non-null category\n",
      "host_id                            55284 non-null int64\n",
      "host_response_time                 55284 non-null category\n",
      "host_is_superhost                  55284 non-null bool\n",
      "host_has_profile_pic               55284 non-null bool\n",
      "host_identity_verified             55284 non-null bool\n",
      "neighbourhood_cleansed             55284 non-null category\n",
      "latitude                           55284 non-null float64\n",
      "longitude                          55284 non-null float64\n",
      "property_type                      55284 non-null category\n",
      "room_type                          55284 non-null category\n",
      "accommodates                       55284 non-null int64\n",
      "bathrooms                          55284 non-null float64\n",
      "bedrooms                           55284 non-null float64\n",
      "beds                               55284 non-null float64\n",
      "bed_type                           55284 non-null category\n",
      "price                              55284 non-null float64\n",
      "guests_included                    55284 non-null int64\n",
      "cancellation_policy                55284 non-null category\n",
      "listing_id                         55284 non-null object\n",
      "name_clean                         55284 non-null object\n",
      "description_clean                  55284 non-null object\n",
      "neighborhood_overview_clean        55284 non-null object\n",
      "transit_clean                      55284 non-null object\n",
      "amenities_clean                    55284 non-null object\n",
      "host_response_rate_cat             55284 non-null category\n",
      "host_total_listings_count_cat      55284 non-null category\n",
      "host_for_days                      55284 non-null float64\n",
      "outward_code                       55284 non-null category\n",
      "review_scores_communication_cat    55284 non-null category\n",
      "review_scores_accuracy_cat         55284 non-null category\n",
      "review_scores_cleanliness_cat      55284 non-null category\n",
      "review_scores_checkin_cat          55284 non-null category\n",
      "review_scores_location_cat         55284 non-null category\n",
      "review_scores_value_cat            55284 non-null category\n",
      "review_scores_rating_cat           55284 non-null category\n",
      "reviews_per_month_cat              55284 non-null category\n",
      "dtypes: bool(3), category(18), float64(7), int64(3), object(6)\n",
      "memory usage: 7.9+ MB\n"
     ]
    }
   ],
   "source": [
    "train.info()"
   ]
  },
  {
   "cell_type": "code",
   "execution_count": 115,
   "metadata": {},
   "outputs": [
    {
     "data": {
      "text/plain": [
       "experiences_offered                0\n",
       "host_id                            0\n",
       "host_response_time                 0\n",
       "host_is_superhost                  0\n",
       "host_has_profile_pic               0\n",
       "host_identity_verified             0\n",
       "neighbourhood_cleansed             0\n",
       "latitude                           0\n",
       "longitude                          0\n",
       "property_type                      0\n",
       "room_type                          0\n",
       "accommodates                       0\n",
       "bathrooms                          0\n",
       "bedrooms                           0\n",
       "beds                               0\n",
       "bed_type                           0\n",
       "price                              0\n",
       "guests_included                    0\n",
       "cancellation_policy                0\n",
       "listing_id                         0\n",
       "name_clean                         0\n",
       "description_clean                  0\n",
       "neighborhood_overview_clean        0\n",
       "transit_clean                      0\n",
       "amenities_clean                    0\n",
       "host_response_rate_cat             0\n",
       "host_total_listings_count_cat      0\n",
       "host_for_days                      0\n",
       "outward_code                       0\n",
       "review_scores_communication_cat    0\n",
       "review_scores_accuracy_cat         0\n",
       "review_scores_cleanliness_cat      0\n",
       "review_scores_checkin_cat          0\n",
       "review_scores_location_cat         0\n",
       "review_scores_value_cat            0\n",
       "review_scores_rating_cat           0\n",
       "reviews_per_month_cat              0\n",
       "dtype: int64"
      ]
     },
     "execution_count": 115,
     "metadata": {},
     "output_type": "execute_result"
    }
   ],
   "source": [
    "train.isna().sum()"
   ]
  },
  {
   "cell_type": "code",
   "execution_count": 116,
   "metadata": {},
   "outputs": [
    {
     "name": "stdout",
     "output_type": "stream",
     "text": [
      "<class 'pandas.core.frame.DataFrame'>\n",
      "RangeIndex: 29769 entries, 0 to 29768\n",
      "Data columns (total 36 columns):\n",
      "experiences_offered                29769 non-null category\n",
      "host_id                            29769 non-null int64\n",
      "host_response_time                 29769 non-null category\n",
      "host_is_superhost                  29769 non-null bool\n",
      "host_has_profile_pic               29769 non-null bool\n",
      "host_identity_verified             29769 non-null bool\n",
      "neighbourhood_cleansed             29769 non-null category\n",
      "latitude                           29769 non-null float64\n",
      "longitude                          29769 non-null float64\n",
      "property_type                      29769 non-null category\n",
      "room_type                          29769 non-null category\n",
      "accommodates                       29769 non-null int64\n",
      "bathrooms                          29769 non-null float64\n",
      "bedrooms                           29769 non-null float64\n",
      "beds                               29769 non-null float64\n",
      "bed_type                           29769 non-null category\n",
      "guests_included                    29769 non-null int64\n",
      "cancellation_policy                29769 non-null category\n",
      "listing_id                         29769 non-null object\n",
      "name_clean                         29769 non-null object\n",
      "description_clean                  29769 non-null object\n",
      "neighborhood_overview_clean        29769 non-null object\n",
      "transit_clean                      29769 non-null object\n",
      "amenities_clean                    29769 non-null object\n",
      "host_response_rate_cat             29769 non-null category\n",
      "host_total_listings_count_cat      29769 non-null category\n",
      "host_for_days                      29769 non-null float64\n",
      "outward_code                       29769 non-null category\n",
      "review_scores_communication_cat    29769 non-null category\n",
      "review_scores_accuracy_cat         29769 non-null category\n",
      "review_scores_cleanliness_cat      29769 non-null category\n",
      "review_scores_checkin_cat          29769 non-null category\n",
      "review_scores_location_cat         29769 non-null category\n",
      "review_scores_value_cat            29769 non-null category\n",
      "review_scores_rating_cat           29769 non-null category\n",
      "reviews_per_month_cat              29769 non-null category\n",
      "dtypes: bool(3), category(18), float64(6), int64(3), object(6)\n",
      "memory usage: 4.0+ MB\n"
     ]
    }
   ],
   "source": [
    "test.info()"
   ]
  },
  {
   "cell_type": "code",
   "execution_count": 117,
   "metadata": {},
   "outputs": [
    {
     "data": {
      "text/plain": [
       "experiences_offered                0\n",
       "host_id                            0\n",
       "host_response_time                 0\n",
       "host_is_superhost                  0\n",
       "host_has_profile_pic               0\n",
       "host_identity_verified             0\n",
       "neighbourhood_cleansed             0\n",
       "latitude                           0\n",
       "longitude                          0\n",
       "property_type                      0\n",
       "room_type                          0\n",
       "accommodates                       0\n",
       "bathrooms                          0\n",
       "bedrooms                           0\n",
       "beds                               0\n",
       "bed_type                           0\n",
       "guests_included                    0\n",
       "cancellation_policy                0\n",
       "listing_id                         0\n",
       "name_clean                         0\n",
       "description_clean                  0\n",
       "neighborhood_overview_clean        0\n",
       "transit_clean                      0\n",
       "amenities_clean                    0\n",
       "host_response_rate_cat             0\n",
       "host_total_listings_count_cat      0\n",
       "host_for_days                      0\n",
       "outward_code                       0\n",
       "review_scores_communication_cat    0\n",
       "review_scores_accuracy_cat         0\n",
       "review_scores_cleanliness_cat      0\n",
       "review_scores_checkin_cat          0\n",
       "review_scores_location_cat         0\n",
       "review_scores_value_cat            0\n",
       "review_scores_rating_cat           0\n",
       "reviews_per_month_cat              0\n",
       "dtype: int64"
      ]
     },
     "execution_count": 117,
     "metadata": {},
     "output_type": "execute_result"
    }
   ],
   "source": [
    "test.isna().sum()"
   ]
  },
  {
   "cell_type": "markdown",
   "metadata": {},
   "source": [
    "## 3. Model Selection"
   ]
  },
  {
   "cell_type": "markdown",
   "metadata": {},
   "source": [
    "In this section of the project, first the text and the non-text columns are prepared to be used by the selected algorithms. Then the benchmark models are fitted to the data to see the initial performance which is followed by building several RNN Structures. Finally, a composite model combining text and non-text features is built."
   ]
  },
  {
   "cell_type": "markdown",
   "metadata": {},
   "source": [
    "### 3.1. Data Preparation "
   ]
  },
  {
   "cell_type": "markdown",
   "metadata": {},
   "source": [
    "The data preparation phase is carried out seperately for text and non-text columns due to wide difference between the tasks."
   ]
  },
  {
   "cell_type": "markdown",
   "metadata": {},
   "source": [
    "#### 3.1.1. Non-text Columns"
   ]
  },
  {
   "cell_type": "markdown",
   "metadata": {},
   "source": [
    "For the non-text columns, the categorical variables are encoded. 2 main methods are used for encoding which are \"Dummy Encoding\" and \"Target Encoding\". Both are standard practices to deal with categorical variables. When the dimensionality of the categorical variable is low, dummy encoding is preferred for high performance. For the cases where dimensionality increases substantially, target encoding is used to decrease the size and hence computational power that is needed. When applying target encoding, the unknown and the missing data are replaced with the target mean as default which enables the algorithm to be robust to new categorical levels in the test data."
   ]
  },
  {
   "cell_type": "code",
   "execution_count": 118,
   "metadata": {},
   "outputs": [],
   "source": [
    "# Dummy encoding for categorical variables with low dimensionality\n",
    "train=pd.get_dummies(train, columns = ['experiences_offered', 'host_response_time',\"room_type\",\"bed_type\",\n",
    "                                       \"cancellation_policy\",\"host_response_rate_cat\",\"host_total_listings_count_cat\",\n",
    "                                      \"review_scores_communication_cat\",\"review_scores_accuracy_cat\",\n",
    "                                      \"review_scores_cleanliness_cat\",\"review_scores_checkin_cat\",\"review_scores_location_cat\",\n",
    "                                      \"review_scores_value_cat\",\"review_scores_rating_cat\",\"reviews_per_month_cat\"], drop_first=True)"
   ]
  },
  {
   "cell_type": "code",
   "execution_count": 119,
   "metadata": {},
   "outputs": [],
   "source": [
    "# Dummy encoding for categorical variables with low dimensionality\n",
    "test=pd.get_dummies(test, columns = ['experiences_offered', 'host_response_time',\"room_type\",\"bed_type\",\n",
    "                                       \"cancellation_policy\",\"host_response_rate_cat\",\"host_total_listings_count_cat\",\n",
    "                                      \"review_scores_communication_cat\",\"review_scores_accuracy_cat\",\n",
    "                                      \"review_scores_cleanliness_cat\",\"review_scores_checkin_cat\",\"review_scores_location_cat\",\n",
    "                                      \"review_scores_value_cat\",\"review_scores_rating_cat\",\"reviews_per_month_cat\"], drop_first=True)"
   ]
  },
  {
   "cell_type": "code",
   "execution_count": 120,
   "metadata": {},
   "outputs": [],
   "source": [
    "# Target encoding for categorical variables with high dimensionality\n",
    "# Create target encoding object\n",
    "encoder=ce.TargetEncoder(cols=['neighbourhood_cleansed',\"property_type\",\"outward_code\"]) \n",
    "# Fit the object to train data\n",
    "encoded_cols=encoder.fit_transform(train[['neighbourhood_cleansed',\"property_type\",\"outward_code\"]],train['price'])\n",
    "# Rename the names of the columns\n",
    "encoded_cols.rename(columns = {'neighbourhood_cleansed':'neighbourhood_cleansed_new',\"property_type\":\"property_type_new\",\n",
    "                              \"outward_code\":\"outward_code_new\"}, inplace = True)\n",
    "# Join new columns to the dataset\n",
    "train=train.join(encoded_cols)\n",
    "# Drop the raw columns\n",
    "train.drop([\"neighbourhood_cleansed\",\"property_type\",\"outward_code\"], inplace=True, axis=1)"
   ]
  },
  {
   "cell_type": "code",
   "execution_count": 121,
   "metadata": {},
   "outputs": [],
   "source": [
    "# Target encoding for categorical variables with high dimensionality\n",
    "#Fit the encoding to test data\n",
    "encoded_cols_test=encoder.transform(test[['neighbourhood_cleansed',\"property_type\",\"outward_code\"]], y=None, override_return_df=True)\n",
    "# Rename the names of the columns\n",
    "encoded_cols_test.rename(columns = {'neighbourhood_cleansed':'neighbourhood_cleansed_new',\"property_type\":\"property_type_new\",\n",
    "                              \"outward_code\":\"outward_code_new\"}, inplace = True)\n",
    "# Join new columns to the dataset\n",
    "test=test.join(encoded_cols_test)\n",
    "# Drop the raw columns\n",
    "test.drop([\"neighbourhood_cleansed\",\"property_type\",\"outward_code\"], inplace=True, axis=1)"
   ]
  },
  {
   "cell_type": "markdown",
   "metadata": {},
   "source": [
    "#### 3.1.2. Text Columns"
   ]
  },
  {
   "cell_type": "markdown",
   "metadata": {},
   "source": [
    "For text columns, we begin with loading the pre-trained embeddings. For our embeddings, it is decided to pick 100-dimensional wiki2vec embeddings from https://wikipedia2vec.github.io/wikipedia2vec/pretrained/."
   ]
  },
  {
   "cell_type": "code",
   "execution_count": 122,
   "metadata": {},
   "outputs": [
    {
     "name": "stdout",
     "output_type": "stream",
     "text": [
      "Loaded wiki2vec embeddings in 1241.6757731437683 seconds.\n"
     ]
    }
   ],
   "source": [
    "# Load wiki2vec embeddings:\n",
    "start = time.time()\n",
    "wiki2vec = KeyedVectors.load_word2vec_format('C:/Users/Berkay Kocak/Desktop/ADAMS/ASSIGNMENT_DATA/enwiki_20180420_100d.txt')\n",
    "end = time.time()\n",
    "print(f\"Loaded wiki2vec embeddings in {end - start} seconds.\")"
   ]
  },
  {
   "cell_type": "markdown",
   "metadata": {},
   "source": [
    "The data that will be used in different nlp algorithms are formed below."
   ]
  },
  {
   "cell_type": "code",
   "execution_count": 123,
   "metadata": {},
   "outputs": [],
   "source": [
    "# Split the data into train and test set\n",
    "X_nlp = train.drop(['price',\"listing_id\"], axis=1) \n",
    "y_nlp = train[['price']]\n",
    "X_train_nlp, X_test_nlp, y_train_nlp, y_test_nlp = train_test_split(X_nlp, y_nlp , test_size=0.20, random_state=111)"
   ]
  },
  {
   "cell_type": "code",
   "execution_count": 124,
   "metadata": {},
   "outputs": [],
   "source": [
    "def get_embedding_matrix(tokenizer, pretrain, vocab_size):\n",
    "    '''\n",
    "        Helper function to construct an embedding matrix for\n",
    "        the focal corpus based on some pre-trained embeddings.\n",
    "    '''\n",
    "\n",
    "    dim = 0\n",
    "    if isinstance(pretrain, KeyedVectors) or isinstance(pretrain, Word2VecKeyedVectors):\n",
    "        dim = pretrain.vector_size\n",
    "    elif isinstance(pretrain, dict):\n",
    "        dim = next(iter(pretrain.values())).shape[0]  # get embedding of an arbitrary word\n",
    "    else:\n",
    "        raise Exception('{} is not supported'.format(type(pretrain)))\n",
    "\n",
    "    # Initialize embedding matrix\n",
    "    emb_mat = np.zeros((vocab_size, dim))\n",
    "\n",
    "    # Out of vocabulary words in our corpus for which we lack a pre-trained embedding.\n",
    "    oov_words = []\n",
    "    # Below we use the tokenizer object that created our task vocabulary. \n",
    "    for word, i in tokenizer.word_index.items():\n",
    "        # try-catch together with a zero-initilaized embedding matrix achieves our rough fix for oov words\n",
    "        try:\n",
    "            emb_mat[i] = pretrain[word]\n",
    "        except:\n",
    "            oov_words.append(word)\n",
    "    print('Created embedding matrix of shape {}'.format(emb_mat.shape))\n",
    "    print('Encountered {} out-of-vocabulary words.'.format(len(oov_words)))\n",
    "    return emb_mat, oov_words\n"
   ]
  },
  {
   "cell_type": "markdown",
   "metadata": {},
   "source": [
    "The embedding matrices are formed seperately for the text columns. These columns are name, amenities, description, neighborhood overview and transit. The maximum length of these seperate text features are determined according to the longest entry in the train set. The knowledge from test set can not be used since the test set should be unknown to us to prevent the data leakage. The optimum lengths that use most of the features without truncation are chosen as follows: \n",
    "\n",
    "Name: 25 <br>\n",
    "Amenities: 200 <br>\n",
    "Description: 200 <br>\n",
    "Neighborhood Overview: 200 <br>\n",
    "Transit: 150 <br>\n",
    "\n",
    "The texts are all alphanumeric and in lower case anyway because of our cleaning loop."
   ]
  },
  {
   "cell_type": "code",
   "execution_count": 125,
   "metadata": {},
   "outputs": [
    {
     "name": "stdout",
     "output_type": "stream",
     "text": [
      "The longest name of the training set has 23 words.\n",
      "Created embedding matrix of shape (5591, 100)\n",
      "Encountered 801 out-of-vocabulary words.\n"
     ]
    }
   ],
   "source": [
    "# Initializing the tokenizer and fitting it on the data\n",
    "tokenizer_name = Tokenizer(oov_token=1, filters='!\"#$%&()*+,-.:;<=>?@[\\\\]^`{|}~\\t\\n', lower=False)\n",
    "tokenizer_name.fit_on_texts(X_train_nlp.name_clean)\n",
    "NUM_WORDS_NAME = len(tokenizer_name.word_index) + 1\n",
    "\n",
    "# Encoding the train data\n",
    "X_tr_int_name = tokenizer_name.texts_to_sequences(X_train_nlp.name_clean)\n",
    "\n",
    "# Finding max article length\n",
    "max_article_length = max([len(article) for article in X_tr_int_name])\n",
    "print('The longest name of the training set has {} words.'.format(max_article_length))\n",
    "\n",
    "# Upper bound of the article length for padding\n",
    "MAX_NAME_LENGTH = 25\n",
    "\n",
    "# Padding the train data\n",
    "X_tr_int_pad_name = pad_sequences(X_tr_int_name, MAX_NAME_LENGTH)\n",
    "\n",
    "# Encode and pad the test data\n",
    "X_ts_int_name = tokenizer_name.texts_to_sequences(X_test_nlp.name_clean)\n",
    "X_ts_int_pad_name = pad_sequences(X_ts_int_name, MAX_NAME_LENGTH)\n",
    "\n",
    "wiki_weights_name, _ = get_embedding_matrix(tokenizer_name, wiki2vec, NUM_WORDS_NAME)"
   ]
  },
  {
   "cell_type": "code",
   "execution_count": 126,
   "metadata": {},
   "outputs": [
    {
     "name": "stdout",
     "output_type": "stream",
     "text": [
      "The longest amenities of the training set has 200 words.\n",
      "Created embedding matrix of shape (272, 100)\n",
      "Encountered 0 out-of-vocabulary words.\n"
     ]
    }
   ],
   "source": [
    "# Initializing the tokenizer and fitting it on the data\n",
    "tokenizer_amenities = Tokenizer(oov_token=1, filters='!\"#$%&()*+,-.:;<=>?@[\\\\]^`{|}~\\t\\n', lower=False)\n",
    "tokenizer_amenities.fit_on_texts(X_train_nlp.amenities_clean)\n",
    "NUM_WORDS_AMENITIES = len(tokenizer_amenities.word_index) + 1\n",
    "\n",
    "# Encoding the train data\n",
    "X_tr_int_amenities = tokenizer_amenities.texts_to_sequences(X_train_nlp.amenities_clean)\n",
    "\n",
    "# Finding max article length\n",
    "max_article_length = max([len(article) for article in X_tr_int_amenities])\n",
    "print('The longest amenities of the training set has {} words.'.format(max_article_length))\n",
    "\n",
    "# Upper bound of the article length for padding\n",
    "MAX_AMENITIES_LENGTH = 200\n",
    "\n",
    "# Padding the train data\n",
    "X_tr_int_pad_amenities = pad_sequences(X_tr_int_amenities, MAX_AMENITIES_LENGTH)\n",
    "\n",
    "# Encode and pad the test data\n",
    "X_ts_int_amenities = tokenizer_amenities.texts_to_sequences(X_test_nlp.amenities_clean)\n",
    "X_ts_int_pad_amenities = pad_sequences(X_ts_int_amenities, MAX_AMENITIES_LENGTH)\n",
    "\n",
    "wiki_weights_amenities, _ = get_embedding_matrix(tokenizer_amenities, wiki2vec, NUM_WORDS_AMENITIES)"
   ]
  },
  {
   "cell_type": "code",
   "execution_count": 127,
   "metadata": {},
   "outputs": [
    {
     "name": "stdout",
     "output_type": "stream",
     "text": [
      "The longest description of the training set has 197 words.\n",
      "Created embedding matrix of shape (26945, 100)\n",
      "Encountered 5687 out-of-vocabulary words.\n"
     ]
    }
   ],
   "source": [
    "# Initializing the tokenizer and fitting it on the data\n",
    "tokenizer_description = Tokenizer(oov_token=1, filters='!\"#$%&()*+,-.:;<=>?@[\\\\]^`{|}~\\t\\n', lower=False)\n",
    "tokenizer_description.fit_on_texts(X_train_nlp.description_clean)\n",
    "NUM_WORDS_DESCRIPTION = len(tokenizer_description.word_index) + 1\n",
    "\n",
    "# Encoding the train data\n",
    "X_tr_int_description = tokenizer_description.texts_to_sequences(X_train_nlp.description_clean)\n",
    "\n",
    "# Finding max article length\n",
    "max_article_length = max([len(article) for article in X_tr_int_description])\n",
    "print('The longest description of the training set has {} words.'.format(max_article_length))\n",
    "\n",
    "# Upper bound of the article length for padding\n",
    "MAX_DESCRIPTION_LENGTH = 200\n",
    "\n",
    "# Padding the train data\n",
    "X_tr_int_pad_description = pad_sequences(X_tr_int_description, MAX_DESCRIPTION_LENGTH)\n",
    "\n",
    "# Encode and pad the test data\n",
    "X_ts_int_description = tokenizer_description.texts_to_sequences(X_test_nlp.description_clean)\n",
    "X_ts_int_pad_description = pad_sequences(X_ts_int_description, MAX_DESCRIPTION_LENGTH)\n",
    "\n",
    "wiki_weights_description, _ = get_embedding_matrix(tokenizer_description, wiki2vec, NUM_WORDS_DESCRIPTION)"
   ]
  },
  {
   "cell_type": "code",
   "execution_count": 128,
   "metadata": {},
   "outputs": [
    {
     "name": "stdout",
     "output_type": "stream",
     "text": [
      "The longest overview of the training set has 191 words.\n",
      "Created embedding matrix of shape (18104, 100)\n",
      "Encountered 2179 out-of-vocabulary words.\n"
     ]
    }
   ],
   "source": [
    "# Initializing the tokenizer and fitting it on the data\n",
    "tokenizer_neighborhood_overview = Tokenizer(oov_token=1, filters='!\"#$%&()*+,-.:;<=>?@[\\\\]^`{|}~\\t\\n', lower=False)\n",
    "tokenizer_neighborhood_overview.fit_on_texts(X_train_nlp.neighborhood_overview_clean)\n",
    "NUM_WORDS_NEIGHBORHOOD_OVERVIEW = len(tokenizer_neighborhood_overview.word_index) + 1\n",
    "\n",
    "# Encoding the train data\n",
    "X_tr_int_neighborhood_overview = tokenizer_neighborhood_overview.texts_to_sequences(X_train_nlp.neighborhood_overview_clean)\n",
    "\n",
    "# Finding max article length\n",
    "max_article_length = max([len(article) for article in X_tr_int_neighborhood_overview])\n",
    "print('The longest overview of the training set has {} words.'.format(max_article_length))\n",
    "\n",
    "# Upper bound of the article length for padding\n",
    "MAX_NEIGHBORHOOD_OVERVIEW_LENGTH = 200\n",
    "\n",
    "# Padding the train data\n",
    "X_tr_int_pad_neighborhood_overview = pad_sequences(X_tr_int_neighborhood_overview, MAX_NEIGHBORHOOD_OVERVIEW_LENGTH)\n",
    "\n",
    "# Encode and pad the test data\n",
    "X_ts_int_neighborhood_overview = tokenizer_neighborhood_overview.texts_to_sequences(X_test_nlp.neighborhood_overview_clean)\n",
    "X_ts_int_pad_neighborhood_overview = pad_sequences(X_ts_int_neighborhood_overview, MAX_NEIGHBORHOOD_OVERVIEW_LENGTH)\n",
    "\n",
    "wiki_weights_neighborhood_overview, _ = get_embedding_matrix(tokenizer_neighborhood_overview, wiki2vec, NUM_WORDS_NEIGHBORHOOD_OVERVIEW)"
   ]
  },
  {
   "cell_type": "code",
   "execution_count": 129,
   "metadata": {},
   "outputs": [
    {
     "name": "stdout",
     "output_type": "stream",
     "text": [
      "The longest transit of the training set has 146 words.\n",
      "Created embedding matrix of shape (10073, 100)\n",
      "Encountered 1410 out-of-vocabulary words.\n"
     ]
    }
   ],
   "source": [
    "# Initializing the tokenizer and fitting it on the data\n",
    "tokenizer_transit = Tokenizer(oov_token=1, filters='!\"#$%&()*+,-.:;<=>?@[\\\\]^`{|}~\\t\\n', lower=False)\n",
    "tokenizer_transit.fit_on_texts(X_train_nlp.transit_clean)\n",
    "NUM_WORDS_TRANSIT = len(tokenizer_transit.word_index) + 1\n",
    "\n",
    "# Encoding the train data\n",
    "X_tr_int_transit = tokenizer_transit.texts_to_sequences(X_train_nlp.transit_clean)\n",
    "\n",
    "# Finding max article length\n",
    "max_article_length = max([len(article) for article in X_tr_int_transit])\n",
    "print('The longest transit of the training set has {} words.'.format(max_article_length))\n",
    "\n",
    "# Upper bound of the article length for padding\n",
    "MAX_TRANSIT_LENGTH = 150\n",
    "\n",
    "# Padding the train data\n",
    "X_tr_int_pad_transit = pad_sequences(X_tr_int_transit, MAX_TRANSIT_LENGTH)\n",
    "\n",
    "# Encode and pad the test data\n",
    "X_ts_int_transit = tokenizer_transit.texts_to_sequences(X_test_nlp.transit_clean)\n",
    "X_ts_int_pad_transit = pad_sequences(X_ts_int_transit, MAX_TRANSIT_LENGTH)\n",
    "\n",
    "wiki_weights_transit, _ = get_embedding_matrix(tokenizer_transit, wiki2vec, NUM_WORDS_TRANSIT)"
   ]
  },
  {
   "cell_type": "markdown",
   "metadata": {},
   "source": [
    "### 3.2. Benchmark Models"
   ]
  },
  {
   "cell_type": "markdown",
   "metadata": {},
   "source": [
    "Benchmark models are trained for performance evaluation of the final model and keep track of our pipeline progress in terms of performance evaluation metrics. The models used on non-text data in this part are Extreme Gradient Boosting Regressor, Random Forest Regressor and Support Vector Regressor. Ensemble learners such as RFR and XGBR are especially known to be performing really good with tabular data. Additionally, a basic GRU model on text features is trained. The evaluation metrics that are used are Mean Absolute Error, Mean Squared Error and Root Mean Squared Error."
   ]
  },
  {
   "cell_type": "code",
   "execution_count": 130,
   "metadata": {},
   "outputs": [],
   "source": [
    "# Function for evaluating machine learning models, prints metrics MAE, MSE, RMSE\n",
    "def evaluate_ml(model, test_features, test_labels):\n",
    "    predictions = model.predict(test_features)\n",
    "    errors = abs(predictions - test_labels)\n",
    "    mae = mean_absolute_error(test_labels,predictions)\n",
    "    mse = mean_squared_error(test_labels,predictions)\n",
    "    rmse = math.sqrt(mean_squared_error(test_labels, predictions))\n",
    "    print(\"The model:\"+\"\\n\")\n",
    "    print(model,'\\n')\n",
    "    print('Mean Absolute Error             : {:0.4f}'.format(mae))\n",
    "    print('Mean Squared Error              : {:0.2f}'.format(mse))\n",
    "    print('Root Mean Square Error          : {:0.2f}'.format(rmse))"
   ]
  },
  {
   "cell_type": "markdown",
   "metadata": {},
   "source": [
    "A function is created for evaluating the machine learning models to decrease the repetition for the 3 ml models that are employed. The function calculates the metrics MAE, MSE and RMSE and prints them when it is called."
   ]
  },
  {
   "cell_type": "code",
   "execution_count": 131,
   "metadata": {},
   "outputs": [],
   "source": [
    "# The data is partitioned into features and labels\n",
    "X = train.drop(['price','name_clean', 'description_clean', 'neighborhood_overview_clean', 'transit_clean',\"amenities_clean\",\"listing_id\"], axis=1) \n",
    "y = train[['price']]\n",
    "X_train, X_test, y_train, y_test = train_test_split(X, y , test_size=0.20, random_state=111)\n",
    "\n",
    "# Standardization of the data(Important especially for SVR.)\n",
    "scaler = StandardScaler()\n",
    "scaler.fit(X_train)\n",
    "X_train = scaler.transform(X_train)\n",
    "X_test = scaler.transform(X_test)"
   ]
  },
  {
   "cell_type": "markdown",
   "metadata": {},
   "source": [
    "The data is partitioned here for the machine learning algorithms on non-text data. Although the standardization of the data is not necessary for the tree-based algorithms such as Random Forest and Gradient Boosting, it is extremely important for Support Vector Regressors. Since in any case, standardization would not yield a decrease in performance for any of the algorithms, it is carried out for all of the algorithms that is used in this section."
   ]
  },
  {
   "cell_type": "markdown",
   "metadata": {},
   "source": [
    "#### 3.2.1. Random Forest Regressor"
   ]
  },
  {
   "cell_type": "code",
   "execution_count": 128,
   "metadata": {},
   "outputs": [
    {
     "name": "stdout",
     "output_type": "stream",
     "text": [
      "The model:\n",
      "\n",
      "RandomForestRegressor(bootstrap=True, criterion='mse', max_depth=None,\n",
      "                      max_features='auto', max_leaf_nodes=None,\n",
      "                      min_impurity_decrease=0.0, min_impurity_split=None,\n",
      "                      min_samples_leaf=1, min_samples_split=2,\n",
      "                      min_weight_fraction_leaf=0.0, n_estimators=300, n_jobs=-1,\n",
      "                      oob_score=False, random_state=111, verbose=0,\n",
      "                      warm_start=False) \n",
      "\n",
      "Mean Absolute Error             : 29.1446\n",
      "Mean Squared Error              : 2334.05\n",
      "Root Mean Square Error          : 48.31\n",
      "Cross Validation MSE : 2342.5486\n"
     ]
    }
   ],
   "source": [
    "# Fitting random forest regressor model and calculating the evaluation metrics with and without cross validation\n",
    "rf = RandomForestRegressor(n_estimators=300, max_depth = None, random_state=111, verbose=0, n_jobs=-1)\n",
    "rf.fit(X_train, y_train.values.ravel())\n",
    "evaluate_ml(rf,X_test,y_test.values.ravel())\n",
    "mse_rf=cross_val_score(rf, X, y.values.ravel(), cv=5,scoring='neg_mean_squared_error')\n",
    "print('Cross Validation MSE : {:0.4f}'.format(-mean(mse_rf)))"
   ]
  },
  {
   "cell_type": "markdown",
   "metadata": {},
   "source": [
    "Random Forest Regressor shows a very good performance on the train data. The cross-validation MSE also proves the robustness of the results. The model can be further improved by hyperparameter tuning with the deployment of a grid search. However, for now the hyperparameters such as number of trees in the forest(\"n_estimators\") are determined in an experimental fashion for the benchmark model. Random state is fixed for reproducibility of the results."
   ]
  },
  {
   "cell_type": "markdown",
   "metadata": {},
   "source": [
    "#### 3.2.2. Extreme Gradient Regressor"
   ]
  },
  {
   "cell_type": "code",
   "execution_count": 92,
   "metadata": {},
   "outputs": [
    {
     "name": "stdout",
     "output_type": "stream",
     "text": [
      "The model:\n",
      "\n",
      "XGBRegressor(alpha=20, base_score=0.5, booster='gbtree', colsample_bylevel=1,\n",
      "             colsample_bynode=1, colsample_bytree=1, gamma=0, gpu_id=-1,\n",
      "             importance_type='gain', interaction_constraints='',\n",
      "             learning_rate=0.1, max_delta_step=0, max_depth=2,\n",
      "             min_child_weight=1, missing=nan, monotone_constraints='()',\n",
      "             n_estimators=300, n_jobs=4, num_parallel_tree=1,\n",
      "             objective='reg:squarederror', random_state=0, reg_alpha=20,\n",
      "             reg_lambda=1, scale_pos_weight=1, subsample=1, tree_method='exact',\n",
      "             validate_parameters=1, verbosity=None) \n",
      "\n",
      "Mean Absolute Error             : 31.3323\n",
      "Mean Squared Error              : 2633.28\n",
      "Root Mean Square Error          : 51.32\n",
      "Cross Validation MSE : 2605.2479\n"
     ]
    }
   ],
   "source": [
    "# Fitting extreme gradient regressor model and calculating the evaluation metrics with and without cross validation\n",
    "xg_reg = xgb.XGBRegressor(objective ='reg:squarederror', colsample_bytree = 1, learning_rate = 0.1,\n",
    "                max_depth=2, alpha=20, n_estimators = 300)\n",
    "xg_reg.fit(X_train,y_train)\n",
    "\n",
    "evaluate_ml(xg_reg,X_test,y_test.values.ravel())\n",
    "mse_xg_reg=cross_val_score(xg_reg, X, y.values.ravel(), cv=5,scoring='neg_mean_squared_error')\n",
    "print('Cross Validation MSE : {:0.4f}'.format(-mean(mse_xg_reg)))"
   ]
  },
  {
   "cell_type": "markdown",
   "metadata": {},
   "source": [
    "Extreme Gradiend Regressor performs worse compared to Random Forest for all of the metrics of interest. The hyperparameters of the model such as number of gradient boosted trees(\"n_estimators\"), max depth for tree learners(\"max_depth\"), boosting learning rate(\"learning_rate\") are again determined in an experimental setup."
   ]
  },
  {
   "cell_type": "markdown",
   "metadata": {},
   "source": [
    "#### 3.2.3. Support Vector Regressor"
   ]
  },
  {
   "cell_type": "code",
   "execution_count": 93,
   "metadata": {},
   "outputs": [
    {
     "name": "stdout",
     "output_type": "stream",
     "text": [
      "The model:\n",
      "\n",
      "SVR(C=10, cache_size=200, coef0=0.0, degree=3, epsilon=0.1, gamma='scale',\n",
      "    kernel='rbf', max_iter=-1, shrinking=True, tol=0.001, verbose=False) \n",
      "\n",
      "Mean Absolute Error             : 30.3856\n",
      "Mean Squared Error              : 2886.01\n",
      "Root Mean Square Error          : 53.72\n",
      "Cross Validation MSE : 7558.3193\n"
     ]
    }
   ],
   "source": [
    "# Fitting support vector regressor model and calculating the evaluation metrics with and without cross validation\n",
    "svr = svm.SVR(kernel='rbf',gamma=\"scale\",C=10)\n",
    "svr.fit(X_train, y_train.values.ravel())\n",
    "evaluate_ml(svr,X_test,y_test.values.ravel())\n",
    "mse_svr=cross_val_score(svr, X, y.values.ravel(), cv=5,scoring='neg_mean_squared_error')\n",
    "print('Cross Validation MSE : {:0.4f}'.format(-mean(mse_svr)))"
   ]
  },
  {
   "cell_type": "markdown",
   "metadata": {},
   "source": [
    "Support Vector Regressor achieves the worst performance on the train dataset for the non-text features. Cross- Validation MSE is increased substantially for this particular model which proves that the model is not robust."
   ]
  },
  {
   "cell_type": "code",
   "execution_count": 135,
   "metadata": {},
   "outputs": [
    {
     "data": {
      "image/png": "[encoded data removed]",
      "text/plain": [
       "<IPython.core.display.Image object>"
      ]
     },
     "execution_count": 135,
     "metadata": {},
     "output_type": "execute_result"
    }
   ],
   "source": [
    "display.Image(\"C:/Users/Berkay Kocak/Desktop/ml_models.png\")"
   ]
  },
  {
   "cell_type": "markdown",
   "metadata": {},
   "source": [
    "The analysis of the models deployed on the non-text data gives an overall overview for the predictive performance of tabular data in hand. Random forest regressor seems to outperform other models in each of the performance evaluation metrics. SVR performs in a highly unstable manner. The outstanding performance of random forest is not a very surprising outcome given the large number of categorical variables that the dataset has or that are created."
   ]
  },
  {
   "cell_type": "markdown",
   "metadata": {},
   "source": [
    "#### 3.2.4. GRU"
   ]
  },
  {
   "cell_type": "markdown",
   "metadata": {},
   "source": [
    "As a benchmark model for the text features, a basic GRU model is also trained. It is a basic NLP model with self-trained embeddings.In the RNN structure part, pretrained embeddings from wiki2vec is used.\n",
    "\n",
    "The input shapes are determined according to the maximum words that the features contains as explained before. The hidden units in GRUs is set to 100, and activation functions are determined as ReLu. The main advantage of using ReLu over other options is that it does not activate all neurons at the same time which makes it computationally more efficient.\n",
    "\n",
    "Several batch sizes are tried including 32, 64, 128 and 256. The optimal performance according to runtime is achieved with a batch size of 32. Therefore, the batch size is kept as 32 for the following parts. \n",
    "\n",
    "Early stopping is also incorporated in the model. In case the model does not improve in terms of validation loss for 3 epochs, the kernel is interrupted and the model is chosen as the one in the final epoch.\n",
    "\n",
    "Finally, log-cosh loss, which behaves very similarly to MAE, is used as a performance metric of the algorithm due to its computational performance. Mean squared error is eliminated as an option due to not being robust to outliers."
   ]
  },
  {
   "cell_type": "code",
   "execution_count": 132,
   "metadata": {},
   "outputs": [
    {
     "name": "stdout",
     "output_type": "stream",
     "text": [
      "Model: \"model\"\n",
      "__________________________________________________________________________________________________\n",
      "Layer (type)                    Output Shape         Param #     Connected to                     \n",
      "==================================================================================================\n",
      "input_1 (InputLayer)            [(None, 25)]         0                                            \n",
      "__________________________________________________________________________________________________\n",
      "input_2 (InputLayer)            [(None, 200)]        0                                            \n",
      "__________________________________________________________________________________________________\n",
      "input_3 (InputLayer)            [(None, 200)]        0                                            \n",
      "__________________________________________________________________________________________________\n",
      "input_4 (InputLayer)            [(None, 200)]        0                                            \n",
      "__________________________________________________________________________________________________\n",
      "input_5 (InputLayer)            [(None, 150)]        0                                            \n",
      "__________________________________________________________________________________________________\n",
      "embedding (Embedding)           (None, 25, 100)      559100      input_1[0][0]                    \n",
      "__________________________________________________________________________________________________\n",
      "embedding_1 (Embedding)         (None, 200, 100)     27200       input_2[0][0]                    \n",
      "__________________________________________________________________________________________________\n",
      "embedding_2 (Embedding)         (None, 200, 100)     2694500     input_3[0][0]                    \n",
      "__________________________________________________________________________________________________\n",
      "embedding_3 (Embedding)         (None, 200, 100)     1810400     input_4[0][0]                    \n",
      "__________________________________________________________________________________________________\n",
      "embedding_4 (Embedding)         (None, 150, 100)     1007300     input_5[0][0]                    \n",
      "__________________________________________________________________________________________________\n",
      "gru (GRU)                       (None, 100)          60600       embedding[0][0]                  \n",
      "__________________________________________________________________________________________________\n",
      "gru_1 (GRU)                     (None, 100)          60600       embedding_1[0][0]                \n",
      "__________________________________________________________________________________________________\n",
      "gru_2 (GRU)                     (None, 100)          60600       embedding_2[0][0]                \n",
      "__________________________________________________________________________________________________\n",
      "gru_3 (GRU)                     (None, 100)          60600       embedding_3[0][0]                \n",
      "__________________________________________________________________________________________________\n",
      "gru_4 (GRU)                     (None, 100)          60600       embedding_4[0][0]                \n",
      "__________________________________________________________________________________________________\n",
      "dense (Dense)                   (None, 1)            101         gru[0][0]                        \n",
      "__________________________________________________________________________________________________\n",
      "dense_1 (Dense)                 (None, 1)            101         gru_1[0][0]                      \n",
      "__________________________________________________________________________________________________\n",
      "dense_2 (Dense)                 (None, 1)            101         gru_2[0][0]                      \n",
      "__________________________________________________________________________________________________\n",
      "dense_3 (Dense)                 (None, 1)            101         gru_3[0][0]                      \n",
      "__________________________________________________________________________________________________\n",
      "dense_4 (Dense)                 (None, 1)            101         gru_4[0][0]                      \n",
      "__________________________________________________________________________________________________\n",
      "concatenate (Concatenate)       (None, 5)            0           dense[0][0]                      \n",
      "                                                                 dense_1[0][0]                    \n",
      "                                                                 dense_2[0][0]                    \n",
      "                                                                 dense_3[0][0]                    \n",
      "                                                                 dense_4[0][0]                    \n",
      "==================================================================================================\n",
      "Total params: 6,402,005\n",
      "Trainable params: 6,402,005\n",
      "Non-trainable params: 0\n",
      "__________________________________________________________________________________________________\n",
      "None\n",
      "Epoch 1/10\n",
      "1106/1106 [==============================] - 778s 683ms/step - loss: 64.2286 - mae: 64.9157 - mse: 10111.2939 - val_loss: 56.2237 - val_mae: 56.9128 - val_mse: 7934.2446\n",
      "Epoch 2/10\n",
      "1106/1106 [==============================] - 761s 688ms/step - loss: 56.0021 - mae: 56.6848 - mse: 7685.9712 - val_loss: 55.6111 - val_mae: 56.2975 - val_mse: 7693.3604\n",
      "Epoch 3/10\n",
      "1106/1106 [==============================] - 823s 744ms/step - loss: 52.5416 - mae: 53.2247 - mse: 7215.9463 - val_loss: 49.8670 - val_mae: 50.5518 - val_mse: 6751.8560\n",
      "Epoch 4/10\n",
      "1106/1106 [==============================] - 763s 690ms/step - loss: 48.3801 - mae: 49.0632 - mse: 6440.7290 - val_loss: 47.7338 - val_mae: 48.4185 - val_mse: 6285.1367\n",
      "Epoch 5/10\n",
      "1106/1106 [==============================] - 765s 692ms/step - loss: 45.8024 - mae: 46.4862 - mse: 5970.9688 - val_loss: 46.0726 - val_mae: 46.7559 - val_mse: 5913.8062\n",
      "Epoch 6/10\n",
      "1106/1106 [==============================] - 768s 694ms/step - loss: 43.9740 - mae: 44.6569 - mse: 5592.1333 - val_loss: 45.7160 - val_mae: 46.3996 - val_mse: 5968.0581\n",
      "Epoch 7/10\n",
      "1106/1106 [==============================] - 758s 686ms/step - loss: 42.7218 - mae: 43.4034 - mse: 5361.9600 - val_loss: 45.2440 - val_mae: 45.9280 - val_mse: 5667.5093\n",
      "Epoch 8/10\n",
      "1106/1106 [==============================] - 753s 681ms/step - loss: 41.7063 - mae: 42.3875 - mse: 5172.3076 - val_loss: 45.0813 - val_mae: 45.7650 - val_mse: 5693.3828\n",
      "Epoch 9/10\n",
      "1106/1106 [==============================] - 756s 683ms/step - loss: 40.8274 - mae: 41.5076 - mse: 5026.0620 - val_loss: 44.8841 - val_mae: 45.5674 - val_mse: 5532.4751\n",
      "Epoch 10/10\n",
      "1106/1106 [==============================] - 755s 683ms/step - loss: 40.0326 - mae: 40.7116 - mse: 4893.9487 - val_loss: 44.7823 - val_mae: 45.4650 - val_mse: 5500.9600\n"
     ]
    }
   ],
   "source": [
    "# Inputs\n",
    "input_name = Input(shape=(25, ))\n",
    "input_amenities = Input(shape=(200, ))\n",
    "input_description = Input(shape=(200, ))\n",
    "input_neighborhood_overview = Input(shape=(200, ))\n",
    "input_transit = Input(shape=(150, ))\n",
    "\n",
    "# Name\n",
    "name_embeddings = Embedding(input_dim=NUM_WORDS_NAME, output_dim=100, input_length=25)(input_name)\n",
    "GRU_name = GRU(100)(name_embeddings)\n",
    "dense_name = Dense(1, activation=\"relu\")(GRU_name)\n",
    "\n",
    "# Amenities\n",
    "amenities_embeddings = Embedding(input_dim=NUM_WORDS_AMENITIES, output_dim=100, input_length=200)(input_amenities)\n",
    "GRU_amenities = GRU(100)(amenities_embeddings)\n",
    "dense_amenities = Dense(1, activation=\"relu\")(GRU_amenities)\n",
    "\n",
    "# Description\n",
    "description_embeddings = Embedding(input_dim=NUM_WORDS_DESCRIPTION, output_dim=100, input_length=200)(input_description)\n",
    "GRU_description = GRU(100)(description_embeddings)\n",
    "dense_description = Dense(1, activation=\"relu\")(GRU_description)\n",
    "\n",
    "# Neighbourhood Overview\n",
    "neighborhood_overview_embeddings = Embedding(input_dim=NUM_WORDS_NEIGHBORHOOD_OVERVIEW, output_dim=100, input_length=200)(input_neighborhood_overview)\n",
    "GRU_neighborhood_overview = GRU(100)(neighborhood_overview_embeddings)\n",
    "dense_neighborhood_overview = Dense(1, activation=\"relu\")(GRU_neighborhood_overview)\n",
    "\n",
    "# Transit\n",
    "transit_embeddings = Embedding(input_dim=NUM_WORDS_TRANSIT, output_dim=100, input_length=150)(input_transit)\n",
    "GRU_transit = GRU(100)(transit_embeddings)\n",
    "dense_transit = Dense(1, activation=\"relu\")(GRU_transit)\n",
    "\n",
    "# Concatenate\n",
    "output_layer = concatenate([dense_name, dense_amenities, dense_description,dense_neighborhood_overview,dense_transit])\n",
    "\n",
    "model = Model(inputs=[input_name, input_amenities, input_description,input_neighborhood_overview,input_transit], outputs=output_layer)\n",
    "model.compile(loss=losses.LogCosh(), optimizer=\"adam\", metrics=[\"mae\", \"mse\"])\n",
    "\n",
    "print(model.summary())\n",
    "callbacks = [EarlyStopping(monitor=\"val_loss\", patience=3, verbose=1, min_delta=0.1, restore_best_weights=True)]\n",
    "\n",
    "story = model.fit([X_tr_int_pad_name, X_tr_int_pad_amenities, X_tr_int_pad_description, X_tr_int_pad_neighborhood_overview, X_tr_int_pad_transit], y_train_nlp, epochs=10, verbose=1, batch_size=32, \n",
    "          validation_split=0.2, callbacks=callbacks)"
   ]
  },
  {
   "cell_type": "code",
   "execution_count": 134,
   "metadata": {},
   "outputs": [],
   "source": [
    "# Creating a dataframe consisting of predictions and actual\n",
    "preds = pd.DataFrame(model.predict([X_ts_int_pad_name,X_ts_int_pad_amenities, X_ts_int_pad_description,X_ts_int_pad_neighborhood_overview,X_ts_int_pad_transit])\n",
    "                     , columns=[\"name_pred\", \"amenities_pred\", \"description_pred\",\"neighborhood_overview_pred\",\"transit_pred\"], index=y_test_nlp.index)\n",
    "preds[\"actual\"] = y_test_nlp"
   ]
  },
  {
   "cell_type": "code",
   "execution_count": 135,
   "metadata": {},
   "outputs": [
    {
     "name": "stdout",
     "output_type": "stream",
     "text": [
      "Name MSE: 4274.806002844897\n",
      "Name MAE: 38.75282531488844\n",
      "\n",
      "Description MSE: 4394.425707875019\n",
      "Description MAE: 39.493137542298186\n",
      "\n",
      "Neighborhood Overview MSE: 6203.765739992118\n",
      "Neighborhood Overview MAE: 50.474361399667565\n",
      "\n",
      "Transit MSE: 6482.593680411332\n",
      "Transit MAE: 51.433576846237024\n",
      "\n",
      "Amenities MSE: 5177.857504773706\n",
      "Amenities MAE: 43.12088809393301\n",
      "\n"
     ]
    }
   ],
   "source": [
    "print(f\"Name MSE: {mean_squared_error(preds.name_pred, preds.actual)}\")\n",
    "print(f\"Name MAE: {mean_absolute_error(preds.name_pred, preds.actual)}\\n\") \n",
    "print(f\"Description MSE: {mean_squared_error(preds.description_pred, preds.actual)}\")\n",
    "print(f\"Description MAE: {mean_absolute_error(preds.description_pred, preds.actual)}\\n\")\n",
    "print(f\"Neighborhood Overview MSE: {mean_squared_error(preds.neighborhood_overview_pred, preds.actual)}\")\n",
    "print(f\"Neighborhood Overview MAE: {mean_absolute_error(preds.neighborhood_overview_pred, preds.actual)}\\n\")\n",
    "print(f\"Transit MSE: {mean_squared_error(preds.transit_pred, preds.actual)}\")\n",
    "print(f\"Transit MAE: {mean_absolute_error(preds.transit_pred, preds.actual)}\\n\")\n",
    "print(f\"Amenities MSE: {mean_squared_error(preds.amenities_pred, preds.actual)}\")\n",
    "print(f\"Amenities MAE: {mean_absolute_error(preds.amenities_pred, preds.actual)}\\n\")"
   ]
  },
  {
   "cell_type": "markdown",
   "metadata": {},
   "source": [
    "GRU Model seems to be performing worse compared to other ensemble learners. Therefore, one can conclude that textual data has a lower predictive power compared to structured data. However, this will be analysed further in the following sections by introduction of other models."
   ]
  },
  {
   "cell_type": "markdown",
   "metadata": {},
   "source": [
    "### 3.3. RNN Structure"
   ]
  },
  {
   "cell_type": "markdown",
   "metadata": {},
   "source": [
    "The RNN structures that are tried in this notebook are LSTM, Bidirectional LSTM and Stacked LSTM. The parameters are the same as the ones that are used in GRU model due to similar reasonings."
   ]
  },
  {
   "cell_type": "markdown",
   "metadata": {},
   "source": [
    "#### 3.3.1 LSTM"
   ]
  },
  {
   "cell_type": "code",
   "execution_count": 136,
   "metadata": {},
   "outputs": [
    {
     "name": "stdout",
     "output_type": "stream",
     "text": [
      "Model: \"model_1\"\n",
      "__________________________________________________________________________________________________\n",
      "Layer (type)                    Output Shape         Param #     Connected to                     \n",
      "==================================================================================================\n",
      "input_6 (InputLayer)            [(None, 25)]         0                                            \n",
      "__________________________________________________________________________________________________\n",
      "input_7 (InputLayer)            [(None, 200)]        0                                            \n",
      "__________________________________________________________________________________________________\n",
      "input_8 (InputLayer)            [(None, 200)]        0                                            \n",
      "__________________________________________________________________________________________________\n",
      "input_9 (InputLayer)            [(None, 200)]        0                                            \n",
      "__________________________________________________________________________________________________\n",
      "input_10 (InputLayer)           [(None, 150)]        0                                            \n",
      "__________________________________________________________________________________________________\n",
      "embedding_5 (Embedding)         (None, 25, 100)      559100      input_6[0][0]                    \n",
      "__________________________________________________________________________________________________\n",
      "embedding_6 (Embedding)         (None, 200, 100)     27200       input_7[0][0]                    \n",
      "__________________________________________________________________________________________________\n",
      "embedding_7 (Embedding)         (None, 200, 100)     2694500     input_8[0][0]                    \n",
      "__________________________________________________________________________________________________\n",
      "embedding_8 (Embedding)         (None, 200, 100)     1810400     input_9[0][0]                    \n",
      "__________________________________________________________________________________________________\n",
      "embedding_9 (Embedding)         (None, 150, 100)     1007300     input_10[0][0]                   \n",
      "__________________________________________________________________________________________________\n",
      "lstm (LSTM)                     (None, 100)          80400       embedding_5[0][0]                \n",
      "__________________________________________________________________________________________________\n",
      "lstm_1 (LSTM)                   (None, 100)          80400       embedding_6[0][0]                \n",
      "__________________________________________________________________________________________________\n",
      "lstm_2 (LSTM)                   (None, 100)          80400       embedding_7[0][0]                \n",
      "__________________________________________________________________________________________________\n",
      "lstm_3 (LSTM)                   (None, 100)          80400       embedding_8[0][0]                \n",
      "__________________________________________________________________________________________________\n",
      "lstm_4 (LSTM)                   (None, 100)          80400       embedding_9[0][0]                \n",
      "__________________________________________________________________________________________________\n",
      "dense_5 (Dense)                 (None, 1)            101         lstm[0][0]                       \n",
      "__________________________________________________________________________________________________\n",
      "dense_6 (Dense)                 (None, 1)            101         lstm_1[0][0]                     \n",
      "__________________________________________________________________________________________________\n",
      "dense_7 (Dense)                 (None, 1)            101         lstm_2[0][0]                     \n",
      "__________________________________________________________________________________________________\n",
      "dense_8 (Dense)                 (None, 1)            101         lstm_3[0][0]                     \n",
      "__________________________________________________________________________________________________\n",
      "dense_9 (Dense)                 (None, 1)            101         lstm_4[0][0]                     \n",
      "__________________________________________________________________________________________________\n",
      "concatenate_1 (Concatenate)     (None, 5)            0           dense_5[0][0]                    \n",
      "                                                                 dense_6[0][0]                    \n",
      "                                                                 dense_7[0][0]                    \n",
      "                                                                 dense_8[0][0]                    \n",
      "                                                                 dense_9[0][0]                    \n",
      "==================================================================================================\n",
      "Total params: 6,501,005\n",
      "Trainable params: 6,501,005\n",
      "Non-trainable params: 0\n",
      "__________________________________________________________________________________________________\n",
      "None\n",
      "Epoch 1/15\n",
      "1106/1106 [==============================] - 824s 733ms/step - loss: 64.5710 - mae: 65.2580 - mse: 10169.3350 - val_loss: 56.2925 - val_mae: 56.9729 - val_mse: 7997.5391\n",
      "Epoch 2/15\n",
      "1106/1106 [==============================] - 780s 706ms/step - loss: 55.8348 - mae: 56.5202 - mse: 7700.5933 - val_loss: 54.1484 - val_mae: 54.8358 - val_mse: 7499.0522\n",
      "Epoch 3/15\n",
      "1106/1106 [==============================] - 779s 704ms/step - loss: 52.8852 - mae: 53.5704 - mse: 7382.0591 - val_loss: 49.7915 - val_mae: 50.4762 - val_mse: 6841.7275\n",
      "Epoch 4/15\n",
      "1106/1106 [==============================] - 779s 705ms/step - loss: 47.6744 - mae: 48.3592 - mse: 6400.5991 - val_loss: 46.9273 - val_mae: 47.6108 - val_mse: 6292.0874\n",
      "Epoch 5/15\n",
      "1106/1106 [==============================] - 780s 706ms/step - loss: 45.4157 - mae: 46.0994 - mse: 5904.4307 - val_loss: 46.1307 - val_mae: 46.8140 - val_mse: 5975.9878\n",
      "Epoch 6/15\n",
      "1106/1106 [==============================] - 782s 707ms/step - loss: 44.0084 - mae: 44.6914 - mse: 5593.4722 - val_loss: 45.4870 - val_mae: 46.1715 - val_mse: 5684.9614\n",
      "Epoch 7/15\n",
      "1106/1106 [==============================] - 783s 708ms/step - loss: 42.8557 - mae: 43.5379 - mse: 5384.8965 - val_loss: 44.9708 - val_mae: 45.6543 - val_mse: 5697.4092\n",
      "Epoch 8/15\n",
      "1106/1106 [==============================] - 780s 706ms/step - loss: 41.7276 - mae: 42.4087 - mse: 5173.3101 - val_loss: 44.6841 - val_mae: 45.3679 - val_mse: 5574.6655\n",
      "Epoch 9/15\n",
      "1106/1106 [==============================] - 782s 707ms/step - loss: 40.7011 - mae: 41.3814 - mse: 4993.9365 - val_loss: 44.7577 - val_mae: 45.4413 - val_mse: 5514.1621\n",
      "Epoch 10/15\n",
      "1106/1106 [==============================] - 780s 705ms/step - loss: 39.7826 - mae: 40.4618 - mse: 4854.1606 - val_loss: 44.5771 - val_mae: 45.2601 - val_mse: 5511.8779\n",
      "Epoch 11/15\n",
      "1106/1106 [==============================] - 784s 709ms/step - loss: 38.9502 - mae: 39.6288 - mse: 4718.1079 - val_loss: 44.4510 - val_mae: 45.1339 - val_mse: 5453.3179\n",
      "Epoch 12/15\n",
      "1106/1106 [==============================] - 781s 706ms/step - loss: 38.2882 - mae: 38.9660 - mse: 4609.2197 - val_loss: 44.6808 - val_mae: 45.3643 - val_mse: 5354.7280\n",
      "Epoch 13/15\n",
      "1106/1106 [==============================] - 781s 706ms/step - loss: 37.4204 - mae: 38.0973 - mse: 4463.9355 - val_loss: 44.3990 - val_mae: 45.0808 - val_mse: 5396.5029\n",
      "Epoch 14/15\n",
      "1106/1106 [==============================] - 782s 707ms/step - loss: 36.7359 - mae: 37.4120 - mse: 4353.4111 - val_loss: 44.4813 - val_mae: 45.1642 - val_mse: 5307.6406\n",
      "Epoch 15/15\n",
      "1106/1106 [==============================] - 784s 709ms/step - loss: 36.0956 - mae: 36.7709 - mse: 4254.8428 - val_loss: 44.4258 - val_mae: 45.1085 - val_mse: 5400.7559\n"
     ]
    }
   ],
   "source": [
    "# Inputs\n",
    "input_name = Input(shape=(25, ))\n",
    "input_amenities = Input(shape=(200, ))\n",
    "input_description = Input(shape=(200, ))\n",
    "input_neighborhood_overview = Input(shape=(200, ))\n",
    "input_transit = Input(shape=(150, ))\n",
    "\n",
    "# Name\n",
    "name_embeddings = Embedding(NUM_WORDS_NAME, output_dim=100,\n",
    "                     embeddings_initializer=Constant(wiki_weights_name),\n",
    "                     input_length=25, trainable=True)(input_name)\n",
    "LSTM_name = LSTM(100, return_sequences=False)(name_embeddings)\n",
    "dense_name = Dense(1, activation=\"relu\")(LSTM_name)\n",
    "\n",
    "# Amenities\n",
    "amenities_embeddings = Embedding(NUM_WORDS_AMENITIES, output_dim=100,\n",
    "                     embeddings_initializer=Constant(wiki_weights_amenities),\n",
    "                     input_length=200, trainable=True)(input_amenities)\n",
    "LSTM_amenities = LSTM(100, return_sequences=False)(amenities_embeddings)\n",
    "dense_amenities = Dense(1, activation=\"relu\")(LSTM_amenities)\n",
    "\n",
    "# Description\n",
    "description_embeddings = Embedding(NUM_WORDS_DESCRIPTION, output_dim=100,\n",
    "                     embeddings_initializer=Constant(wiki_weights_description),\n",
    "                     input_length=200, trainable=True)(input_description)\n",
    "LSTM_description = LSTM(100, return_sequences=False)(description_embeddings)\n",
    "dense_description = Dense(1, activation=\"relu\")(LSTM_description)\n",
    "\n",
    "# Neighborhood_Overview\n",
    "neighborhood_overview_embeddings = Embedding(NUM_WORDS_NEIGHBORHOOD_OVERVIEW, output_dim=100,\n",
    "                     embeddings_initializer=Constant(wiki_weights_neighborhood_overview),\n",
    "                     input_length=200, trainable=True)(input_neighborhood_overview)\n",
    "LSTM_neighborhood_overview = LSTM(100, return_sequences=False)(neighborhood_overview_embeddings)\n",
    "dense_neighborhood_overview = Dense(1, activation=\"relu\")(LSTM_neighborhood_overview)\n",
    "\n",
    "# Transit\n",
    "transit_embeddings = Embedding(NUM_WORDS_TRANSIT, output_dim=100,\n",
    "                     embeddings_initializer=Constant(wiki_weights_transit),\n",
    "                     input_length=150, trainable=True)(input_transit)\n",
    "LSTM_transit = LSTM(100, return_sequences=False)(transit_embeddings)\n",
    "dense_transit = Dense(1, activation=\"relu\")(LSTM_transit)\n",
    "\n",
    "# Concatenate\n",
    "output_layer = concatenate([dense_name, dense_amenities, dense_description, dense_neighborhood_overview, dense_transit])\n",
    "\n",
    "model = Model(inputs=[input_name, input_amenities, input_description, input_neighborhood_overview, input_transit], outputs = output_layer)\n",
    "model.compile(loss = losses.LogCosh(), optimizer = \"adam\", metrics=['mae', 'mse'])\n",
    "\n",
    "print(model.summary())\n",
    "callbacks = [EarlyStopping(monitor='val_loss', patience=3, verbose=1, min_delta=0.01, restore_best_weights=True)]\n",
    "\n",
    "story = model.fit([X_tr_int_pad_name, X_tr_int_pad_amenities, X_tr_int_pad_description, X_tr_int_pad_neighborhood_overview, X_tr_int_pad_transit],\n",
    "                  y_train_nlp, epochs=15, verbose=1, batch_size=32, validation_split=0.2, callbacks=callbacks)"
   ]
  },
  {
   "cell_type": "code",
   "execution_count": 137,
   "metadata": {},
   "outputs": [],
   "source": [
    "# Creating a dataframe consisting of predictions and actual\n",
    "preds = pd.DataFrame(model.predict([X_ts_int_pad_name, X_ts_int_pad_amenities, X_ts_int_pad_description, X_ts_int_pad_neighborhood_overview, X_ts_int_pad_transit])\n",
    "                     , columns=[\"name_pred\", \"amenities_pred\", \"description_pred\",\"neighborhood_overview_pred\", \"transit_pred\"], index=y_test_nlp.index)\n",
    "preds[\"actual\"] = y_test_nlp"
   ]
  },
  {
   "cell_type": "code",
   "execution_count": 138,
   "metadata": {},
   "outputs": [
    {
     "name": "stdout",
     "output_type": "stream",
     "text": [
      "Name MSE: 4238.688488589363\n",
      "Name MAE: 38.9125216232994\n",
      "\n",
      "Description MSE: 4239.733242351325\n",
      "Description MAE: 39.39853160855912\n",
      "\n",
      "Neighborhood Overview MSE: 6233.5709128031085\n",
      "Neighborhood Overview MAE: 50.51264819407146\n",
      "\n",
      "Transit MSE: 6438.793336501508\n",
      "Transit MAE: 51.501927194580674\n",
      "\n",
      "Amenities MSE: 5015.39049251617\n",
      "Amenities MAE: 42.21676665610815\n",
      "\n"
     ]
    }
   ],
   "source": [
    "print(f\"Name MSE: {mean_squared_error(preds.name_pred, preds.actual)}\")\n",
    "print(f\"Name MAE: {mean_absolute_error(preds.name_pred, preds.actual)}\\n\") \n",
    "print(f\"Description MSE: {mean_squared_error(preds.description_pred, preds.actual)}\")\n",
    "print(f\"Description MAE: {mean_absolute_error(preds.description_pred, preds.actual)}\\n\")\n",
    "print(f\"Neighborhood Overview MSE: {mean_squared_error(preds.neighborhood_overview_pred, preds.actual)}\")\n",
    "print(f\"Neighborhood Overview MAE: {mean_absolute_error(preds.neighborhood_overview_pred, preds.actual)}\\n\")\n",
    "print(f\"Transit MSE: {mean_squared_error(preds.transit_pred, preds.actual)}\")\n",
    "print(f\"Transit MAE: {mean_absolute_error(preds.transit_pred, preds.actual)}\\n\")\n",
    "print(f\"Amenities MSE: {mean_squared_error(preds.amenities_pred, preds.actual)}\")\n",
    "print(f\"Amenities MAE: {mean_absolute_error(preds.amenities_pred, preds.actual)}\\n\")"
   ]
  },
  {
   "cell_type": "markdown",
   "metadata": {},
   "source": [
    "LSTM Model already performs slightly better compared to GRU looking at the outputs. However, two other versions of LSTM will also be tried before coming up with the final modelling decision."
   ]
  },
  {
   "cell_type": "markdown",
   "metadata": {},
   "source": [
    "#### 3.3.2 Bidirectional LSTM"
   ]
  },
  {
   "cell_type": "code",
   "execution_count": 157,
   "metadata": {},
   "outputs": [
    {
     "name": "stdout",
     "output_type": "stream",
     "text": [
      "Model: \"model_4\"\n",
      "__________________________________________________________________________________________________\n",
      "Layer (type)                    Output Shape         Param #     Connected to                     \n",
      "==================================================================================================\n",
      "input_22 (InputLayer)           [(None, 25)]         0                                            \n",
      "__________________________________________________________________________________________________\n",
      "input_23 (InputLayer)           [(None, 200)]        0                                            \n",
      "__________________________________________________________________________________________________\n",
      "input_24 (InputLayer)           [(None, 200)]        0                                            \n",
      "__________________________________________________________________________________________________\n",
      "input_25 (InputLayer)           [(None, 200)]        0                                            \n",
      "__________________________________________________________________________________________________\n",
      "input_26 (InputLayer)           [(None, 150)]        0                                            \n",
      "__________________________________________________________________________________________________\n",
      "embedding_20 (Embedding)        (None, 25, 100)      559100      input_22[0][0]                   \n",
      "__________________________________________________________________________________________________\n",
      "embedding_21 (Embedding)        (None, 200, 100)     27200       input_23[0][0]                   \n",
      "__________________________________________________________________________________________________\n",
      "embedding_22 (Embedding)        (None, 200, 100)     2694500     input_24[0][0]                   \n",
      "__________________________________________________________________________________________________\n",
      "embedding_23 (Embedding)        (None, 200, 100)     1810400     input_25[0][0]                   \n",
      "__________________________________________________________________________________________________\n",
      "embedding_24 (Embedding)        (None, 150, 100)     1007300     input_26[0][0]                   \n",
      "__________________________________________________________________________________________________\n",
      "bidirectional (Bidirectional)   (None, 200)          160800      embedding_20[0][0]               \n",
      "__________________________________________________________________________________________________\n",
      "bidirectional_1 (Bidirectional) (None, 200)          160800      embedding_21[0][0]               \n",
      "__________________________________________________________________________________________________\n",
      "bidirectional_2 (Bidirectional) (None, 200)          160800      embedding_22[0][0]               \n",
      "__________________________________________________________________________________________________\n",
      "bidirectional_3 (Bidirectional) (None, 200)          160800      embedding_23[0][0]               \n",
      "__________________________________________________________________________________________________\n",
      "bidirectional_4 (Bidirectional) (None, 200)          160800      embedding_24[0][0]               \n",
      "__________________________________________________________________________________________________\n",
      "dense_24 (Dense)                (None, 1)            201         bidirectional[0][0]              \n",
      "__________________________________________________________________________________________________\n",
      "dense_25 (Dense)                (None, 1)            201         bidirectional_1[0][0]            \n",
      "__________________________________________________________________________________________________\n",
      "dense_26 (Dense)                (None, 1)            201         bidirectional_2[0][0]            \n",
      "__________________________________________________________________________________________________\n",
      "dense_27 (Dense)                (None, 1)            201         bidirectional_3[0][0]            \n",
      "__________________________________________________________________________________________________\n",
      "dense_28 (Dense)                (None, 1)            201         bidirectional_4[0][0]            \n",
      "__________________________________________________________________________________________________\n",
      "concatenate_4 (Concatenate)     (None, 5)            0           dense_24[0][0]                   \n",
      "                                                                 dense_25[0][0]                   \n",
      "                                                                 dense_26[0][0]                   \n",
      "                                                                 dense_27[0][0]                   \n",
      "                                                                 dense_28[0][0]                   \n",
      "==================================================================================================\n",
      "Total params: 6,903,505\n",
      "Trainable params: 6,903,505\n",
      "Non-trainable params: 0\n",
      "__________________________________________________________________________________________________\n",
      "None\n",
      "Epoch 1/10\n",
      "1106/1106 [==============================] - 1625s 1s/step - loss: 60.1436 - mae: 60.8282 - mse: 8850.7871 - val_loss: 55.9583 - val_mae: 56.6419 - val_mse: 7758.8350\n",
      "Epoch 2/10\n",
      "1106/1106 [==============================] - 1514s 1s/step - loss: 52.5074 - mae: 53.1927 - mse: 7176.8774 - val_loss: 50.3939 - val_mae: 51.0794 - val_mse: 6777.7617\n",
      "Epoch 3/10\n",
      "1106/1106 [==============================] - 1574s 1s/step - loss: 49.2596 - mae: 49.9453 - mse: 6523.6304 - val_loss: 48.6765 - val_mae: 49.3617 - val_mse: 6456.4478\n",
      "Epoch 4/10\n",
      "1106/1106 [==============================] - 1599s 1s/step - loss: 47.2918 - mae: 47.9768 - mse: 6142.3936 - val_loss: 47.5587 - val_mae: 48.2434 - val_mse: 6350.5088\n",
      "Epoch 5/10\n",
      "1106/1106 [==============================] - 1666s 2s/step - loss: 45.5931 - mae: 46.2775 - mse: 5838.5186 - val_loss: 46.6396 - val_mae: 47.3246 - val_mse: 6026.1470\n",
      "Epoch 6/10\n",
      "1106/1106 [==============================] - 1557s 1s/step - loss: 44.0040 - mae: 44.6874 - mse: 5551.5356 - val_loss: 45.8009 - val_mae: 46.4835 - val_mse: 5800.9922\n",
      "Epoch 7/10\n",
      "1106/1106 [==============================] - 1578s 1s/step - loss: 42.8790 - mae: 43.5614 - mse: 5341.0952 - val_loss: 45.5036 - val_mae: 46.1880 - val_mse: 5639.1094\n",
      "Epoch 8/10\n",
      "1106/1106 [==============================] - 1529s 1s/step - loss: 41.6413 - mae: 42.3229 - mse: 5123.7593 - val_loss: 45.1263 - val_mae: 45.8105 - val_mse: 5519.9004\n",
      "Epoch 9/10\n",
      "1106/1106 [==============================] - 1538s 1s/step - loss: 40.6141 - mae: 41.2953 - mse: 4942.6133 - val_loss: 44.8089 - val_mae: 45.4927 - val_mse: 5447.3916\n",
      "Epoch 10/10\n",
      "1106/1106 [==============================] - 1600s 1s/step - loss: 39.6356 - mae: 40.3155 - mse: 4773.6670 - val_loss: 44.6190 - val_mae: 45.3023 - val_mse: 5398.8208\n"
     ]
    }
   ],
   "source": [
    "# Inputs\n",
    "input_name = Input(shape=(25, ))\n",
    "input_amenities = Input(shape=(200, ))\n",
    "input_description = Input(shape=(200, ))\n",
    "input_neighborhood_overview = Input(shape=(200, ))\n",
    "input_transit = Input(shape=(150, ))\n",
    "\n",
    "# Name\n",
    "name_embeddings = Embedding(NUM_WORDS_NAME, output_dim=100,\n",
    "                     embeddings_initializer=Constant(wiki_weights_name),\n",
    "                     input_length=25, trainable=True)(input_name)\n",
    "LSTM_name = Bidirectional(LSTM(100, return_sequences=False),merge_mode=\"concat\")(name_embeddings)\n",
    "dense_name = Dense(1, activation=\"relu\")(LSTM_name)\n",
    "\n",
    "# Amenities\n",
    "amenities_embeddings = Embedding(NUM_WORDS_AMENITIES, output_dim=100,\n",
    "                     embeddings_initializer=Constant(wiki_weights_amenities),\n",
    "                     input_length=200, trainable=True)(input_amenities)\n",
    "LSTM_amenities = Bidirectional(LSTM(100, return_sequences=False),merge_mode=\"concat\")(amenities_embeddings)\n",
    "dense_amenities = Dense(1, activation=\"relu\")(LSTM_amenities)\n",
    "\n",
    "# Description\n",
    "description_embeddings = Embedding(NUM_WORDS_DESCRIPTION, output_dim=100,\n",
    "                     embeddings_initializer=Constant(wiki_weights_description),\n",
    "                     input_length=200, trainable=True)(input_description)\n",
    "LSTM_description = Bidirectional(LSTM(100, return_sequences=False),merge_mode=\"concat\")(description_embeddings)\n",
    "dense_description = Dense(1, activation=\"relu\")(LSTM_description)\n",
    "\n",
    "# Neighborhood_Overview\n",
    "neighborhood_overview_embeddings = Embedding(NUM_WORDS_NEIGHBORHOOD_OVERVIEW, output_dim=100,\n",
    "                     embeddings_initializer=Constant(wiki_weights_neighborhood_overview),\n",
    "                     input_length=200, trainable=True)(input_neighborhood_overview)\n",
    "LSTM_neighborhood_overview = Bidirectional(LSTM(100, return_sequences=False),merge_mode=\"concat\")(neighborhood_overview_embeddings)\n",
    "dense_neighborhood_overview = Dense(1, activation=\"relu\")(LSTM_neighborhood_overview)\n",
    "\n",
    "# Transit\n",
    "transit_embeddings = Embedding(NUM_WORDS_TRANSIT, output_dim=100,\n",
    "                     embeddings_initializer=Constant(wiki_weights_transit),\n",
    "                     input_length=150, trainable=True)(input_transit)\n",
    "LSTM_transit = Bidirectional(LSTM(100, return_sequences=False),merge_mode=\"concat\")(transit_embeddings)\n",
    "dense_transit = Dense(1, activation=\"relu\")(LSTM_transit)\n",
    "\n",
    "# Concatenate\n",
    "output_layer = concatenate([dense_name, dense_amenities, dense_description, dense_neighborhood_overview, dense_transit])\n",
    "\n",
    "model = Model(inputs=[input_name, input_amenities, input_description, input_neighborhood_overview, input_transit], outputs = output_layer)\n",
    "model.compile(loss = losses.LogCosh(), optimizer = \"adam\", metrics=['mae', 'mse'])\n",
    "\n",
    "print(model.summary())\n",
    "callbacks = [EarlyStopping(monitor='val_loss', patience=3, verbose=1, min_delta=0.01, restore_best_weights=True)]\n",
    "\n",
    "story = model.fit([X_tr_int_pad_name, X_tr_int_pad_amenities, X_tr_int_pad_description, X_tr_int_pad_neighborhood_overview, X_tr_int_pad_transit],\n",
    "                  y_train_nlp, epochs=10, verbose=1, batch_size=32, validation_split=0.2, callbacks=callbacks)"
   ]
  },
  {
   "cell_type": "code",
   "execution_count": 158,
   "metadata": {},
   "outputs": [],
   "source": [
    "# Creating a dataframe consisting of predictions and actual\n",
    "preds = pd.DataFrame(model.predict([X_ts_int_pad_name, X_ts_int_pad_amenities, X_ts_int_pad_description,X_ts_int_pad_neighborhood_overview,X_ts_int_pad_transit])\n",
    "                     , columns=[\"name_pred\", \"amenities_pred\", \"description_pred\",\"neighborhood_overview_pred\",\"transit_pred\"], index=y_test_nlp.index)\n",
    "preds[\"actual\"] = y_test_nlp"
   ]
  },
  {
   "cell_type": "code",
   "execution_count": 159,
   "metadata": {},
   "outputs": [
    {
     "name": "stdout",
     "output_type": "stream",
     "text": [
      "Name MSE: 4193.281370552134\n",
      "Name MAE: 38.5997268168396\n",
      "\n",
      "Description MSE: 4403.220201546038\n",
      "Description MAE: 39.57630418982915\n",
      "\n",
      "Neighborhood Overview MSE: 6127.183350356514\n",
      "Neighborhood Overview MAE: 50.44555208175644\n",
      "\n",
      "Transit MSE: 6358.1817259204\n",
      "Transit MAE: 51.270985107304575\n",
      "\n",
      "Amenities MSE: 4870.432768212281\n",
      "Amenities MAE: 41.906777336960346\n",
      "\n"
     ]
    }
   ],
   "source": [
    "print(f\"Name MSE: {mean_squared_error(preds.name_pred, preds.actual)}\")\n",
    "print(f\"Name MAE: {mean_absolute_error(preds.name_pred, preds.actual)}\\n\") \n",
    "print(f\"Description MSE: {mean_squared_error(preds.description_pred, preds.actual)}\")\n",
    "print(f\"Description MAE: {mean_absolute_error(preds.description_pred, preds.actual)}\\n\")\n",
    "print(f\"Neighborhood Overview MSE: {mean_squared_error(preds.neighborhood_overview_pred, preds.actual)}\")\n",
    "print(f\"Neighborhood Overview MAE: {mean_absolute_error(preds.neighborhood_overview_pred, preds.actual)}\\n\")\n",
    "print(f\"Transit MSE: {mean_squared_error(preds.transit_pred, preds.actual)}\")\n",
    "print(f\"Transit MAE: {mean_absolute_error(preds.transit_pred, preds.actual)}\\n\")\n",
    "print(f\"Amenities MSE: {mean_squared_error(preds.amenities_pred, preds.actual)}\")\n",
    "print(f\"Amenities MAE: {mean_absolute_error(preds.amenities_pred, preds.actual)}\\n\")"
   ]
  },
  {
   "cell_type": "markdown",
   "metadata": {},
   "source": [
    "Bidirectional LSTM seems to perform slightly better compared to LSTM. However, this performance comes at a cost of runtime. Each iteration in the bidirectional LSTM takes nearly twice as longer compared to LSTM due to its structure. Therefore, LSTM is a more favorable structure for the final model."
   ]
  },
  {
   "cell_type": "markdown",
   "metadata": {},
   "source": [
    "#### 3.3.3 Stacked LSTM"
   ]
  },
  {
   "cell_type": "code",
   "execution_count": 141,
   "metadata": {},
   "outputs": [
    {
     "name": "stdout",
     "output_type": "stream",
     "text": [
      "Model: \"model_2\"\n",
      "__________________________________________________________________________________________________\n",
      "Layer (type)                    Output Shape         Param #     Connected to                     \n",
      "==================================================================================================\n",
      "input_11 (InputLayer)           [(None, 25)]         0                                            \n",
      "__________________________________________________________________________________________________\n",
      "input_12 (InputLayer)           [(None, 200)]        0                                            \n",
      "__________________________________________________________________________________________________\n",
      "input_13 (InputLayer)           [(None, 200)]        0                                            \n",
      "__________________________________________________________________________________________________\n",
      "input_14 (InputLayer)           [(None, 200)]        0                                            \n",
      "__________________________________________________________________________________________________\n",
      "input_15 (InputLayer)           [(None, 150)]        0                                            \n",
      "__________________________________________________________________________________________________\n",
      "embedding_10 (Embedding)        (None, 25, 100)      559100      input_11[0][0]                   \n",
      "__________________________________________________________________________________________________\n",
      "embedding_11 (Embedding)        (None, 200, 100)     27200       input_12[0][0]                   \n",
      "__________________________________________________________________________________________________\n",
      "embedding_12 (Embedding)        (None, 200, 100)     2694500     input_13[0][0]                   \n",
      "__________________________________________________________________________________________________\n",
      "embedding_13 (Embedding)        (None, 200, 100)     1810400     input_14[0][0]                   \n",
      "__________________________________________________________________________________________________\n",
      "embedding_14 (Embedding)        (None, 150, 100)     1007300     input_15[0][0]                   \n",
      "__________________________________________________________________________________________________\n",
      "lstm_5 (LSTM)                   (None, 25, 100)      80400       embedding_10[0][0]               \n",
      "__________________________________________________________________________________________________\n",
      "lstm_7 (LSTM)                   (None, 200, 100)     80400       embedding_11[0][0]               \n",
      "__________________________________________________________________________________________________\n",
      "lstm_9 (LSTM)                   (None, 200, 100)     80400       embedding_12[0][0]               \n",
      "__________________________________________________________________________________________________\n",
      "lstm_11 (LSTM)                  (None, 200, 100)     80400       embedding_13[0][0]               \n",
      "__________________________________________________________________________________________________\n",
      "lstm_13 (LSTM)                  (None, 150, 100)     80400       embedding_14[0][0]               \n",
      "__________________________________________________________________________________________________\n",
      "lstm_6 (LSTM)                   (None, 50)           30200       lstm_5[0][0]                     \n",
      "__________________________________________________________________________________________________\n",
      "lstm_8 (LSTM)                   (None, 50)           30200       lstm_7[0][0]                     \n",
      "__________________________________________________________________________________________________\n",
      "lstm_10 (LSTM)                  (None, 50)           30200       lstm_9[0][0]                     \n",
      "__________________________________________________________________________________________________\n",
      "lstm_12 (LSTM)                  (None, 50)           30200       lstm_11[0][0]                    \n",
      "__________________________________________________________________________________________________\n",
      "lstm_14 (LSTM)                  (None, 50)           30200       lstm_13[0][0]                    \n",
      "__________________________________________________________________________________________________\n",
      "dense_10 (Dense)                (None, 1)            51          lstm_6[0][0]                     \n",
      "__________________________________________________________________________________________________\n",
      "dense_11 (Dense)                (None, 1)            51          lstm_8[0][0]                     \n",
      "__________________________________________________________________________________________________\n",
      "dense_12 (Dense)                (None, 1)            51          lstm_10[0][0]                    \n",
      "__________________________________________________________________________________________________\n",
      "dense_13 (Dense)                (None, 1)            51          lstm_12[0][0]                    \n",
      "__________________________________________________________________________________________________\n",
      "dense_14 (Dense)                (None, 1)            51          lstm_14[0][0]                    \n",
      "__________________________________________________________________________________________________\n",
      "concatenate_2 (Concatenate)     (None, 5)            0           dense_10[0][0]                   \n",
      "                                                                 dense_11[0][0]                   \n",
      "                                                                 dense_12[0][0]                   \n",
      "                                                                 dense_13[0][0]                   \n",
      "                                                                 dense_14[0][0]                   \n",
      "==================================================================================================\n",
      "Total params: 6,651,755\n",
      "Trainable params: 6,651,755\n",
      "Non-trainable params: 0\n",
      "__________________________________________________________________________________________________\n",
      "None\n",
      "Epoch 1/10\n",
      "1106/1106 [==============================] - 1210s 1s/step - loss: 73.7751 - mae: 74.4615 - mse: 12321.2861 - val_loss: 60.6670 - val_mae: 61.3565 - val_mse: 9688.0488\n",
      "Epoch 2/10\n",
      "1106/1106 [==============================] - 1183s 1s/step - loss: 57.8455 - mae: 58.5332 - mse: 8627.9443 - val_loss: 56.3274 - val_mae: 57.0119 - val_mse: 8022.8335\n",
      "Epoch 3/10\n",
      "1106/1106 [==============================] - 1238s 1s/step - loss: 56.0741 - mae: 56.7594 - mse: 7751.0103 - val_loss: 56.0892 - val_mae: 56.7746 - val_mse: 7696.7261\n",
      "Epoch 4/10\n",
      "1106/1106 [==============================] - 1185s 1s/step - loss: 56.0018 - mae: 56.6840 - mse: 7647.8442 - val_loss: 56.0990 - val_mae: 56.7883 - val_mse: 7673.7554\n",
      "Epoch 5/10\n",
      "1106/1106 [==============================] - 1187s 1s/step - loss: 56.0048 - mae: 56.6895 - mse: 7635.6064 - val_loss: 56.0844 - val_mae: 56.7589 - val_mse: 7724.0752\n",
      "Epoch 6/10\n",
      "1106/1106 [==============================] - 1184s 1s/step - loss: 55.0904 - mae: 55.7725 - mse: 7560.5112 - val_loss: 53.8034 - val_mae: 54.4840 - val_mse: 7447.3760\n",
      "Epoch 7/10\n",
      "1106/1106 [==============================] - 1182s 1s/step - loss: 53.2913 - mae: 53.9742 - mse: 7251.6558 - val_loss: 53.1632 - val_mae: 53.8418 - val_mse: 7260.0000\n",
      "Epoch 8/10\n",
      "1106/1106 [==============================] - 1182s 1s/step - loss: 53.2519 - mae: 53.9345 - mse: 7337.9805 - val_loss: 51.3315 - val_mae: 52.0173 - val_mse: 6987.2085\n",
      "Epoch 9/10\n",
      "1106/1106 [==============================] - 1217s 1s/step - loss: 50.2121 - mae: 50.8957 - mse: 6755.8804 - val_loss: 50.3525 - val_mae: 51.0381 - val_mse: 6820.8433\n",
      "Epoch 10/10\n",
      "1106/1106 [==============================] - 1186s 1s/step - loss: 49.3106 - mae: 49.9932 - mse: 6540.9717 - val_loss: 49.8583 - val_mae: 50.5445 - val_mse: 6589.2295\n"
     ]
    }
   ],
   "source": [
    "# Inputs\n",
    "input_name = Input(shape=(25, ))\n",
    "input_amenities = Input(shape=(200, ))\n",
    "input_description = Input(shape=(200, ))\n",
    "input_neighborhood_overview = Input(shape=(200, ))\n",
    "input_transit = Input(shape=(150, ))\n",
    "\n",
    "# Name\n",
    "name_embeddings = Embedding(NUM_WORDS_NAME, output_dim=100,\n",
    "                     embeddings_initializer=Constant(wiki_weights_name),\n",
    "                     input_length=25, trainable=True)(input_name)\n",
    "LSTM_name_1 = LSTM(100, return_sequences=True)(name_embeddings)\n",
    "LSTM_name_2 = LSTM(50, return_sequences=False)(LSTM_name_1)\n",
    "dense_name = Dense(1, activation=\"relu\")(LSTM_name_2)\n",
    "\n",
    "# Amenities\n",
    "amenities_embeddings = Embedding(NUM_WORDS_AMENITIES, output_dim=100,\n",
    "                     embeddings_initializer=Constant(wiki_weights_amenities),\n",
    "                     input_length=200, trainable=True)(input_amenities)\n",
    "LSTM_amenities_1 = LSTM(100, return_sequences=True)(amenities_embeddings)\n",
    "LSTM_amenities_2 = LSTM(50, return_sequences=False)(LSTM_amenities_1)\n",
    "dense_amenities = Dense(1, activation=\"relu\")(LSTM_amenities_2)\n",
    "\n",
    "# Description\n",
    "description_embeddings = Embedding(NUM_WORDS_DESCRIPTION, output_dim=100,\n",
    "                     embeddings_initializer=Constant(wiki_weights_description),\n",
    "                     input_length=200, trainable=True)(input_description)\n",
    "LSTM_description_1 = LSTM(100, return_sequences=True)(description_embeddings)\n",
    "LSTM_description_2 = LSTM(50, return_sequences=False)(LSTM_description_1)\n",
    "dense_description = Dense(1, activation=\"relu\")(LSTM_description_2)\n",
    "\n",
    "# Neighborhood_Overview\n",
    "neighborhood_overview_embeddings = Embedding(NUM_WORDS_NEIGHBORHOOD_OVERVIEW, output_dim=100,\n",
    "                     embeddings_initializer=Constant(wiki_weights_neighborhood_overview),\n",
    "                     input_length=200, trainable=True)(input_neighborhood_overview)\n",
    "LSTM_neighborhood_overview_1 = LSTM(100, return_sequences=True)(neighborhood_overview_embeddings)\n",
    "LSTM_neighborhood_overview_2 = LSTM(50, return_sequences=False)(LSTM_neighborhood_overview_1)\n",
    "dense_neighborhood_overview = Dense(1, activation=\"relu\")(LSTM_neighborhood_overview_2)\n",
    "\n",
    "# Transit\n",
    "transit_embeddings = Embedding(NUM_WORDS_TRANSIT, output_dim=100,\n",
    "                     embeddings_initializer=Constant(wiki_weights_transit),\n",
    "                     input_length=150, trainable=True)(input_transit)\n",
    "LSTM_transit_1 = LSTM(100, return_sequences=True)(transit_embeddings)\n",
    "LSTM_transit_2 = LSTM(50, return_sequences=False)(LSTM_transit_1)\n",
    "dense_transit = Dense(1, activation=\"relu\")(LSTM_transit_2)\n",
    "\n",
    "# Concatenate\n",
    "output_layer = concatenate([dense_name, dense_amenities, dense_description, dense_neighborhood_overview, dense_transit])\n",
    "\n",
    "model = Model(inputs=[input_name, input_amenities, input_description, input_neighborhood_overview, input_transit], outputs = output_layer)\n",
    "model.compile(loss = losses.LogCosh(), optimizer = \"adam\", metrics=['mae', 'mse'])\n",
    "\n",
    "print(model.summary())\n",
    "callbacks = [EarlyStopping(monitor='val_loss', patience=3, verbose=1, min_delta=0.01, restore_best_weights=True)]\n",
    "\n",
    "story = model.fit([X_tr_int_pad_name, X_tr_int_pad_amenities, X_tr_int_pad_description, X_tr_int_pad_neighborhood_overview, X_tr_int_pad_transit],\n",
    "                  y_train_nlp, epochs=10, verbose=1, batch_size=32, validation_split=0.2, callbacks=callbacks)"
   ]
  },
  {
   "cell_type": "code",
   "execution_count": 142,
   "metadata": {},
   "outputs": [],
   "source": [
    "# Creating a dataframe consisting of predictions and actual\n",
    "preds = pd.DataFrame(model.predict([X_ts_int_pad_name, X_ts_int_pad_amenities, X_ts_int_pad_description,X_ts_int_pad_neighborhood_overview,X_ts_int_pad_transit])\n",
    "                     , columns=[\"name_pred\",\"amenities_pred\",\"description_pred\",\"neighborhood_overview_pred\",\"transit_pred\"], index=y_test_nlp.index)\n",
    "preds[\"actual\"] = y_test_nlp"
   ]
  },
  {
   "cell_type": "code",
   "execution_count": 143,
   "metadata": {},
   "outputs": [
    {
     "name": "stdout",
     "output_type": "stream",
     "text": [
      "Name MSE: 4499.788531912362\n",
      "Name MAE: 39.511619682584566\n",
      "\n",
      "Description MSE: 7245.548118359234\n",
      "Description MAE: 55.52124406942744\n",
      "\n",
      "Neighborhood Overview MSE: 7249.982246711495\n",
      "Neighborhood Overview MAE: 55.51916050710417\n",
      "\n",
      "Transit MSE: 6833.79882362264\n",
      "Transit MAE: 52.74352321847283\n",
      "\n",
      "Amenities MSE: 5411.86916624837\n",
      "Amenities MAE: 43.74677570415813\n",
      "\n"
     ]
    }
   ],
   "source": [
    "print(f\"Name MSE: {mean_squared_error(preds.name_pred, preds.actual)}\")\n",
    "print(f\"Name MAE: {mean_absolute_error(preds.name_pred, preds.actual)}\\n\") \n",
    "print(f\"Description MSE: {mean_squared_error(preds.description_pred, preds.actual)}\")\n",
    "print(f\"Description MAE: {mean_absolute_error(preds.description_pred, preds.actual)}\\n\")\n",
    "print(f\"Neighborhood Overview MSE: {mean_squared_error(preds.neighborhood_overview_pred, preds.actual)}\")\n",
    "print(f\"Neighborhood Overview MAE: {mean_absolute_error(preds.neighborhood_overview_pred, preds.actual)}\\n\")\n",
    "print(f\"Transit MSE: {mean_squared_error(preds.transit_pred, preds.actual)}\")\n",
    "print(f\"Transit MAE: {mean_absolute_error(preds.transit_pred, preds.actual)}\\n\")\n",
    "print(f\"Amenities MSE: {mean_squared_error(preds.amenities_pred, preds.actual)}\")\n",
    "print(f\"Amenities MAE: {mean_absolute_error(preds.amenities_pred, preds.actual)}\\n\")"
   ]
  },
  {
   "cell_type": "code",
   "execution_count": 136,
   "metadata": {},
   "outputs": [
    {
     "data": {
      "image/png": "[encoded data removed]",
      "text/plain": [
       "<IPython.core.display.Image object>"
      ]
     },
     "execution_count": 136,
     "metadata": {},
     "output_type": "execute_result"
    }
   ],
   "source": [
    "display.Image(\"C:/Users/Berkay Kocak/Desktop/dl_models.png\")"
   ]
  },
  {
   "cell_type": "markdown",
   "metadata": {},
   "source": [
    "Stacked LSTM shows the poorest performance among the alternatives. Therefore, it is eliminated as an alternative for the final model. Although, bidirectional LSTM shows a slightly better predictive performance compared to LSTM, it requires far more computational power. (The runtimes are computed in 15 epochs for LSTM and 10 epochs for Bidirectional LSTM). Therefore LSTM proves to show the highest performance among alternatives and chosen as the model to be deployed for the composite structure."
   ]
  },
  {
   "cell_type": "markdown",
   "metadata": {},
   "source": [
    "### 3.4 Complete Model"
   ]
  },
  {
   "cell_type": "markdown",
   "metadata": {},
   "source": [
    "The last step of the assignment is to bring the text and non-text columns together to utilize both of their predictive powers. Although there are several ways to do this, in this assignment it is done by creating a single composite model. The final design of the model created by following these steps. Firstly, several LSTMs are trained for different text data and each of them created a single linear value. Afterwards, these values are concatenated with the non-text data. Finally, a deep neural network with the concatenated features are trained. "
   ]
  },
  {
   "cell_type": "code",
   "execution_count": 132,
   "metadata": {},
   "outputs": [],
   "source": [
    "# Dropping the nontext columns for nontext features and preparing them for the algorithm by setting the type.\n",
    "X_train_n=X_train_nlp.drop(columns=['name_clean','description_clean','neighborhood_overview_clean', 'transit_clean','amenities_clean'])\n",
    "X_test_n=X_test_nlp.drop(columns=['name_clean','description_clean','neighborhood_overview_clean', 'transit_clean','amenities_clean'])"
   ]
  },
  {
   "cell_type": "code",
   "execution_count": 133,
   "metadata": {},
   "outputs": [],
   "source": [
    "# Preparing the label for the algorithm by setting the type\n",
    "y_train_n=np.asarray(y_train_nlp).astype(np.int)"
   ]
  },
  {
   "cell_type": "code",
   "execution_count": 134,
   "metadata": {},
   "outputs": [],
   "source": [
    "# Normalization\n",
    "scaler = MinMaxScaler()\n",
    "scaler.fit(X_train_n)\n",
    "X_train_n = scaler.transform(X_train_n)\n",
    "X_test_n = scaler.transform(X_test_n)"
   ]
  },
  {
   "cell_type": "markdown",
   "metadata": {},
   "source": [
    "Normalization becomes an important step when the tabular data is united with the text data. The tabular data itself should be standardized to prevent the data with large values from dominating other inputs. "
   ]
  },
  {
   "cell_type": "code",
   "execution_count": 135,
   "metadata": {},
   "outputs": [
    {
     "name": "stdout",
     "output_type": "stream",
     "text": [
      "Model: \"model\"\n",
      "__________________________________________________________________________________________________\n",
      "Layer (type)                    Output Shape         Param #     Connected to                     \n",
      "==================================================================================================\n",
      "input_1 (InputLayer)            [(None, 25)]         0                                            \n",
      "__________________________________________________________________________________________________\n",
      "input_2 (InputLayer)            [(None, 200)]        0                                            \n",
      "__________________________________________________________________________________________________\n",
      "input_3 (InputLayer)            [(None, 200)]        0                                            \n",
      "__________________________________________________________________________________________________\n",
      "input_4 (InputLayer)            [(None, 200)]        0                                            \n",
      "__________________________________________________________________________________________________\n",
      "input_5 (InputLayer)            [(None, 150)]        0                                            \n",
      "__________________________________________________________________________________________________\n",
      "embedding (Embedding)           (None, 25, 100)      559100      input_1[0][0]                    \n",
      "__________________________________________________________________________________________________\n",
      "embedding_1 (Embedding)         (None, 200, 100)     27200       input_2[0][0]                    \n",
      "__________________________________________________________________________________________________\n",
      "embedding_2 (Embedding)         (None, 200, 100)     2694500     input_3[0][0]                    \n",
      "__________________________________________________________________________________________________\n",
      "embedding_3 (Embedding)         (None, 200, 100)     1810400     input_4[0][0]                    \n",
      "__________________________________________________________________________________________________\n",
      "embedding_4 (Embedding)         (None, 150, 100)     1007300     input_5[0][0]                    \n",
      "__________________________________________________________________________________________________\n",
      "lstm (LSTM)                     (None, 100)          80400       embedding[0][0]                  \n",
      "__________________________________________________________________________________________________\n",
      "lstm_1 (LSTM)                   (None, 100)          80400       embedding_1[0][0]                \n",
      "__________________________________________________________________________________________________\n",
      "lstm_2 (LSTM)                   (None, 100)          80400       embedding_2[0][0]                \n",
      "__________________________________________________________________________________________________\n",
      "lstm_3 (LSTM)                   (None, 100)          80400       embedding_3[0][0]                \n",
      "__________________________________________________________________________________________________\n",
      "lstm_4 (LSTM)                   (None, 100)          80400       embedding_4[0][0]                \n",
      "__________________________________________________________________________________________________\n",
      "dense (Dense)                   (None, 1)            101         lstm[0][0]                       \n",
      "__________________________________________________________________________________________________\n",
      "dense_1 (Dense)                 (None, 1)            101         lstm_1[0][0]                     \n",
      "__________________________________________________________________________________________________\n",
      "dense_2 (Dense)                 (None, 1)            101         lstm_2[0][0]                     \n",
      "__________________________________________________________________________________________________\n",
      "dense_3 (Dense)                 (None, 1)            101         lstm_3[0][0]                     \n",
      "__________________________________________________________________________________________________\n",
      "dense_4 (Dense)                 (None, 1)            101         lstm_4[0][0]                     \n",
      "__________________________________________________________________________________________________\n",
      "input_6 (InputLayer)            [(None, 79)]         0                                            \n",
      "__________________________________________________________________________________________________\n",
      "concatenate (Concatenate)       (None, 84)           0           dense[0][0]                      \n",
      "                                                                 dense_1[0][0]                    \n",
      "                                                                 dense_2[0][0]                    \n",
      "                                                                 dense_3[0][0]                    \n",
      "                                                                 dense_4[0][0]                    \n",
      "                                                                 input_6[0][0]                    \n",
      "__________________________________________________________________________________________________\n",
      "dense_5 (Dense)                 (None, 1024)         87040       concatenate[0][0]                \n",
      "__________________________________________________________________________________________________\n",
      "dense_6 (Dense)                 (None, 512)          524800      dense_5[0][0]                    \n",
      "__________________________________________________________________________________________________\n",
      "dense_7 (Dense)                 (None, 256)          131328      dense_6[0][0]                    \n",
      "__________________________________________________________________________________________________\n",
      "dense_8 (Dense)                 (None, 1)            257         dense_7[0][0]                    \n",
      "==================================================================================================\n",
      "Total params: 7,244,430\n",
      "Trainable params: 1,145,930\n",
      "Non-trainable params: 6,098,500\n",
      "__________________________________________________________________________________________________\n",
      "None\n",
      "Epoch 1/30\n",
      "1106/1106 [==============================] - 704s 625ms/step - loss: 33.7759 - mae: 34.4560 - mse: 3513.3977 - val_loss: 29.7610 - val_mae: 30.4414 - val_mse: 2684.8684\n",
      "Epoch 2/30\n",
      "1106/1106 [==============================] - 678s 613ms/step - loss: 30.0873 - mae: 30.7656 - mse: 2843.4124 - val_loss: 30.9372 - val_mae: 31.6146 - val_mse: 3182.3022\n",
      "Epoch 3/30\n",
      "1106/1106 [==============================] - 652s 589ms/step - loss: 29.2311 - mae: 29.9101 - mse: 2699.8667 - val_loss: 28.2992 - val_mae: 28.9770 - val_mse: 2551.8606\n",
      "Epoch 4/30\n",
      "1106/1106 [==============================] - 681s 616ms/step - loss: 28.1398 - mae: 28.8172 - mse: 2524.1694 - val_loss: 28.0300 - val_mae: 28.7081 - val_mse: 2433.9351\n",
      "Epoch 5/30\n",
      "1106/1106 [==============================] - 655s 592ms/step - loss: 27.2100 - mae: 27.8873 - mse: 2373.6145 - val_loss: 27.7787 - val_mae: 28.4552 - val_mse: 2518.1526\n",
      "Epoch 6/30\n",
      "1106/1106 [==============================] - 649s 587ms/step - loss: 26.3054 - mae: 26.9813 - mse: 2254.0505 - val_loss: 27.4005 - val_mae: 28.0799 - val_mse: 2316.7297\n",
      "Epoch 7/30\n",
      "1106/1106 [==============================] - 647s 585ms/step - loss: 25.6109 - mae: 26.2863 - mse: 2134.7014 - val_loss: 28.7210 - val_mae: 29.4011 - val_mse: 2309.8872\n",
      "Epoch 8/30\n",
      "1106/1106 [==============================] - 645s 583ms/step - loss: 24.8523 - mae: 25.5280 - mse: 2036.0469 - val_loss: 27.1955 - val_mae: 27.8731 - val_mse: 2224.3804\n",
      "Epoch 9/30\n",
      "1106/1106 [==============================] - 652s 590ms/step - loss: 24.0951 - mae: 24.7700 - mse: 1917.7579 - val_loss: 26.9216 - val_mae: 27.5984 - val_mse: 2307.5857\n",
      "Epoch 10/30\n",
      "1106/1106 [==============================] - 649s 587ms/step - loss: 23.0974 - mae: 23.7719 - mse: 1797.4343 - val_loss: 26.7820 - val_mae: 27.4587 - val_mse: 2305.0435\n",
      "Epoch 11/30\n",
      "1106/1106 [==============================] - 650s 588ms/step - loss: 22.3379 - mae: 23.0122 - mse: 1685.3345 - val_loss: 27.0787 - val_mae: 27.7559 - val_mse: 2388.8176\n",
      "Epoch 12/30\n",
      "1106/1106 [==============================] - 649s 587ms/step - loss: 21.6332 - mae: 22.3062 - mse: 1597.1719 - val_loss: 27.5678 - val_mae: 28.2441 - val_mse: 2450.4343\n",
      "Epoch 13/30\n",
      "1106/1106 [==============================] - 655s 593ms/step - loss: 20.9270 - mae: 21.5993 - mse: 1510.3356 - val_loss: 27.2975 - val_mae: 27.9739 - val_mse: 2254.6260\n",
      "Restoring model weights from the end of the best epoch.\n",
      "Epoch 00013: early stopping\n"
     ]
    }
   ],
   "source": [
    "# Inputs\n",
    "input_name = Input(shape=(25, ))\n",
    "input_amenities = Input(shape=(200, ))\n",
    "input_description = Input(shape=(200, ))\n",
    "input_neighborhood_overview = Input(shape=(200, ))\n",
    "input_transit = Input(shape=(150, ))\n",
    "input_nontext = Input(shape=(79, ))\n",
    "\n",
    "# Name\n",
    "name_embeddings = Embedding(NUM_WORDS_NAME, output_dim=100,\n",
    "                     embeddings_initializer=Constant(wiki_weights_name),\n",
    "                     input_length=25, trainable=False)(input_name)\n",
    "LSTM_name = LSTM(100, return_sequences=False)(name_embeddings)\n",
    "dense_name = Dense(1, activation=\"linear\")(LSTM_name)\n",
    "\n",
    "# Amenities\n",
    "amenities_embeddings = Embedding(NUM_WORDS_AMENITIES, output_dim=100,\n",
    "                     embeddings_initializer=Constant(wiki_weights_amenities),\n",
    "                     input_length=200, trainable=False)(input_amenities)\n",
    "LSTM_amenities = LSTM(100, return_sequences=False)(amenities_embeddings)\n",
    "dense_amenities = Dense(1, activation=\"linear\")(LSTM_amenities)\n",
    "\n",
    "# Description\n",
    "description_embeddings = Embedding(NUM_WORDS_DESCRIPTION, output_dim=100,\n",
    "                     embeddings_initializer=Constant(wiki_weights_description),\n",
    "                     input_length=200, trainable=False)(input_description)\n",
    "LSTM_description = LSTM(100, return_sequences=False)(description_embeddings)\n",
    "dense_description = Dense(1, activation=\"linear\")(LSTM_description)\n",
    "\n",
    "# Neighborhood_Overview\n",
    "neighborhood_overview_embeddings = Embedding(NUM_WORDS_NEIGHBORHOOD_OVERVIEW, output_dim=100,\n",
    "                     embeddings_initializer=Constant(wiki_weights_neighborhood_overview),\n",
    "                     input_length=200, trainable=False)(input_neighborhood_overview)\n",
    "LSTM_neighborhood_overview = LSTM(100, return_sequences=False)(neighborhood_overview_embeddings)\n",
    "dense_neighborhood_overview = Dense(1, activation=\"linear\")(LSTM_neighborhood_overview)\n",
    "\n",
    "# Transit\n",
    "transit_embeddings = Embedding(NUM_WORDS_TRANSIT, output_dim=100,\n",
    "                     embeddings_initializer=Constant(wiki_weights_transit),\n",
    "                     input_length=150, trainable=False)(input_transit)\n",
    "LSTM_transit = LSTM(100, return_sequences=False)(transit_embeddings)\n",
    "dense_transit = Dense(1, activation=\"linear\")(LSTM_transit)\n",
    "\n",
    "# Concatenate\n",
    "concat = concatenate([dense_name, dense_amenities, dense_description,dense_neighborhood_overview,dense_transit,input_nontext])\n",
    "dense_full = Dense(1024, activation=\"relu\")(concat)\n",
    "dense_full = Dense(512, activation=\"relu\")(dense_full)\n",
    "dense_full = Dense(256, activation=\"relu\")(dense_full)\n",
    "output_layer = Dense(1, activation=\"linear\")(dense_full)\n",
    "\n",
    "model = Model(inputs=[input_name,input_amenities, input_description, input_neighborhood_overview,input_transit,input_nontext], outputs = output_layer)\n",
    "model.compile(loss = losses.LogCosh(), optimizer = \"adam\", metrics=['mae', 'mse'])\n",
    "\n",
    "print(model.summary())\n",
    "callbacks = [EarlyStopping(monitor='val_loss', patience=3, verbose=1, min_delta=0.01, restore_best_weights=True)]\n",
    "\n",
    "story = model.fit([X_tr_int_pad_name, X_tr_int_pad_amenities, X_tr_int_pad_description, X_tr_int_pad_neighborhood_overview, \n",
    "                   X_tr_int_pad_transit, X_train_n ]\n",
    "                  , y_train_n , epochs=30, verbose=1, batch_size=32, validation_split=0.2, callbacks=callbacks)"
   ]
  },
  {
   "cell_type": "code",
   "execution_count": 136,
   "metadata": {},
   "outputs": [],
   "source": [
    "preds = pd.DataFrame(model.predict([X_ts_int_pad_name, X_ts_int_pad_amenities, X_ts_int_pad_description, X_ts_int_pad_neighborhood_overview, X_ts_int_pad_transit, X_test_n ]), columns=[\"pred\"], index=X_test_nlp.index)\n",
    "preds[\"actual\"] = y_test_nlp"
   ]
  },
  {
   "cell_type": "code",
   "execution_count": 137,
   "metadata": {},
   "outputs": [
    {
     "name": "stdout",
     "output_type": "stream",
     "text": [
      "Complete Model MSE:  2496.2685587144224\n",
      "Complete Model RMSE: 49.962671653089394\n",
      "Complete Model MAE:  27.976364688436863\n",
      "\n"
     ]
    }
   ],
   "source": [
    "print(f\"Complete Model MSE:  {mean_squared_error(preds.pred, preds.actual)}\")\n",
    "print(f\"Complete Model RMSE: {math.sqrt(mean_squared_error(preds.pred, preds.actual))}\")\n",
    "print(f\"Complete Model MAE:  {mean_absolute_error(preds.pred, preds.actual)}\\n\")"
   ]
  },
  {
   "cell_type": "code",
   "execution_count": 138,
   "metadata": {},
   "outputs": [],
   "source": [
    "def show_history(story):\n",
    "    fig, (ax1, ax2) = plt.subplots(1, 2)\n",
    "    fig.set_size_inches(18.5, 10.5)\n",
    "    ax1.plot(story.history['mae'])\n",
    "    ax1.plot(story.history['val_mae'])\n",
    "    ax1.set(xlabel='epoch', ylabel='MAE')\n",
    "    ax1.legend(['train_mae', 'test_mae'], loc='best')\n",
    "    ax1.set_title('MAE evolution during NN training')\n",
    "    \n",
    "    ax2.plot(story.history['loss'])\n",
    "    ax2.plot(story.history['val_loss'])\n",
    "    ax2.set(xlabel='epoch', ylabel='loss')\n",
    "    ax2.legend(['train_loss', 'test_loss'], loc='best')\n",
    "    ax2.set_title('Loss evolution during NN training')\n",
    "    plt.show()"
   ]
  },
  {
   "cell_type": "code",
   "execution_count": 139,
   "metadata": {},
   "outputs": [
    {
     "data": {
      "image/png": "[encoded data removed]",
      "text/plain": [
       "<Figure size 1332x756 with 2 Axes>"
      ]
     },
     "metadata": {
      "needs_background": "light"
     },
     "output_type": "display_data"
    }
   ],
   "source": [
    "show_history(story)"
   ]
  },
  {
   "cell_type": "markdown",
   "metadata": {},
   "source": [
    "Early stopping seems to work with a patience level of 3. The overfitting behavior of the model is prevented. The comparison of the best model with the previous best(RFR) can be seen below."
   ]
  },
  {
   "cell_type": "code",
   "execution_count": 142,
   "metadata": {},
   "outputs": [
    {
     "data": {
      "image/png": "[encoded data removed]",
      "text/plain": [
       "<IPython.core.display.Image object>"
      ]
     },
     "execution_count": 142,
     "metadata": {},
     "output_type": "execute_result"
    }
   ],
   "source": [
    "display.Image(\"C:/Users/Berkay Kocak/Desktop/complete_model.png\")"
   ]
  },
  {
   "cell_type": "markdown",
   "metadata": {},
   "source": [
    "The model performance seems to be slightly better compared to ensemble learners in terms of MAE which was chosen as the main performance criteria due to its robustness. However Random Forest outperforms the Complete Model in terms of other metrics. The high performance of the RFR only on numeric data proves that either the textual data is not providing an additional predictive power for this particular task or the model structure is not reveal the full potential of the data. A better approach might be feeding the results of textual network to an ensemble learner which might boost its performance. However, this will not be analysed in this project due to time constraints. \n",
    "\n",
    "Ultimately, the Complete Model is also applied to the test data in the next section. "
   ]
  },
  {
   "cell_type": "markdown",
   "metadata": {},
   "source": [
    "## 4. Application to Test Data"
   ]
  },
  {
   "cell_type": "code",
   "execution_count": 132,
   "metadata": {},
   "outputs": [],
   "source": [
    "# Creating the new train and test data\n",
    "X_test_nlp = test.drop([\"listing_id\"], axis=1) \n",
    "X_train_nlp = X_nlp\n",
    "y_train_nlp = y_nlp"
   ]
  },
  {
   "cell_type": "code",
   "execution_count": 133,
   "metadata": {},
   "outputs": [],
   "source": [
    "# Dropping the nontext columns for nontext features\n",
    "X_train_n=X_train_nlp.drop(columns=['name_clean','description_clean','neighborhood_overview_clean', 'transit_clean','amenities_clean'])\n",
    "X_test_n=X_test_nlp.drop(columns=['name_clean','description_clean','neighborhood_overview_clean', 'transit_clean','amenities_clean'])"
   ]
  },
  {
   "cell_type": "code",
   "execution_count": 134,
   "metadata": {
    "scrolled": true
   },
   "outputs": [],
   "source": [
    "# If a category level is absent in the test data, set the related column to zero.\n",
    "for column in X_train_n.columns:\n",
    "    if column not in X_test_n.columns:\n",
    "        X_test_n[column] = 0"
   ]
  },
  {
   "cell_type": "markdown",
   "metadata": {},
   "source": [
    "In this section, it is analysed that for the feature \"cancellation policy\", two category levels are not observed on the test set. These levels are namely \"luxury_moderate\" and \"luxury_super_strict_95\". \n",
    "\n",
    "In the code above, to prevent any errors, the columns associating with the new category levels are added as new columns consisting of zeros."
   ]
  },
  {
   "cell_type": "code",
   "execution_count": 135,
   "metadata": {},
   "outputs": [],
   "source": [
    "# Columns are reindexed.\n",
    "column_names = X_train_n.columns\n",
    "X_test_n = X_test_n.reindex(columns=column_names)"
   ]
  },
  {
   "cell_type": "markdown",
   "metadata": {},
   "source": [
    "Since the created columns are added at the end of the dataset, they should be reindexed according to the train dataset. This operation is handled in the code cell above."
   ]
  },
  {
   "cell_type": "code",
   "execution_count": 138,
   "metadata": {},
   "outputs": [],
   "source": [
    "# Normalization of the data\n",
    "scaler = MinMaxScaler()\n",
    "scaler.fit(X_train_n)\n",
    "X_train_n = scaler.transform(X_train_n)\n",
    "X_test_n = scaler.transform(X_test_n)"
   ]
  },
  {
   "cell_type": "markdown",
   "metadata": {},
   "source": [
    "The data again should be normalized to prevent columns with larger values from dominating other columns."
   ]
  },
  {
   "cell_type": "code",
   "execution_count": 139,
   "metadata": {},
   "outputs": [],
   "source": [
    "# Preparing the label for the algorithm by setting the type\n",
    "y_train_n=np.asarray(y_train_nlp).astype(np.int)"
   ]
  },
  {
   "cell_type": "markdown",
   "metadata": {},
   "source": [
    "Tokenized objects and embedding matrices are initialized once more for the new test set. The share of out of vocabulary words for the test set is observed to be higher."
   ]
  },
  {
   "cell_type": "code",
   "execution_count": 141,
   "metadata": {},
   "outputs": [
    {
     "name": "stdout",
     "output_type": "stream",
     "text": [
      "The longest name of the training set has 30 words.\n",
      "Created embedding matrix of shape (6218, 100)\n",
      "Encountered 961 out-of-vocabulary words.\n"
     ]
    }
   ],
   "source": [
    "# Initializing the tokenizer and fitting it on the data\n",
    "tokenizer_name = Tokenizer(oov_token=1, filters='!\"#$%&()*+,-.:;<=>?@[\\\\]^`{|}~\\t\\n', lower=False)\n",
    "tokenizer_name.fit_on_texts(X_train_nlp.name_clean)\n",
    "NUM_WORDS_NAME = len(tokenizer_name.word_index) + 1\n",
    "\n",
    "# Encoding the train data\n",
    "X_tr_int_name = tokenizer_name.texts_to_sequences(X_train_nlp.name_clean)\n",
    "\n",
    "# Finding max article length\n",
    "max_article_length = max([len(article) for article in X_tr_int_name])\n",
    "print('The longest name of the training set has {} words.'.format(max_article_length))\n",
    "\n",
    "# Upper bound of the article length for padding\n",
    "MAX_NAME_LENGTH = 25\n",
    "\n",
    "# Padding the train data\n",
    "X_tr_int_pad_name = pad_sequences(X_tr_int_name, MAX_NAME_LENGTH)\n",
    "\n",
    "# Encode and pad the test data\n",
    "X_ts_int_name = tokenizer_name.texts_to_sequences(X_test_nlp.name_clean)\n",
    "X_ts_int_pad_name = pad_sequences(X_ts_int_name, MAX_NAME_LENGTH)\n",
    "\n",
    "wiki_weights_name, _ = get_embedding_matrix(tokenizer_name, wiki2vec, NUM_WORDS_NAME)"
   ]
  },
  {
   "cell_type": "code",
   "execution_count": 142,
   "metadata": {},
   "outputs": [
    {
     "name": "stdout",
     "output_type": "stream",
     "text": [
      "The longest amenities of the training set has 200 words.\n",
      "Created embedding matrix of shape (274, 100)\n",
      "Encountered 0 out-of-vocabulary words.\n"
     ]
    }
   ],
   "source": [
    "# Initializing the tokenizer and fitting it on the data\n",
    "tokenizer_amenities = Tokenizer(oov_token=1, filters='!\"#$%&()*+,-.:;<=>?@[\\\\]^`{|}~\\t\\n', lower=False)\n",
    "tokenizer_amenities.fit_on_texts(X_train_nlp.amenities_clean)\n",
    "NUM_WORDS_AMENITIES = len(tokenizer_amenities.word_index) + 1\n",
    "\n",
    "# Encoding the train data\n",
    "X_tr_int_amenities = tokenizer_amenities.texts_to_sequences(X_train_nlp.amenities_clean)\n",
    "\n",
    "# Finding max article length\n",
    "max_article_length = max([len(article) for article in X_tr_int_amenities])\n",
    "print('The longest amenities of the training set has {} words.'.format(max_article_length))\n",
    "\n",
    "# Upper bound of the article length for padding\n",
    "MAX_AMENITIES_LENGTH = 200\n",
    "\n",
    "# Padding the train data\n",
    "X_tr_int_pad_amenities = pad_sequences(X_tr_int_amenities, MAX_AMENITIES_LENGTH)\n",
    "\n",
    "# Encode and pad the test data\n",
    "X_ts_int_amenities = tokenizer_amenities.texts_to_sequences(X_test_nlp.amenities_clean)\n",
    "X_ts_int_pad_amenities = pad_sequences(X_ts_int_amenities, MAX_AMENITIES_LENGTH)\n",
    "\n",
    "wiki_weights_amenities, _ = get_embedding_matrix(tokenizer_amenities, wiki2vec, NUM_WORDS_AMENITIES)"
   ]
  },
  {
   "cell_type": "code",
   "execution_count": 143,
   "metadata": {},
   "outputs": [
    {
     "name": "stdout",
     "output_type": "stream",
     "text": [
      "The longest description of the training set has 197 words.\n",
      "Created embedding matrix of shape (29763, 100)\n",
      "Encountered 6698 out-of-vocabulary words.\n"
     ]
    }
   ],
   "source": [
    "# Initializing the tokenizer and fitting it on the data\n",
    "tokenizer_description = Tokenizer(oov_token=1, filters='!\"#$%&()*+,-.:;<=>?@[\\\\]^`{|}~\\t\\n', lower=False)\n",
    "tokenizer_description.fit_on_texts(X_train_nlp.description_clean)\n",
    "NUM_WORDS_DESCRIPTION = len(tokenizer_description.word_index) + 1\n",
    "\n",
    "# Encoding the train data\n",
    "X_tr_int_description = tokenizer_description.texts_to_sequences(X_train_nlp.description_clean)\n",
    "\n",
    "# Finding max article length\n",
    "max_article_length = max([len(article) for article in X_tr_int_description])\n",
    "print('The longest description of the training set has {} words.'.format(max_article_length))\n",
    "\n",
    "# Upper bound of the article length for padding\n",
    "MAX_DESCRIPTION_LENGTH = 200\n",
    "\n",
    "# Padding the train data\n",
    "X_tr_int_pad_description = pad_sequences(X_tr_int_description, MAX_DESCRIPTION_LENGTH)\n",
    "\n",
    "# Encode and pad the test data\n",
    "X_ts_int_description = tokenizer_description.texts_to_sequences(X_test_nlp.description_clean)\n",
    "X_ts_int_pad_description = pad_sequences(X_ts_int_description, MAX_DESCRIPTION_LENGTH)\n",
    "\n",
    "wiki_weights_description, _ = get_embedding_matrix(tokenizer_description, wiki2vec, NUM_WORDS_DESCRIPTION)"
   ]
  },
  {
   "cell_type": "code",
   "execution_count": 144,
   "metadata": {},
   "outputs": [
    {
     "name": "stdout",
     "output_type": "stream",
     "text": [
      "The longest overview of the training set has 191 words.\n",
      "Created embedding matrix of shape (19714, 100)\n",
      "Encountered 2558 out-of-vocabulary words.\n"
     ]
    }
   ],
   "source": [
    "# Initializing the tokenizer and fitting it on the data\n",
    "tokenizer_neighborhood_overview = Tokenizer(oov_token=1, filters='!\"#$%&()*+,-.:;<=>?@[\\\\]^`{|}~\\t\\n', lower=False)\n",
    "tokenizer_neighborhood_overview.fit_on_texts(X_train_nlp.neighborhood_overview_clean)\n",
    "NUM_WORDS_NEIGHBORHOOD_OVERVIEW = len(tokenizer_neighborhood_overview.word_index) + 1\n",
    "\n",
    "# Encoding the train data\n",
    "X_tr_int_neighborhood_overview = tokenizer_neighborhood_overview.texts_to_sequences(X_train_nlp.neighborhood_overview_clean)\n",
    "\n",
    "# Finding max article length\n",
    "max_article_length = max([len(article) for article in X_tr_int_neighborhood_overview])\n",
    "print('The longest overview of the training set has {} words.'.format(max_article_length))\n",
    "\n",
    "# Upper bound of the article length for padding\n",
    "MAX_NEIGHBORHOOD_OVERVIEW_LENGTH = 200\n",
    "\n",
    "# Padding the train data\n",
    "X_tr_int_pad_neighborhood_overview = pad_sequences(X_tr_int_neighborhood_overview, MAX_NEIGHBORHOOD_OVERVIEW_LENGTH)\n",
    "\n",
    "# Encode and pad the test data\n",
    "X_ts_int_neighborhood_overview = tokenizer_neighborhood_overview.texts_to_sequences(X_test_nlp.neighborhood_overview_clean)\n",
    "X_ts_int_pad_neighborhood_overview = pad_sequences(X_ts_int_neighborhood_overview, MAX_NEIGHBORHOOD_OVERVIEW_LENGTH)\n",
    "\n",
    "wiki_weights_neighborhood_overview, _ = get_embedding_matrix(tokenizer_neighborhood_overview, wiki2vec, NUM_WORDS_NEIGHBORHOOD_OVERVIEW)"
   ]
  },
  {
   "cell_type": "code",
   "execution_count": 145,
   "metadata": {},
   "outputs": [
    {
     "name": "stdout",
     "output_type": "stream",
     "text": [
      "The longest transit of the training set has 146 words.\n",
      "Created embedding matrix of shape (10967, 100)\n",
      "Encountered 1659 out-of-vocabulary words.\n"
     ]
    }
   ],
   "source": [
    "# Initializing the tokenizer and fitting it on the data\n",
    "tokenizer_transit = Tokenizer(oov_token=1, filters='!\"#$%&()*+,-.:;<=>?@[\\\\]^`{|}~\\t\\n', lower=False)\n",
    "tokenizer_transit.fit_on_texts(X_train_nlp.transit_clean)\n",
    "NUM_WORDS_TRANSIT = len(tokenizer_transit.word_index) + 1\n",
    "\n",
    "# Encoding the train data\n",
    "X_tr_int_transit = tokenizer_transit.texts_to_sequences(X_train_nlp.transit_clean)\n",
    "\n",
    "# Finding max article length\n",
    "max_article_length = max([len(article) for article in X_tr_int_transit])\n",
    "print('The longest transit of the training set has {} words.'.format(max_article_length))\n",
    "\n",
    "# Upper bound of the article length for padding\n",
    "MAX_TRANSIT_LENGTH = 150\n",
    "\n",
    "# Padding the train data\n",
    "X_tr_int_pad_transit = pad_sequences(X_tr_int_transit, MAX_TRANSIT_LENGTH)\n",
    "\n",
    "# Encode and pad the test data\n",
    "X_ts_int_transit = tokenizer_transit.texts_to_sequences(X_test_nlp.transit_clean)\n",
    "X_ts_int_pad_transit = pad_sequences(X_ts_int_transit, MAX_TRANSIT_LENGTH)\n",
    "\n",
    "wiki_weights_transit, _ = get_embedding_matrix(tokenizer_transit, wiki2vec, NUM_WORDS_TRANSIT)"
   ]
  },
  {
   "cell_type": "code",
   "execution_count": 146,
   "metadata": {},
   "outputs": [
    {
     "name": "stdout",
     "output_type": "stream",
     "text": [
      "Model: \"model\"\n",
      "__________________________________________________________________________________________________\n",
      "Layer (type)                    Output Shape         Param #     Connected to                     \n",
      "==================================================================================================\n",
      "input_1 (InputLayer)            [(None, 25)]         0                                            \n",
      "__________________________________________________________________________________________________\n",
      "input_2 (InputLayer)            [(None, 200)]        0                                            \n",
      "__________________________________________________________________________________________________\n",
      "input_3 (InputLayer)            [(None, 200)]        0                                            \n",
      "__________________________________________________________________________________________________\n",
      "input_4 (InputLayer)            [(None, 200)]        0                                            \n",
      "__________________________________________________________________________________________________\n",
      "input_5 (InputLayer)            [(None, 150)]        0                                            \n",
      "__________________________________________________________________________________________________\n",
      "embedding (Embedding)           (None, 25, 100)      621800      input_1[0][0]                    \n",
      "__________________________________________________________________________________________________\n",
      "embedding_1 (Embedding)         (None, 200, 100)     27400       input_2[0][0]                    \n",
      "__________________________________________________________________________________________________\n",
      "embedding_2 (Embedding)         (None, 200, 100)     2976300     input_3[0][0]                    \n",
      "__________________________________________________________________________________________________\n",
      "embedding_3 (Embedding)         (None, 200, 100)     1971400     input_4[0][0]                    \n",
      "__________________________________________________________________________________________________\n",
      "embedding_4 (Embedding)         (None, 150, 100)     1096700     input_5[0][0]                    \n",
      "__________________________________________________________________________________________________\n",
      "lstm (LSTM)                     (None, 100)          80400       embedding[0][0]                  \n",
      "__________________________________________________________________________________________________\n",
      "lstm_1 (LSTM)                   (None, 100)          80400       embedding_1[0][0]                \n",
      "__________________________________________________________________________________________________\n",
      "lstm_2 (LSTM)                   (None, 100)          80400       embedding_2[0][0]                \n",
      "__________________________________________________________________________________________________\n",
      "lstm_3 (LSTM)                   (None, 100)          80400       embedding_3[0][0]                \n",
      "__________________________________________________________________________________________________\n",
      "lstm_4 (LSTM)                   (None, 100)          80400       embedding_4[0][0]                \n",
      "__________________________________________________________________________________________________\n",
      "dense (Dense)                   (None, 1)            101         lstm[0][0]                       \n",
      "__________________________________________________________________________________________________\n",
      "dense_1 (Dense)                 (None, 1)            101         lstm_1[0][0]                     \n",
      "__________________________________________________________________________________________________\n",
      "dense_2 (Dense)                 (None, 1)            101         lstm_2[0][0]                     \n",
      "__________________________________________________________________________________________________\n",
      "dense_3 (Dense)                 (None, 1)            101         lstm_3[0][0]                     \n",
      "__________________________________________________________________________________________________\n",
      "dense_4 (Dense)                 (None, 1)            101         lstm_4[0][0]                     \n",
      "__________________________________________________________________________________________________\n",
      "input_6 (InputLayer)            [(None, 79)]         0                                            \n",
      "__________________________________________________________________________________________________\n",
      "concatenate (Concatenate)       (None, 84)           0           dense[0][0]                      \n",
      "                                                                 dense_1[0][0]                    \n",
      "                                                                 dense_2[0][0]                    \n",
      "                                                                 dense_3[0][0]                    \n",
      "                                                                 dense_4[0][0]                    \n",
      "                                                                 input_6[0][0]                    \n",
      "__________________________________________________________________________________________________\n",
      "dense_5 (Dense)                 (None, 1024)         87040       concatenate[0][0]                \n",
      "__________________________________________________________________________________________________\n",
      "dense_6 (Dense)                 (None, 512)          524800      dense_5[0][0]                    \n",
      "__________________________________________________________________________________________________\n",
      "dense_7 (Dense)                 (None, 256)          131328      dense_6[0][0]                    \n",
      "__________________________________________________________________________________________________\n",
      "dense_8 (Dense)                 (None, 1)            257         dense_7[0][0]                    \n",
      "==================================================================================================\n",
      "Total params: 7,839,530\n",
      "Trainable params: 1,145,930\n",
      "Non-trainable params: 6,693,600\n",
      "__________________________________________________________________________________________________\n",
      "None\n",
      "Epoch 1/17\n",
      "1383/1383 [==============================] - 847s 601ms/step - loss: 32.9076 - mae: 33.5871 - mse: 3398.7383 - val_loss: 29.5307 - val_mae: 30.2096 - val_mse: 2690.9631\n",
      "Epoch 2/17\n",
      "1383/1383 [==============================] - 818s 591ms/step - loss: 29.6917 - mae: 30.3697 - mse: 2823.3064 - val_loss: 28.3113 - val_mae: 28.9885 - val_mse: 2535.8540\n",
      "Epoch 3/17\n",
      "1383/1383 [==============================] - 816s 590ms/step - loss: 28.4793 - mae: 29.1569 - mse: 2619.4380 - val_loss: 28.0827 - val_mae: 28.7600 - val_mse: 2512.4556\n",
      "Epoch 4/17\n",
      "1383/1383 [==============================] - 816s 590ms/step - loss: 27.5759 - mae: 28.2535 - mse: 2464.2000 - val_loss: 28.5611 - val_mae: 29.2373 - val_mse: 2616.1895\n",
      "Epoch 5/17\n",
      "1383/1383 [==============================] - 822s 594ms/step - loss: 26.6943 - mae: 27.3710 - mse: 2357.7104 - val_loss: 27.5535 - val_mae: 28.2309 - val_mse: 2391.3867\n",
      "Epoch 6/17\n",
      "1383/1383 [==============================] - 875s 633ms/step - loss: 26.0399 - mae: 26.7165 - mse: 2249.7764 - val_loss: 27.5520 - val_mae: 28.2283 - val_mse: 2399.0337\n",
      "Epoch 7/17\n",
      "1383/1383 [==============================] - 848s 613ms/step - loss: 25.2146 - mae: 25.8911 - mse: 2136.3079 - val_loss: 27.4752 - val_mae: 28.1524 - val_mse: 2461.8210\n",
      "Epoch 8/17\n",
      "1383/1383 [==============================] - 845s 611ms/step - loss: 24.5575 - mae: 25.2329 - mse: 2044.8359 - val_loss: 26.9968 - val_mae: 27.6741 - val_mse: 2352.6497\n",
      "Epoch 9/17\n",
      "1383/1383 [==============================] - 859s 621ms/step - loss: 23.6639 - mae: 24.3387 - mse: 1917.2976 - val_loss: 28.0905 - val_mae: 28.7662 - val_mse: 2476.7302\n",
      "Epoch 10/17\n",
      "1383/1383 [==============================] - 843s 610ms/step - loss: 22.8372 - mae: 23.5111 - mse: 1788.2888 - val_loss: 27.2591 - val_mae: 27.9358 - val_mse: 2400.4424\n",
      "Epoch 11/17\n",
      "1383/1383 [==============================] - 809s 585ms/step - loss: 22.0212 - mae: 22.6953 - mse: 1674.9645 - val_loss: 27.3020 - val_mae: 27.9794 - val_mse: 2308.8193\n",
      "Restoring model weights from the end of the best epoch.\n",
      "Epoch 00011: early stopping\n"
     ]
    }
   ],
   "source": [
    "# Inputs\n",
    "input_name = Input(shape=(25, ))\n",
    "input_amenities = Input(shape=(200, ))\n",
    "input_description = Input(shape=(200, ))\n",
    "input_neighborhood_overview = Input(shape=(200, ))\n",
    "input_transit = Input(shape=(150, ))\n",
    "input_nontext = Input(shape=(79, ))\n",
    "\n",
    "# Name\n",
    "name_embeddings = Embedding(NUM_WORDS_NAME, output_dim=100,\n",
    "                     embeddings_initializer=Constant(wiki_weights_name),\n",
    "                     input_length=25, trainable=False)(input_name)\n",
    "LSTM_name = LSTM(100, return_sequences=False)(name_embeddings)\n",
    "dense_name = Dense(1, activation=\"linear\")(LSTM_name)\n",
    "\n",
    "# Amenities\n",
    "amenities_embeddings = Embedding(NUM_WORDS_AMENITIES, output_dim=100,\n",
    "                     embeddings_initializer=Constant(wiki_weights_amenities),\n",
    "                     input_length=200, trainable=False)(input_amenities)\n",
    "LSTM_amenities = LSTM(100, return_sequences=False)(amenities_embeddings)\n",
    "dense_amenities = Dense(1, activation=\"linear\")(LSTM_amenities)\n",
    "\n",
    "# Description\n",
    "description_embeddings = Embedding(NUM_WORDS_DESCRIPTION, output_dim=100,\n",
    "                     embeddings_initializer=Constant(wiki_weights_description),\n",
    "                     input_length=200, trainable=False)(input_description)\n",
    "LSTM_description = LSTM(100, return_sequences=False)(description_embeddings)\n",
    "dense_description = Dense(1, activation=\"linear\")(LSTM_description)\n",
    "\n",
    "# Neighborhood_Overview\n",
    "neighborhood_overview_embeddings = Embedding(NUM_WORDS_NEIGHBORHOOD_OVERVIEW, output_dim=100,\n",
    "                     embeddings_initializer=Constant(wiki_weights_neighborhood_overview),\n",
    "                     input_length=200, trainable=False)(input_neighborhood_overview)\n",
    "LSTM_neighborhood_overview = LSTM(100, return_sequences=False)(neighborhood_overview_embeddings)\n",
    "dense_neighborhood_overview = Dense(1, activation=\"linear\")(LSTM_neighborhood_overview)\n",
    "\n",
    "# Transit\n",
    "transit_embeddings = Embedding(NUM_WORDS_TRANSIT, output_dim=100,\n",
    "                     embeddings_initializer=Constant(wiki_weights_transit),\n",
    "                     input_length=150, trainable=False)(input_transit)\n",
    "LSTM_transit = LSTM(100, return_sequences=False)(transit_embeddings)\n",
    "dense_transit = Dense(1, activation=\"linear\")(LSTM_transit)\n",
    "\n",
    "# Concatenate\n",
    "concat = concatenate([dense_name, dense_amenities, dense_description,dense_neighborhood_overview,dense_transit,input_nontext])\n",
    "dense_full = Dense(1024, activation=\"relu\")(concat)\n",
    "dense_full = Dense(512, activation=\"relu\")(dense_full)\n",
    "dense_full = Dense(256, activation=\"relu\")(dense_full)\n",
    "output_layer = Dense(1, activation=\"linear\")(dense_full)\n",
    "\n",
    "model = Model(inputs=[input_name,input_amenities, input_description, input_neighborhood_overview,input_transit,input_nontext], outputs = output_layer)\n",
    "model.compile(loss = losses.LogCosh(), optimizer = \"adam\", metrics=['mae', 'mse'])\n",
    "\n",
    "print(model.summary())\n",
    "callbacks = [EarlyStopping(monitor='val_loss', patience=3, verbose=1, min_delta=0.01, restore_best_weights=True)]\n",
    "\n",
    "story = model.fit([X_tr_int_pad_name, X_tr_int_pad_amenities, X_tr_int_pad_description, X_tr_int_pad_neighborhood_overview, \n",
    "                   X_tr_int_pad_transit, X_train_n ]\n",
    "                  , y_train_n , epochs=15, verbose=1, batch_size=32, validation_split=0.2, callbacks=callbacks)"
   ]
  },
  {
   "cell_type": "code",
   "execution_count": 147,
   "metadata": {},
   "outputs": [],
   "source": [
    "# A dataframe for the submission is created\n",
    "submission= pd.DataFrame(model.predict([X_ts_int_pad_name, X_ts_int_pad_amenities, X_ts_int_pad_description, X_ts_int_pad_neighborhood_overview, X_ts_int_pad_transit, X_test_n ]), columns=[\"price\"], index=test.index)\n",
    "submission['listing_id'] = test['listing_id']"
   ]
  },
  {
   "cell_type": "code",
   "execution_count": 149,
   "metadata": {},
   "outputs": [],
   "source": [
    "# The dataframe is reindexed so that it is eligible for submission\n",
    "submission = submission.reindex(columns=['listing_id',\"price\"])"
   ]
  },
  {
   "cell_type": "code",
   "execution_count": 152,
   "metadata": {},
   "outputs": [
    {
     "data": {
      "text/html": [
       "<div>\n",
       "<style scoped>\n",
       "    .dataframe tbody tr th:only-of-type {\n",
       "        vertical-align: middle;\n",
       "    }\n",
       "\n",
       "    .dataframe tbody tr th {\n",
       "        vertical-align: top;\n",
       "    }\n",
       "\n",
       "    .dataframe thead th {\n",
       "        text-align: right;\n",
       "    }\n",
       "</style>\n",
       "<table border=\"1\" class=\"dataframe\">\n",
       "  <thead>\n",
       "    <tr style=\"text-align: right;\">\n",
       "      <th></th>\n",
       "      <th>listing_id</th>\n",
       "      <th>price</th>\n",
       "    </tr>\n",
       "  </thead>\n",
       "  <tbody>\n",
       "    <tr>\n",
       "      <td>0</td>\n",
       "      <td>0FEMC4VA5U</td>\n",
       "      <td>115.012505</td>\n",
       "    </tr>\n",
       "    <tr>\n",
       "      <td>1</td>\n",
       "      <td>PQ2BYEO0QR</td>\n",
       "      <td>125.729652</td>\n",
       "    </tr>\n",
       "    <tr>\n",
       "      <td>2</td>\n",
       "      <td>3FP6WFHUBN</td>\n",
       "      <td>68.181137</td>\n",
       "    </tr>\n",
       "    <tr>\n",
       "      <td>3</td>\n",
       "      <td>GG0V2KDG90</td>\n",
       "      <td>50.297401</td>\n",
       "    </tr>\n",
       "    <tr>\n",
       "      <td>4</td>\n",
       "      <td>TZVVK4YSIO</td>\n",
       "      <td>109.592918</td>\n",
       "    </tr>\n",
       "    <tr>\n",
       "      <td>...</td>\n",
       "      <td>...</td>\n",
       "      <td>...</td>\n",
       "    </tr>\n",
       "    <tr>\n",
       "      <td>29764</td>\n",
       "      <td>SCRJ69GZPK</td>\n",
       "      <td>419.179749</td>\n",
       "    </tr>\n",
       "    <tr>\n",
       "      <td>29765</td>\n",
       "      <td>ILZN192SUC</td>\n",
       "      <td>39.475555</td>\n",
       "    </tr>\n",
       "    <tr>\n",
       "      <td>29766</td>\n",
       "      <td>A44OQ7GPYY</td>\n",
       "      <td>182.219696</td>\n",
       "    </tr>\n",
       "    <tr>\n",
       "      <td>29767</td>\n",
       "      <td>KZ742YLH4X</td>\n",
       "      <td>75.336121</td>\n",
       "    </tr>\n",
       "    <tr>\n",
       "      <td>29768</td>\n",
       "      <td>YOCQ63ZYYD</td>\n",
       "      <td>97.161163</td>\n",
       "    </tr>\n",
       "  </tbody>\n",
       "</table>\n",
       "<p>29769 rows × 2 columns</p>\n",
       "</div>"
      ],
      "text/plain": [
       "       listing_id       price\n",
       "0      0FEMC4VA5U  115.012505\n",
       "1      PQ2BYEO0QR  125.729652\n",
       "2      3FP6WFHUBN   68.181137\n",
       "3      GG0V2KDG90   50.297401\n",
       "4      TZVVK4YSIO  109.592918\n",
       "...           ...         ...\n",
       "29764  SCRJ69GZPK  419.179749\n",
       "29765  ILZN192SUC   39.475555\n",
       "29766  A44OQ7GPYY  182.219696\n",
       "29767  KZ742YLH4X   75.336121\n",
       "29768  YOCQ63ZYYD   97.161163\n",
       "\n",
       "[29769 rows x 2 columns]"
      ]
     },
     "execution_count": 152,
     "metadata": {},
     "output_type": "execute_result"
    }
   ],
   "source": [
    "# Submission csv is created for Kaggle\n",
    "submission.to_csv('sample_submission.csv', index = False)\n",
    "submission"
   ]
  },
  {
   "cell_type": "code",
   "execution_count": 154,
   "metadata": {
    "scrolled": true
   },
   "outputs": [
    {
     "data": {
      "image/png": "[encoded data removed]",
      "text/plain": [
       "<Figure size 1332x756 with 2 Axes>"
      ]
     },
     "metadata": {
      "needs_background": "light"
     },
     "output_type": "display_data"
    }
   ],
   "source": [
    "show_history(story)"
   ]
  },
  {
   "cell_type": "markdown",
   "metadata": {},
   "source": [
    "The graphs above proves that the early stopping condition works successfully to prevent the overfitting behavior of the model. When the test set scores stop improving, the model chooses the best epoch and returns it as a best model."
   ]
  },
  {
   "cell_type": "markdown",
   "metadata": {},
   "source": [
    "## 5. Conclusions"
   ]
  },
  {
   "cell_type": "markdown",
   "metadata": {},
   "source": [
    "AirBnB data is analysed in detail and several models are built in order to predict daily rental prices of houses. The analysis of different models showed that either textual data does not improve the predictive performance of the model for this particular dataset or the power of the textual data was not fully utilized with this modelling approach. \n",
    "\n",
    "A better idea for modelling might be feeding the outputs of textual LSTMs as inputs to ensemble learners. This might be a better approach seeing the high performance of ensemble learners on the non-text data in the beginning. However, it is outside of the scope of this project due to time limitations.\n",
    "\n",
    "The task itself is a good example of how a real world dataset looks like including several data such as tabular, text and image. Although image data was not included in this project, another way to improve the performance might be using convolutional neural networks incorporating the additional image data. "
   ]
  }
 ],
 "metadata": {
  "kernelspec": {
   "display_name": "Python 3 (ipykernel)",
   "language": "python",
   "name": "python3"
  },
  "language_info": {
   "codemirror_mode": {
    "name": "ipython",
    "version": 3
   },
   "file_extension": ".py",
   "mimetype": "text/x-python",
   "name": "python",
   "nbconvert_exporter": "python",
   "pygments_lexer": "ipython3",
   "version": "3.7.11"
  }
 },
 "nbformat": 4,
 "nbformat_minor": 2
}
